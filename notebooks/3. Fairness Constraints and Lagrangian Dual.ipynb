{
 "cells": [
  {
   "cell_type": "code",
   "execution_count": 1,
   "metadata": {
    "slideshow": {
     "slide_type": "skip"
    }
   },
   "outputs": [],
   "source": [
    "# ============================================================\n",
    "# Notebook setup\n",
    "# ============================================================\n",
    "\n",
    "%load_ext autoreload\n",
    "%autoreload 2\n",
    "\n",
    "# Control figure size\n",
    "interactive_figures = False\n",
    "if interactive_figures:\n",
    "    # Normal behavior\n",
    "    %matplotlib widget\n",
    "    figsize=(9, 3)\n",
    "else:\n",
    "    # PDF export behavior\n",
    "    figsize=(14, 5)\n",
    "\n",
    "from util import cst\n",
    "import numpy as np\n",
    "from matplotlib import pyplot as plt\n",
    "import pandas as pd\n",
    "import tensorflow as tf\n",
    "from tensorflow import keras\n",
    "from tensorflow.keras import layers, callbacks\n",
    "from sklearn.metrics import r2_score, mean_squared_error, mean_absolute_error\n",
    "from sklearn.feature_selection import SelectKBest, f_regression\n",
    "from tensorflow.keras import regularizers\n",
    "\n",
    "# Load data\n",
    "data_folder = '/app/data'"
   ]
  },
  {
   "cell_type": "markdown",
   "metadata": {
    "slideshow": {
     "slide_type": "slide"
    }
   },
   "source": [
    "# Fairness Issues in Machine Learning"
   ]
  },
  {
   "cell_type": "markdown",
   "metadata": {
    "slideshow": {
     "slide_type": "subslide"
    }
   },
   "source": [
    "## Fairness Issues in Machine Learning\n",
    "\n",
    "**Say we want to estimate the risk of violent crimes in given population**\n",
    "\n",
    "<center><img src=\"assets/minority-report.jpg\" width=800px/></center>\n",
    "\n",
    "* This is obviously a very _ethically sensitive (and questionable) task_\n",
    "* Our model may easily end up discriminating some social groups\n",
    "\n",
    "**Which makes it a good test case for _fairness issues in data-driven models_**\n"
   ]
  },
  {
   "cell_type": "markdown",
   "metadata": {
    "slideshow": {
     "slide_type": "subslide"
    }
   },
   "source": [
    "## Loading and Preparing the Dataset\n",
    "\n",
    "**We will start by loading the [\"crime\" UCI dataset](https://archive.ics.uci.edu/ml/datasets/Communities+and+Crime)**\n",
    "\n",
    "We will use a pre-processed version made available by our support module:"
   ]
  },
  {
   "cell_type": "code",
   "execution_count": 2,
   "metadata": {
    "scrolled": false
   },
   "outputs": [
    {
     "data": {
      "text/html": [
       "<div>\n",
       "<style scoped>\n",
       "    .dataframe tbody tr th:only-of-type {\n",
       "        vertical-align: middle;\n",
       "    }\n",
       "\n",
       "    .dataframe tbody tr th {\n",
       "        vertical-align: top;\n",
       "    }\n",
       "\n",
       "    .dataframe thead th {\n",
       "        text-align: right;\n",
       "    }\n",
       "</style>\n",
       "<table border=\"1\" class=\"dataframe\">\n",
       "  <thead>\n",
       "    <tr style=\"text-align: right;\">\n",
       "      <th></th>\n",
       "      <th>communityname</th>\n",
       "      <th>state</th>\n",
       "      <th>fold</th>\n",
       "      <th>pop</th>\n",
       "      <th>race</th>\n",
       "      <th>pct12-21</th>\n",
       "      <th>pct12-29</th>\n",
       "      <th>pct16-24</th>\n",
       "      <th>pct65up</th>\n",
       "      <th>pctUrban</th>\n",
       "      <th>...</th>\n",
       "      <th>pctForeignBorn</th>\n",
       "      <th>pctBornStateResid</th>\n",
       "      <th>pctSameHouse-5</th>\n",
       "      <th>pctSameCounty-5</th>\n",
       "      <th>pctSameState-5</th>\n",
       "      <th>landArea</th>\n",
       "      <th>popDensity</th>\n",
       "      <th>pctUsePubTrans</th>\n",
       "      <th>pctOfficDrugUnit</th>\n",
       "      <th>violentPerPop</th>\n",
       "    </tr>\n",
       "  </thead>\n",
       "  <tbody>\n",
       "    <tr>\n",
       "      <th>1008</th>\n",
       "      <td>EastLampetertownship</td>\n",
       "      <td>PA</td>\n",
       "      <td>5</td>\n",
       "      <td>11999</td>\n",
       "      <td>0</td>\n",
       "      <td>0.1203</td>\n",
       "      <td>0.2544</td>\n",
       "      <td>0.1208</td>\n",
       "      <td>0.1302</td>\n",
       "      <td>0.5776</td>\n",
       "      <td>...</td>\n",
       "      <td>0.0288</td>\n",
       "      <td>0.8132</td>\n",
       "      <td>0.6033</td>\n",
       "      <td>0.8597</td>\n",
       "      <td>0.9219</td>\n",
       "      <td>20.7</td>\n",
       "      <td>580.7</td>\n",
       "      <td>0.0103</td>\n",
       "      <td>0.0000</td>\n",
       "      <td>147.49</td>\n",
       "    </tr>\n",
       "    <tr>\n",
       "      <th>1271</th>\n",
       "      <td>EastProvidencecity</td>\n",
       "      <td>RI</td>\n",
       "      <td>6</td>\n",
       "      <td>50380</td>\n",
       "      <td>0</td>\n",
       "      <td>0.1171</td>\n",
       "      <td>0.2459</td>\n",
       "      <td>0.1159</td>\n",
       "      <td>0.1660</td>\n",
       "      <td>1.0000</td>\n",
       "      <td>...</td>\n",
       "      <td>0.1474</td>\n",
       "      <td>0.6561</td>\n",
       "      <td>0.6557</td>\n",
       "      <td>0.8929</td>\n",
       "      <td>0.9252</td>\n",
       "      <td>13.9</td>\n",
       "      <td>3629.0</td>\n",
       "      <td>0.0357</td>\n",
       "      <td>0.0000</td>\n",
       "      <td>150.88</td>\n",
       "    </tr>\n",
       "    <tr>\n",
       "      <th>1936</th>\n",
       "      <td>Betheltown</td>\n",
       "      <td>CT</td>\n",
       "      <td>9</td>\n",
       "      <td>17541</td>\n",
       "      <td>0</td>\n",
       "      <td>0.1356</td>\n",
       "      <td>0.2507</td>\n",
       "      <td>0.1138</td>\n",
       "      <td>0.0804</td>\n",
       "      <td>0.8514</td>\n",
       "      <td>...</td>\n",
       "      <td>0.0853</td>\n",
       "      <td>0.4878</td>\n",
       "      <td>0.5953</td>\n",
       "      <td>0.8485</td>\n",
       "      <td>0.8689</td>\n",
       "      <td>17.4</td>\n",
       "      <td>1008.2</td>\n",
       "      <td>0.0252</td>\n",
       "      <td>0.0000</td>\n",
       "      <td>95.47</td>\n",
       "    </tr>\n",
       "    <tr>\n",
       "      <th>1601</th>\n",
       "      <td>Crowleycity</td>\n",
       "      <td>LA</td>\n",
       "      <td>8</td>\n",
       "      <td>13983</td>\n",
       "      <td>0</td>\n",
       "      <td>0.1506</td>\n",
       "      <td>0.2587</td>\n",
       "      <td>0.1234</td>\n",
       "      <td>0.1302</td>\n",
       "      <td>0.0000</td>\n",
       "      <td>...</td>\n",
       "      <td>0.0029</td>\n",
       "      <td>0.9314</td>\n",
       "      <td>0.5898</td>\n",
       "      <td>0.9219</td>\n",
       "      <td>0.9769</td>\n",
       "      <td>4.7</td>\n",
       "      <td>2957.5</td>\n",
       "      <td>0.0098</td>\n",
       "      <td>0.0000</td>\n",
       "      <td>1029.02</td>\n",
       "    </tr>\n",
       "    <tr>\n",
       "      <th>293</th>\n",
       "      <td>Pawtucketcity</td>\n",
       "      <td>RI</td>\n",
       "      <td>2</td>\n",
       "      <td>72644</td>\n",
       "      <td>0</td>\n",
       "      <td>0.1230</td>\n",
       "      <td>0.2725</td>\n",
       "      <td>0.1276</td>\n",
       "      <td>0.1464</td>\n",
       "      <td>1.0000</td>\n",
       "      <td>...</td>\n",
       "      <td>0.1771</td>\n",
       "      <td>0.6363</td>\n",
       "      <td>0.5807</td>\n",
       "      <td>0.8805</td>\n",
       "      <td>0.8906</td>\n",
       "      <td>9.1</td>\n",
       "      <td>8027.0</td>\n",
       "      <td>0.0318</td>\n",
       "      <td>0.1103</td>\n",
       "      <td>458.28</td>\n",
       "    </tr>\n",
       "    <tr>\n",
       "      <th>...</th>\n",
       "      <td>...</td>\n",
       "      <td>...</td>\n",
       "      <td>...</td>\n",
       "      <td>...</td>\n",
       "      <td>...</td>\n",
       "      <td>...</td>\n",
       "      <td>...</td>\n",
       "      <td>...</td>\n",
       "      <td>...</td>\n",
       "      <td>...</td>\n",
       "      <td>...</td>\n",
       "      <td>...</td>\n",
       "      <td>...</td>\n",
       "      <td>...</td>\n",
       "      <td>...</td>\n",
       "      <td>...</td>\n",
       "      <td>...</td>\n",
       "      <td>...</td>\n",
       "      <td>...</td>\n",
       "      <td>...</td>\n",
       "      <td>...</td>\n",
       "    </tr>\n",
       "    <tr>\n",
       "      <th>1758</th>\n",
       "      <td>RockyMountcity</td>\n",
       "      <td>NC</td>\n",
       "      <td>8</td>\n",
       "      <td>48997</td>\n",
       "      <td>0</td>\n",
       "      <td>0.1454</td>\n",
       "      <td>0.2653</td>\n",
       "      <td>0.1247</td>\n",
       "      <td>0.1190</td>\n",
       "      <td>1.0000</td>\n",
       "      <td>...</td>\n",
       "      <td>0.0077</td>\n",
       "      <td>0.8138</td>\n",
       "      <td>0.5211</td>\n",
       "      <td>0.7676</td>\n",
       "      <td>0.9057</td>\n",
       "      <td>25.9</td>\n",
       "      <td>1893.2</td>\n",
       "      <td>0.0056</td>\n",
       "      <td>0.0354</td>\n",
       "      <td>1275.11</td>\n",
       "    </tr>\n",
       "    <tr>\n",
       "      <th>1822</th>\n",
       "      <td>Amarillocity</td>\n",
       "      <td>TX</td>\n",
       "      <td>9</td>\n",
       "      <td>157615</td>\n",
       "      <td>0</td>\n",
       "      <td>0.1391</td>\n",
       "      <td>0.2660</td>\n",
       "      <td>0.1244</td>\n",
       "      <td>0.1085</td>\n",
       "      <td>1.0000</td>\n",
       "      <td>...</td>\n",
       "      <td>0.0412</td>\n",
       "      <td>0.6651</td>\n",
       "      <td>0.4834</td>\n",
       "      <td>0.7204</td>\n",
       "      <td>0.9198</td>\n",
       "      <td>91.1</td>\n",
       "      <td>1730.1</td>\n",
       "      <td>0.0085</td>\n",
       "      <td>0.1600</td>\n",
       "      <td>671.46</td>\n",
       "    </tr>\n",
       "    <tr>\n",
       "      <th>2207</th>\n",
       "      <td>WestHaventown</td>\n",
       "      <td>CT</td>\n",
       "      <td>10</td>\n",
       "      <td>54021</td>\n",
       "      <td>0</td>\n",
       "      <td>0.1186</td>\n",
       "      <td>0.2772</td>\n",
       "      <td>0.1318</td>\n",
       "      <td>0.1339</td>\n",
       "      <td>1.0000</td>\n",
       "      <td>...</td>\n",
       "      <td>0.0837</td>\n",
       "      <td>0.7031</td>\n",
       "      <td>0.5911</td>\n",
       "      <td>0.8626</td>\n",
       "      <td>0.9148</td>\n",
       "      <td>11.2</td>\n",
       "      <td>4812.3</td>\n",
       "      <td>0.0335</td>\n",
       "      <td>0.0566</td>\n",
       "      <td>285.73</td>\n",
       "    </tr>\n",
       "    <tr>\n",
       "      <th>1081</th>\n",
       "      <td>Humblecity</td>\n",
       "      <td>TX</td>\n",
       "      <td>5</td>\n",
       "      <td>12060</td>\n",
       "      <td>0</td>\n",
       "      <td>0.1545</td>\n",
       "      <td>0.3184</td>\n",
       "      <td>0.1530</td>\n",
       "      <td>0.0719</td>\n",
       "      <td>1.0000</td>\n",
       "      <td>...</td>\n",
       "      <td>0.0638</td>\n",
       "      <td>0.5983</td>\n",
       "      <td>0.3252</td>\n",
       "      <td>0.7522</td>\n",
       "      <td>0.8945</td>\n",
       "      <td>10.2</td>\n",
       "      <td>1180.0</td>\n",
       "      <td>0.0111</td>\n",
       "      <td>0.0000</td>\n",
       "      <td>771.88</td>\n",
       "    </tr>\n",
       "    <tr>\n",
       "      <th>1867</th>\n",
       "      <td>VanBurencity</td>\n",
       "      <td>AR</td>\n",
       "      <td>9</td>\n",
       "      <td>14979</td>\n",
       "      <td>0</td>\n",
       "      <td>0.1539</td>\n",
       "      <td>0.2826</td>\n",
       "      <td>0.1288</td>\n",
       "      <td>0.1078</td>\n",
       "      <td>1.0000</td>\n",
       "      <td>...</td>\n",
       "      <td>0.0210</td>\n",
       "      <td>0.6810</td>\n",
       "      <td>0.4489</td>\n",
       "      <td>0.7048</td>\n",
       "      <td>0.8569</td>\n",
       "      <td>15.2</td>\n",
       "      <td>986.5</td>\n",
       "      <td>0.0000</td>\n",
       "      <td>0.0000</td>\n",
       "      <td>105.23</td>\n",
       "    </tr>\n",
       "  </tbody>\n",
       "</table>\n",
       "<p>1993 rows × 101 columns</p>\n",
       "</div>"
      ],
      "text/plain": [
       "             communityname state  fold     pop  race  pct12-21  pct12-29  \\\n",
       "1008  EastLampetertownship    PA     5   11999     0    0.1203    0.2544   \n",
       "1271    EastProvidencecity    RI     6   50380     0    0.1171    0.2459   \n",
       "1936            Betheltown    CT     9   17541     0    0.1356    0.2507   \n",
       "1601           Crowleycity    LA     8   13983     0    0.1506    0.2587   \n",
       "293          Pawtucketcity    RI     2   72644     0    0.1230    0.2725   \n",
       "...                    ...   ...   ...     ...   ...       ...       ...   \n",
       "1758        RockyMountcity    NC     8   48997     0    0.1454    0.2653   \n",
       "1822          Amarillocity    TX     9  157615     0    0.1391    0.2660   \n",
       "2207         WestHaventown    CT    10   54021     0    0.1186    0.2772   \n",
       "1081            Humblecity    TX     5   12060     0    0.1545    0.3184   \n",
       "1867          VanBurencity    AR     9   14979     0    0.1539    0.2826   \n",
       "\n",
       "      pct16-24  pct65up  pctUrban  ...  pctForeignBorn  pctBornStateResid  \\\n",
       "1008    0.1208   0.1302    0.5776  ...          0.0288             0.8132   \n",
       "1271    0.1159   0.1660    1.0000  ...          0.1474             0.6561   \n",
       "1936    0.1138   0.0804    0.8514  ...          0.0853             0.4878   \n",
       "1601    0.1234   0.1302    0.0000  ...          0.0029             0.9314   \n",
       "293     0.1276   0.1464    1.0000  ...          0.1771             0.6363   \n",
       "...        ...      ...       ...  ...             ...                ...   \n",
       "1758    0.1247   0.1190    1.0000  ...          0.0077             0.8138   \n",
       "1822    0.1244   0.1085    1.0000  ...          0.0412             0.6651   \n",
       "2207    0.1318   0.1339    1.0000  ...          0.0837             0.7031   \n",
       "1081    0.1530   0.0719    1.0000  ...          0.0638             0.5983   \n",
       "1867    0.1288   0.1078    1.0000  ...          0.0210             0.6810   \n",
       "\n",
       "      pctSameHouse-5  pctSameCounty-5  pctSameState-5  landArea  popDensity  \\\n",
       "1008          0.6033           0.8597          0.9219      20.7       580.7   \n",
       "1271          0.6557           0.8929          0.9252      13.9      3629.0   \n",
       "1936          0.5953           0.8485          0.8689      17.4      1008.2   \n",
       "1601          0.5898           0.9219          0.9769       4.7      2957.5   \n",
       "293           0.5807           0.8805          0.8906       9.1      8027.0   \n",
       "...              ...              ...             ...       ...         ...   \n",
       "1758          0.5211           0.7676          0.9057      25.9      1893.2   \n",
       "1822          0.4834           0.7204          0.9198      91.1      1730.1   \n",
       "2207          0.5911           0.8626          0.9148      11.2      4812.3   \n",
       "1081          0.3252           0.7522          0.8945      10.2      1180.0   \n",
       "1867          0.4489           0.7048          0.8569      15.2       986.5   \n",
       "\n",
       "      pctUsePubTrans  pctOfficDrugUnit  violentPerPop  \n",
       "1008          0.0103            0.0000         147.49  \n",
       "1271          0.0357            0.0000         150.88  \n",
       "1936          0.0252            0.0000          95.47  \n",
       "1601          0.0098            0.0000        1029.02  \n",
       "293           0.0318            0.1103         458.28  \n",
       "...              ...               ...            ...  \n",
       "1758          0.0056            0.0354        1275.11  \n",
       "1822          0.0085            0.1600         671.46  \n",
       "2207          0.0335            0.0566         285.73  \n",
       "1081          0.0111            0.0000         771.88  \n",
       "1867          0.0000            0.0000         105.23  \n",
       "\n",
       "[1993 rows x 101 columns]"
      ]
     },
     "execution_count": 2,
     "metadata": {},
     "output_type": "execute_result"
    }
   ],
   "source": [
    "data = cst.load_communities_data(data_folder)\n",
    "attributes = data.columns[3:-1]\n",
    "target = data.columns[-1]\n",
    "data"
   ]
  },
  {
   "cell_type": "markdown",
   "metadata": {},
   "source": [
    "The target is \"violentPerPop\" (number of violent offenders per 100K people)"
   ]
  },
  {
   "cell_type": "markdown",
   "metadata": {
    "slideshow": {
     "slide_type": "subslide"
    }
   },
   "source": [
    "## Loading and Preparing the Dataset\n",
    "\n",
    "**We prepare for normalizing all numeric attributes**\n",
    "\n",
    "* The only categorical input is \"race\" (0 = primarily white, 1 = primarily black)\n",
    "* Incidentally, \"race\" is _a natural focus to check for discrimination_\n",
    "\n",
    "**We define the train-test divide and we identify the numerical inputs**"
   ]
  },
  {
   "cell_type": "code",
   "execution_count": 3,
   "metadata": {},
   "outputs": [],
   "source": [
    "tr_frac = 0.8 # 80% data for training\n",
    "tr_sep = int(len(data) * tr_frac)\n",
    "nf = [a for a in attributes if a != 'race'] + [target]"
   ]
  },
  {
   "cell_type": "markdown",
   "metadata": {},
   "source": [
    "We compute the normalization constants and we transform the data"
   ]
  },
  {
   "cell_type": "code",
   "execution_count": 5,
   "metadata": {},
   "outputs": [],
   "source": [
    "tmp = data.iloc[:tr_sep]\n",
    "scale = tmp[nf].max()\n",
    "sdata = data.copy()\n",
    "sdata[nf] /= scale[nf]\n",
    "# VConver\n",
    "sdata[attributes] = sdata[attributes].astype(np.float32)\n",
    "sdata[target] = sdata[target].astype(np.float32)"
   ]
  },
  {
   "cell_type": "markdown",
   "metadata": {
    "slideshow": {
     "slide_type": "subslide"
    }
   },
   "source": [
    "## Loading and Preparing the Dataset\n",
    "\n",
    "**Finally we can separate the training and test set**"
   ]
  },
  {
   "cell_type": "code",
   "execution_count": 6,
   "metadata": {},
   "outputs": [
    {
     "data": {
      "text/html": [
       "<div>\n",
       "<style scoped>\n",
       "    .dataframe tbody tr th:only-of-type {\n",
       "        vertical-align: middle;\n",
       "    }\n",
       "\n",
       "    .dataframe tbody tr th {\n",
       "        vertical-align: top;\n",
       "    }\n",
       "\n",
       "    .dataframe thead th {\n",
       "        text-align: right;\n",
       "    }\n",
       "</style>\n",
       "<table border=\"1\" class=\"dataframe\">\n",
       "  <thead>\n",
       "    <tr style=\"text-align: right;\">\n",
       "      <th></th>\n",
       "      <th>fold</th>\n",
       "      <th>pop</th>\n",
       "      <th>race</th>\n",
       "      <th>pct12-21</th>\n",
       "      <th>pct12-29</th>\n",
       "      <th>pct16-24</th>\n",
       "      <th>pct65up</th>\n",
       "      <th>pctUrban</th>\n",
       "      <th>medIncome</th>\n",
       "      <th>pctWwage</th>\n",
       "      <th>...</th>\n",
       "      <th>pctForeignBorn</th>\n",
       "      <th>pctBornStateResid</th>\n",
       "      <th>pctSameHouse-5</th>\n",
       "      <th>pctSameCounty-5</th>\n",
       "      <th>pctSameState-5</th>\n",
       "      <th>landArea</th>\n",
       "      <th>popDensity</th>\n",
       "      <th>pctUsePubTrans</th>\n",
       "      <th>pctOfficDrugUnit</th>\n",
       "      <th>violentPerPop</th>\n",
       "    </tr>\n",
       "  </thead>\n",
       "  <tbody>\n",
       "    <tr>\n",
       "      <th>count</th>\n",
       "      <td>1594.000000</td>\n",
       "      <td>1594.000000</td>\n",
       "      <td>1594.000000</td>\n",
       "      <td>1594.000000</td>\n",
       "      <td>1594.000000</td>\n",
       "      <td>1594.000000</td>\n",
       "      <td>1594.000000</td>\n",
       "      <td>1594.000000</td>\n",
       "      <td>1594.000000</td>\n",
       "      <td>1594.000000</td>\n",
       "      <td>...</td>\n",
       "      <td>1594.000000</td>\n",
       "      <td>1594.000000</td>\n",
       "      <td>1594.000000</td>\n",
       "      <td>1594.000000</td>\n",
       "      <td>1594.000000</td>\n",
       "      <td>1594.000000</td>\n",
       "      <td>1594.000000</td>\n",
       "      <td>1594.000000</td>\n",
       "      <td>1594.000000</td>\n",
       "      <td>1594.000000</td>\n",
       "    </tr>\n",
       "    <tr>\n",
       "      <th>mean</th>\n",
       "      <td>5.515056</td>\n",
       "      <td>0.007309</td>\n",
       "      <td>0.031995</td>\n",
       "      <td>0.266962</td>\n",
       "      <td>0.398600</td>\n",
       "      <td>0.230577</td>\n",
       "      <td>0.226739</td>\n",
       "      <td>0.695383</td>\n",
       "      <td>0.272795</td>\n",
       "      <td>0.808877</td>\n",
       "      <td>...</td>\n",
       "      <td>0.126063</td>\n",
       "      <td>0.649191</td>\n",
       "      <td>0.651699</td>\n",
       "      <td>0.796561</td>\n",
       "      <td>0.886649</td>\n",
       "      <td>0.009499</td>\n",
       "      <td>0.062829</td>\n",
       "      <td>0.057092</td>\n",
       "      <td>0.021317</td>\n",
       "      <td>0.118508</td>\n",
       "    </tr>\n",
       "    <tr>\n",
       "      <th>std</th>\n",
       "      <td>2.912637</td>\n",
       "      <td>0.030287</td>\n",
       "      <td>0.176042</td>\n",
       "      <td>0.084005</td>\n",
       "      <td>0.090329</td>\n",
       "      <td>0.098553</td>\n",
       "      <td>0.091256</td>\n",
       "      <td>0.445105</td>\n",
       "      <td>0.108972</td>\n",
       "      <td>0.081297</td>\n",
       "      <td>...</td>\n",
       "      <td>0.144243</td>\n",
       "      <td>0.183083</td>\n",
       "      <td>0.135358</td>\n",
       "      <td>0.112796</td>\n",
       "      <td>0.077034</td>\n",
       "      <td>0.028955</td>\n",
       "      <td>0.065060</td>\n",
       "      <td>0.092881</td>\n",
       "      <td>0.061344</td>\n",
       "      <td>0.123444</td>\n",
       "    </tr>\n",
       "    <tr>\n",
       "      <th>min</th>\n",
       "      <td>1.000000</td>\n",
       "      <td>0.001368</td>\n",
       "      <td>0.000000</td>\n",
       "      <td>0.084191</td>\n",
       "      <td>0.134635</td>\n",
       "      <td>0.075644</td>\n",
       "      <td>0.031457</td>\n",
       "      <td>0.000000</td>\n",
       "      <td>0.104413</td>\n",
       "      <td>0.327882</td>\n",
       "      <td>...</td>\n",
       "      <td>0.003182</td>\n",
       "      <td>0.072472</td>\n",
       "      <td>0.150586</td>\n",
       "      <td>0.289367</td>\n",
       "      <td>0.332187</td>\n",
       "      <td>0.000335</td>\n",
       "      <td>0.000226</td>\n",
       "      <td>0.000000</td>\n",
       "      <td>0.000000</td>\n",
       "      <td>0.001097</td>\n",
       "    </tr>\n",
       "    <tr>\n",
       "      <th>25%</th>\n",
       "      <td>3.000000</td>\n",
       "      <td>0.001943</td>\n",
       "      <td>0.000000</td>\n",
       "      <td>0.225230</td>\n",
       "      <td>0.350689</td>\n",
       "      <td>0.185238</td>\n",
       "      <td>0.167614</td>\n",
       "      <td>0.000000</td>\n",
       "      <td>0.190973</td>\n",
       "      <td>0.759677</td>\n",
       "      <td>...</td>\n",
       "      <td>0.035541</td>\n",
       "      <td>0.525016</td>\n",
       "      <td>0.566446</td>\n",
       "      <td>0.743167</td>\n",
       "      <td>0.854675</td>\n",
       "      <td>0.002754</td>\n",
       "      <td>0.026280</td>\n",
       "      <td>0.006672</td>\n",
       "      <td>0.000000</td>\n",
       "      <td>0.032800</td>\n",
       "    </tr>\n",
       "    <tr>\n",
       "      <th>50%</th>\n",
       "      <td>5.000000</td>\n",
       "      <td>0.003035</td>\n",
       "      <td>0.000000</td>\n",
       "      <td>0.250919</td>\n",
       "      <td>0.385173</td>\n",
       "      <td>0.205575</td>\n",
       "      <td>0.223138</td>\n",
       "      <td>1.000000</td>\n",
       "      <td>0.249509</td>\n",
       "      <td>0.813755</td>\n",
       "      <td>...</td>\n",
       "      <td>0.075352</td>\n",
       "      <td>0.669369</td>\n",
       "      <td>0.658096</td>\n",
       "      <td>0.819391</td>\n",
       "      <td>0.905697</td>\n",
       "      <td>0.005099</td>\n",
       "      <td>0.045234</td>\n",
       "      <td>0.022823</td>\n",
       "      <td>0.000000</td>\n",
       "      <td>0.076430</td>\n",
       "    </tr>\n",
       "    <tr>\n",
       "      <th>75%</th>\n",
       "      <td>8.000000</td>\n",
       "      <td>0.005922</td>\n",
       "      <td>0.000000</td>\n",
       "      <td>0.283824</td>\n",
       "      <td>0.419908</td>\n",
       "      <td>0.235735</td>\n",
       "      <td>0.275298</td>\n",
       "      <td>1.000000</td>\n",
       "      <td>0.334641</td>\n",
       "      <td>0.866125</td>\n",
       "      <td>...</td>\n",
       "      <td>0.155517</td>\n",
       "      <td>0.798529</td>\n",
       "      <td>0.744017</td>\n",
       "      <td>0.875764</td>\n",
       "      <td>0.938556</td>\n",
       "      <td>0.009667</td>\n",
       "      <td>0.074085</td>\n",
       "      <td>0.064651</td>\n",
       "      <td>0.000000</td>\n",
       "      <td>0.159716</td>\n",
       "    </tr>\n",
       "    <tr>\n",
       "      <th>max</th>\n",
       "      <td>10.000000</td>\n",
       "      <td>1.000000</td>\n",
       "      <td>1.000000</td>\n",
       "      <td>1.000000</td>\n",
       "      <td>1.000000</td>\n",
       "      <td>1.000000</td>\n",
       "      <td>1.000000</td>\n",
       "      <td>1.000000</td>\n",
       "      <td>1.000000</td>\n",
       "      <td>1.000000</td>\n",
       "      <td>...</td>\n",
       "      <td>1.000000</td>\n",
       "      <td>1.000000</td>\n",
       "      <td>1.000000</td>\n",
       "      <td>1.000000</td>\n",
       "      <td>1.000000</td>\n",
       "      <td>1.000000</td>\n",
       "      <td>1.000000</td>\n",
       "      <td>1.000000</td>\n",
       "      <td>1.000000</td>\n",
       "      <td>1.000000</td>\n",
       "    </tr>\n",
       "  </tbody>\n",
       "</table>\n",
       "<p>8 rows × 99 columns</p>\n",
       "</div>"
      ],
      "text/plain": [
       "              fold          pop         race     pct12-21     pct12-29  \\\n",
       "count  1594.000000  1594.000000  1594.000000  1594.000000  1594.000000   \n",
       "mean      5.515056     0.007309     0.031995     0.266962     0.398600   \n",
       "std       2.912637     0.030287     0.176042     0.084005     0.090329   \n",
       "min       1.000000     0.001368     0.000000     0.084191     0.134635   \n",
       "25%       3.000000     0.001943     0.000000     0.225230     0.350689   \n",
       "50%       5.000000     0.003035     0.000000     0.250919     0.385173   \n",
       "75%       8.000000     0.005922     0.000000     0.283824     0.419908   \n",
       "max      10.000000     1.000000     1.000000     1.000000     1.000000   \n",
       "\n",
       "          pct16-24      pct65up     pctUrban    medIncome     pctWwage  ...  \\\n",
       "count  1594.000000  1594.000000  1594.000000  1594.000000  1594.000000  ...   \n",
       "mean      0.230577     0.226739     0.695383     0.272795     0.808877  ...   \n",
       "std       0.098553     0.091256     0.445105     0.108972     0.081297  ...   \n",
       "min       0.075644     0.031457     0.000000     0.104413     0.327882  ...   \n",
       "25%       0.185238     0.167614     0.000000     0.190973     0.759677  ...   \n",
       "50%       0.205575     0.223138     1.000000     0.249509     0.813755  ...   \n",
       "75%       0.235735     0.275298     1.000000     0.334641     0.866125  ...   \n",
       "max       1.000000     1.000000     1.000000     1.000000     1.000000  ...   \n",
       "\n",
       "       pctForeignBorn  pctBornStateResid  pctSameHouse-5  pctSameCounty-5  \\\n",
       "count     1594.000000        1594.000000     1594.000000      1594.000000   \n",
       "mean         0.126063           0.649191        0.651699         0.796561   \n",
       "std          0.144243           0.183083        0.135358         0.112796   \n",
       "min          0.003182           0.072472        0.150586         0.289367   \n",
       "25%          0.035541           0.525016        0.566446         0.743167   \n",
       "50%          0.075352           0.669369        0.658096         0.819391   \n",
       "75%          0.155517           0.798529        0.744017         0.875764   \n",
       "max          1.000000           1.000000        1.000000         1.000000   \n",
       "\n",
       "       pctSameState-5     landArea   popDensity  pctUsePubTrans  \\\n",
       "count     1594.000000  1594.000000  1594.000000     1594.000000   \n",
       "mean         0.886649     0.009499     0.062829        0.057092   \n",
       "std          0.077034     0.028955     0.065060        0.092881   \n",
       "min          0.332187     0.000335     0.000226        0.000000   \n",
       "25%          0.854675     0.002754     0.026280        0.006672   \n",
       "50%          0.905697     0.005099     0.045234        0.022823   \n",
       "75%          0.938556     0.009667     0.074085        0.064651   \n",
       "max          1.000000     1.000000     1.000000        1.000000   \n",
       "\n",
       "       pctOfficDrugUnit  violentPerPop  \n",
       "count       1594.000000    1594.000000  \n",
       "mean           0.021317       0.118508  \n",
       "std            0.061344       0.123444  \n",
       "min            0.000000       0.001097  \n",
       "25%            0.000000       0.032800  \n",
       "50%            0.000000       0.076430  \n",
       "75%            0.000000       0.159716  \n",
       "max            1.000000       1.000000  \n",
       "\n",
       "[8 rows x 99 columns]"
      ]
     },
     "execution_count": 6,
     "metadata": {},
     "output_type": "execute_result"
    }
   ],
   "source": [
    "tr = sdata.iloc[:tr_sep]\n",
    "ts = sdata.iloc[tr_sep:]\n",
    "tr.describe()"
   ]
  },
  {
   "cell_type": "markdown",
   "metadata": {
    "slideshow": {
     "slide_type": "subslide"
    }
   },
   "source": [
    "## Baseline\n",
    "\n",
    "**Let's establish a baseline by tackling the task via Linear Regression**"
   ]
  },
  {
   "cell_type": "code",
   "execution_count": 8,
   "metadata": {},
   "outputs": [
    {
     "data": {
      "image/png": "[encoded data removed]",
      "text/plain": [
       "<Figure size 1008x360 with 1 Axes>"
      ]
     },
     "metadata": {
      "needs_background": "light"
     },
     "output_type": "display_data"
    }
   ],
   "source": [
    "nn = cst.MLPRegressor(input_shape=len(attributes), hidden=[])\n",
    "nn.compile(optimizer='Adam', loss='mse')\n",
    "cb = [callbacks.EarlyStopping(patience=10, restore_best_weights=True)]\n",
    "history = nn.fit(tr[attributes], tr[target], batch_size=32, epochs=200, verbose=0,\n",
    "                 validation_split=0.2, callbacks=cb)\n",
    "cst.plot_training_history(history, figsize=figsize)"
   ]
  },
  {
   "cell_type": "markdown",
   "metadata": {
    "slideshow": {
     "slide_type": "subslide"
    }
   },
   "source": [
    "## Baseline Evaluation\n",
    "\n",
    "**...And let's check the results**"
   ]
  },
  {
   "cell_type": "code",
   "execution_count": 9,
   "metadata": {},
   "outputs": [
    {
     "name": "stdout",
     "output_type": "stream",
     "text": [
      "R2 score: 0.63 (training), 0.60 (test)\n",
      "MAE: 0.05 (training), 0.06 (test)\n"
     ]
    }
   ],
   "source": [
    "tr_pred = nn.predict(tr[attributes])\n",
    "r2_tr = r2_score(tr[target], tr_pred)\n",
    "mae_tr = mean_absolute_error(tr[target], tr_pred)\n",
    "ts_pred = nn.predict(ts[attributes])\n",
    "r2_ts = r2_score(ts[target], ts_pred)\n",
    "mae_ts = mean_absolute_error(ts[target], ts_pred)\n",
    "print(f'R2 score: {r2_tr:.2f} (training), {r2_ts:.2f} (test)')\n",
    "print(f'MAE: {mae_tr:.2f} (training), {mae_ts:.2f} (test)')"
   ]
  },
  {
   "cell_type": "markdown",
   "metadata": {},
   "source": [
    "* They are not super (definitely not [PreCrime](https://en.wikipedia.org/wiki/Minority_Report_(film)) level), but not alwful either\n",
    "* Some improvements (not much) can be obtained with a Deeper model\n",
    "\n",
    "**We will keep Linear Regression as a baseline**\n",
    "\n",
    "* As a side benefit, we get to use an interpretable model!\n",
    "* In particular, we can have evaluate the _importance of each input attribute_\n",
    "\n",
    "This can be done in LR by _inspecting the weights_"
   ]
  },
  {
   "cell_type": "markdown",
   "metadata": {
    "slideshow": {
     "slide_type": "slide"
    }
   },
   "source": [
    "# Important Attributes in Linear Regression"
   ]
  },
  {
   "cell_type": "markdown",
   "metadata": {
    "slideshow": {
     "slide_type": "subslide"
    }
   },
   "source": [
    "## Important Attributes in Linear Regression\n",
    "\n",
    "**In particular, we can _plot the weights by decreasing (absolute) value_**\n",
    "\n",
    "* If all attributes are standardized/normalized (so they have similar ranges)\n",
    "* ...Then the larger then (absolute) weight, the larger the impact"
   ]
  },
  {
   "cell_type": "code",
   "execution_count": 11,
   "metadata": {},
   "outputs": [
    {
     "data": {
      "image/png": "[encoded data removed]",
      "text/plain": [
       "<Figure size 1008x360 with 1 Axes>"
      ]
     },
     "metadata": {
      "needs_background": "light"
     },
     "output_type": "display_data"
    }
   ],
   "source": [
    "lr_weights = nn.get_weights()[0].ravel()\n",
    "cst.plot_lr_weights(lr_weights, attributes, figsize=figsize)"
   ]
  },
  {
   "cell_type": "markdown",
   "metadata": {},
   "source": [
    "* Unfortunately, if often happens that there are many large-ish weights"
   ]
  },
  {
   "cell_type": "markdown",
   "metadata": {
    "slideshow": {
     "slide_type": "subslide"
    }
   },
   "source": [
    "## Lasso\n",
    "\n",
    "**We can fix this by adding an L1 regularizer to obtain [_LASSO (Regression)_](https://en.wikipedia.org/wiki/Lasso_(statistics))**\n",
    "\n",
    "The regularizer penalizes large and small weights _with a fixed rate_\n",
    "\n",
    "* Attributes for which the loss reduction does not match the regularization rate...\n",
    "* ...Will be kept at zero, resulting in a _sparse weight vector_\n",
    "\n",
    "**Lasso is available in scikit-learn, and can be implemented in Keras/Tensorflow**"
   ]
  },
  {
   "cell_type": "code",
   "execution_count": 16,
   "metadata": {},
   "outputs": [],
   "source": [
    "nn2_in = layers.Input(len(attributes))\n",
    "nn2_out = layers.Dense(1, activation='linear', kernel_regularizer=regularizers.l1(l1=1e-3))(nn2_in)\n",
    "nn2 = keras.Model(nn2_in, nn2_out)"
   ]
  },
  {
   "cell_type": "markdown",
   "metadata": {},
   "source": [
    "* We obtain it from Linear Regression by introducing an L1 weight regularizer"
   ]
  },
  {
   "cell_type": "markdown",
   "metadata": {
    "slideshow": {
     "slide_type": "subslide"
    }
   },
   "source": [
    "## Lasso\n",
    "\n",
    "**We can train the Lasso model as usual**"
   ]
  },
  {
   "cell_type": "code",
   "execution_count": 17,
   "metadata": {},
   "outputs": [
    {
     "data": {
      "image/png": "[encoded data removed]",
      "text/plain": [
       "<Figure size 1008x360 with 1 Axes>"
      ]
     },
     "metadata": {
      "needs_background": "light"
     },
     "output_type": "display_data"
    }
   ],
   "source": [
    "nn2.compile(optimizer='Adam', loss='mse')\n",
    "cb2 = [callbacks.EarlyStopping(patience=20, restore_best_weights=True)]\n",
    "history2 = nn2.fit(tr[attributes], tr[target], batch_size=32, epochs=200, verbose=0,\n",
    "                 validation_split=0.2, callbacks=cb2)\n",
    "cst.plot_training_history(history2, figsize=figsize)"
   ]
  },
  {
   "cell_type": "markdown",
   "metadata": {
    "slideshow": {
     "slide_type": "subslide"
    }
   },
   "source": [
    "## Lasso Evaluation\n",
    "\n",
    "**The results are on par with Linear Regression**"
   ]
  },
  {
   "cell_type": "code",
   "execution_count": 18,
   "metadata": {},
   "outputs": [
    {
     "name": "stdout",
     "output_type": "stream",
     "text": [
      "R2 score: 0.62 (training), 0.59 (test)\n",
      "MAE: 0.05 (training), 0.06 (test)\n"
     ]
    }
   ],
   "source": [
    "tr_pred2 = nn2.predict(tr[attributes])\n",
    "r2_tr2 = r2_score(tr[target], tr_pred2)\n",
    "mae_tr2 = mean_absolute_error(tr[target], tr_pred2)\n",
    "\n",
    "ts_pred2 = nn2.predict(ts[attributes])\n",
    "r2_ts2 = r2_score(ts[target], ts_pred2)\n",
    "mae_ts2 = mean_absolute_error(ts[target], ts_pred2)\n",
    "\n",
    "print(f'R2 score: {r2_tr2:.2f} (training), {r2_ts2:.2f} (test)')\n",
    "print(f'MAE: {mae_tr2:.2f} (training), {mae_ts2:.2f} (test)')"
   ]
  },
  {
   "cell_type": "markdown",
   "metadata": {},
   "source": [
    "* The L1 term actually acts also as a traditional regularizer...\n",
    "* ...And _may_ therefore help to prevent overfitting"
   ]
  },
  {
   "cell_type": "markdown",
   "metadata": {
    "slideshow": {
     "slide_type": "subslide"
    }
   },
   "source": [
    "## Important Attributes in Lasso\n",
    "\n",
    "**The main difference between LR and Lasso is int the weight vector**\n",
    "\n",
    "Lasso weights are _sparse_,  i.e. only a few attributes will have a significant impact"
   ]
  },
  {
   "cell_type": "code",
   "execution_count": 20,
   "metadata": {},
   "outputs": [
    {
     "data": {
      "image/png": "[encoded data removed]",
      "text/plain": [
       "<Figure size 1008x360 with 1 Axes>"
      ]
     },
     "metadata": {
      "needs_background": "light"
     },
     "output_type": "display_data"
    }
   ],
   "source": [
    "lasso_weights = nn2.get_weights()[0].ravel()\n",
    "cst.plot_lr_weights(lasso_weights, attributes, figsize=figsize)"
   ]
  },
  {
   "cell_type": "markdown",
   "metadata": {
    "slideshow": {
     "slide_type": "subslide"
    }
   },
   "source": [
    "## Important Attributes in Lasso\n",
    "\n",
    "**Let's zoom in on the 15 most important attributes**"
   ]
  },
  {
   "cell_type": "code",
   "execution_count": 24,
   "metadata": {},
   "outputs": [
    {
     "data": {
      "image/png": "[encoded data removed]",
      "text/plain": [
       "<Figure size 1008x360 with 1 Axes>"
      ]
     },
     "metadata": {
      "needs_background": "light"
     },
     "output_type": "display_data"
    }
   ],
   "source": [
    "lasso_weights = nn2.get_weights()[0].ravel()\n",
    "cst.plot_lr_weights(lasso_weights, attributes, cap_num=15, figsize=figsize)"
   ]
  },
  {
   "cell_type": "markdown",
   "metadata": {},
   "source": [
    "The attribute \"race\" is nowhere to be seen!\n",
    "\n",
    "* This is _looks_ reassuring for our potential discrimination concerns\n",
    "* ...But in fact it is not (and we will proceed to check it)"
   ]
  },
  {
   "cell_type": "markdown",
   "metadata": {
    "slideshow": {
     "slide_type": "slide"
    }
   },
   "source": [
    "# Fairness Constraints"
   ]
  },
  {
   "cell_type": "markdown",
   "metadata": {
    "slideshow": {
     "slide_type": "subslide"
    }
   },
   "source": [
    "## Discrimination Indexes\n",
    "\n",
    "**Discrimination can be linked to _disparate treatment_**\n",
    "\n",
    "* \"Race\" _may not be even among the input attributes_!\n",
    "* ...Since it may be taken into account implicitly (i.e. via correlates)\n",
    "\n",
    "**Indeed, our model _treats differently different groups_:**"
   ]
  },
  {
   "cell_type": "code",
   "execution_count": 28,
   "metadata": {},
   "outputs": [
    {
     "data": {
      "image/png": "[encoded data removed]",
      "text/plain": [
       "<Figure size 1008x360 with 1 Axes>"
      ]
     },
     "metadata": {
      "needs_background": "light"
     },
     "output_type": "display_data"
    }
   ],
   "source": [
    "cst.plot_pred_by_protected(tr, tr_pred, protected={'race': (0, 1)}, figsize=figsize)"
   ]
  },
  {
   "cell_type": "markdown",
   "metadata": {
    "slideshow": {
     "slide_type": "subslide"
    }
   },
   "source": [
    "## Discrimination Indexes\n",
    "\n",
    "**A number of _discrimination indexes_ attempt to measure discrimination**\n",
    "\n",
    "* This is open research area: there is no clear best choice\n",
    "* Whether ethics itself can be measured is _highly debatable_!\n",
    "\n",
    "Even if imperfect, this currently the best we can do\n",
    "\n",
    "**Classification and regression tasks usually call for different indexes**\n",
    "\n",
    "Here's an example from a recent [AAAI paper](https://www.aaai.org/ojs/index.php/AAAI/article/download/3943/3821)\n",
    "\n",
    "* Given a set of categorical _protected attribute (indexes) $J_p$_\n",
    "* ...The regression form of the Disparate Impact Discrimination Index is given by:\n",
    "\n",
    "$$\n",
    "\\text{DIDI}_r = \\sum_{j \\in J_p} \\sum_{v \\in D_{j}} \\left|\\frac{1}{m} \\sum_{i=1}^m y_i - \\frac{1}{|I_{j,v}|} \\sum_{i \\in I_{j,v}} y_{i}\\right|\n",
    "$$\n",
    "\n",
    "* Where $D_j$ is the domain of attribute $j$\n",
    "* ...And $I_{j,v}$ is the set of example such that attribute $j$ has value $v$\n",
    "\n",
    "\n"
   ]
  },
  {
   "cell_type": "markdown",
   "metadata": {
    "slideshow": {
     "slide_type": "subslide"
    }
   },
   "source": [
    "## DIDI\n",
    "\n",
    "**Let's make some intuitive sense of the $\\text{DIDI}_r$ formula**\n",
    "\n",
    "$$\n",
    "\\sum_{j \\in J_p} \\sum_{v \\in D_{j}} \\left|\\frac{1}{m} \\sum_{i=1}^m y_i - \\frac{1}{|I_{j,v}|} \\sum_{i \\in I_{j,v}} y_{i}\\right|\n",
    "$$\n",
    "\n",
    "* $\\frac{1}{m} \\sum_{i=1}^m y_i$ is just the average predicted value\n",
    "* ...For examples where the protected attribute takes specific values\n",
    "* $\\frac{1}{|I_{j,v}|} \\sum_{i \\in I_{j,v}} y_{i}$ is the average prediction for a social group\n",
    "\n",
    "**We penalize the group predictions for _deviating from the global average_**\n",
    "\n",
    "* Obviously this is not necessarily the best definition, but it is something\n",
    "* In general, different tasks will call for different discrimination indexes\n",
    "\n",
    "...And don't forget the whole \"can we actually measure ethics\" issue ;-)"
   ]
  },
  {
   "cell_type": "markdown",
   "metadata": {
    "slideshow": {
     "slide_type": "subslide"
    }
   },
   "source": [
    "## DIDI\n",
    "\n",
    "**We can compute the DIDI via the following function**\n",
    "\n",
    "```python\n",
    "def DIDI_r(data, pred, protected):\n",
    "    res, avg = 0, np.mean(pred)\n",
    "    for aname, dom in protected.items():\n",
    "        for val in dom:\n",
    "            mask = (data[aname] == val)\n",
    "            res += abs(avg - np.mean(pred[mask]))\n",
    "    return res\n",
    "```\n",
    "\n",
    "* `protected` contains the protected attribute names with their domain\n",
    "\n",
    "**For our original Linear Regression model, we get**"
   ]
  },
  {
   "cell_type": "code",
   "execution_count": 29,
   "metadata": {},
   "outputs": [
    {
     "name": "stdout",
     "output_type": "stream",
     "text": [
      "DIDI: 0.25 (training), 0.27 (test)\n"
     ]
    }
   ],
   "source": [
    "tr_DIDI = cst.DIDI_r(tr, tr_pred, protected)\n",
    "ts_DIDI = cst.DIDI_r(ts, ts_pred, protected)\n",
    "print(f'DIDI: {tr_DIDI:.2f} (training), {ts_DIDI:.2f} (test)')"
   ]
  },
  {
   "cell_type": "markdown",
   "metadata": {},
   "source": [
    "This is our baseline discrimination level"
   ]
  },
  {
   "cell_type": "markdown",
   "metadata": {
    "slideshow": {
     "slide_type": "subslide"
    }
   },
   "source": [
    "## Fairness Constraints\n",
    "\n",
    "**Discrimination indexes can be used to state fairness constraints**\n",
    "\n",
    "For example, we may require:\n",
    "$$\n",
    "\\text{DIDI}_r(y) \\leq \\theta\n",
    "$$\n",
    "\n",
    "**If the chosen index is _differentiable_...**\n",
    "\n",
    "...Then we may try to inject the constraint via a _semantic regularizer_\n",
    "\n",
    "* For example, we may use a loss function in the form:\n",
    "$$\n",
    "L(y, \\hat{y}) + \\lambda \\max(0, \\text{DIDI}_r(y) - \\theta)\n",
    "$$\n",
    "\n",
    "For non-differentiable indexes (e.g. those found in classification), we can:\n",
    "\n",
    "* Use a differentiable approximation (with some care!)\n",
    "* Use an approach that does not require differentiability, e.g. [this](https://arxiv.org/abs/2002.10766) or [that](https://link.springer.com/content/pdf/10.1007/s10115-011-0463-8.pdf)\n",
    "\n"
   ]
  },
  {
   "cell_type": "markdown",
   "metadata": {
    "slideshow": {
     "slide_type": "subslide"
    }
   },
   "source": [
    "## Fairness as a Semantic Regularizer\n",
    "\n",
    "**We can once again use a custom Keras model**\n",
    "\n",
    "```python\n",
    "class CstDIDIRegressor(MLPRegressor):\n",
    "    def __init__(self, attributes, protected, alpha, thr, hidden=[]): ...\n",
    "\n",
    "    def train_step(self, data): ...\n",
    "\n",
    "    @property\n",
    "    def metrics(self): ...\n",
    "```\n",
    "\n",
    "The full code can be found in the support module\n",
    "\n",
    "* We subclass our `MLPRegressor` (itself a subclass of `keras.Model`)\n",
    "* ...And we provide a custom training step\n",
    "* `alpha` is the regularizer weight\n",
    "* `thr` is the DIDI threshold\n",
    "\n",
    "In this case, we do not need a custom batch generator"
   ]
  },
  {
   "cell_type": "markdown",
   "metadata": {
    "slideshow": {
     "slide_type": "subslide"
    }
   },
   "source": [
    "## Fairness as a Semantic Regularizer\n",
    "\n",
    "**The main logic is in the first half of the `train_step` method:**\n",
    "\n",
    "```python\n",
    "def train_step(self, data):\n",
    "    x, y_true = data # unpacking the mini-batch\n",
    "    with tf.GradientTape() as tape:\n",
    "        y_pred = self(x, training=True) # obtain predictions\n",
    "        mse = self.compiled_loss(y_true, y_pred) # base loss (kept external)\n",
    "        ymean = k.mean(y_pred) # avg prediction\n",
    "        didi = 0 # DIDI computation\n",
    "        for aidx, dom in self.protected.items():\n",
    "            for val in dom:\n",
    "                mask = (x[:, aidx] == val)\n",
    "                didi += k.abs(ymean - k.mean(y_pred[mask]))\n",
    "        cst = k.maximum(0.0, didi - self.thr) # Regularizer\n",
    "        loss = mse + self.alpha * cst\n",
    "```\n",
    "\n",
    "* In this case we chose to let the main loss be defined externally\n",
    "* ...Which means we will need to define it when calling `compile`"
   ]
  },
  {
   "cell_type": "markdown",
   "metadata": {
    "slideshow": {
     "slide_type": "subslide"
    }
   },
   "source": [
    "## Training the Constrained Model\n",
    "\n",
    "**Let's try and train the model, trying to roughly halve the DIDI**\n",
    "\n",
    "Important: it will be a good idea to need to keep all examples in every batch\n",
    "\n",
    "* Using mini-batches makes constraint satisfaction (more) stochastic"
   ]
  },
  {
   "cell_type": "code",
   "execution_count": 31,
   "metadata": {
    "scrolled": true
   },
   "outputs": [
    {
     "data": {
      "image/png": "[encoded data removed]",
      "text/plain": [
       "<Figure size 1008x360 with 1 Axes>"
      ]
     },
     "metadata": {
      "needs_background": "light"
     },
     "output_type": "display_data"
    }
   ],
   "source": [
    "didi_thr = 0.13\n",
    "nn3 = cst.CstDIDIRegressor(attributes, protected, alpha=5, thr=didi_thr, hidden=[])\n",
    "nn3.compile(optimizer='Adam', loss='mse')\n",
    "history3 = nn3.fit(tr[attributes], tr[target], batch_size=len(tr), epochs=3000, verbose=0)\n",
    "cst.plot_training_history(history3, figsize=figsize)"
   ]
  },
  {
   "cell_type": "markdown",
   "metadata": {
    "slideshow": {
     "slide_type": "subslide"
    }
   },
   "source": [
    "## Constrained Model Evaluation\n",
    "\n",
    "**Let's check both the prediction quality and the DIDI**"
   ]
  },
  {
   "cell_type": "code",
   "execution_count": 32,
   "metadata": {},
   "outputs": [
    {
     "name": "stdout",
     "output_type": "stream",
     "text": [
      "R2 score: 0.45 (training), 0.39 (test)\n",
      "MAE: 0.06 (training), 0.07 (test)\n",
      "DIDI: 0.09 (training), 0.09 (test)\n"
     ]
    }
   ],
   "source": [
    "tr_pred3 = nn3.predict(tr[attributes])\n",
    "r2_tr3 = r2_score(tr[target], tr_pred3)\n",
    "mae_tr3 = mean_absolute_error(tr[target], tr_pred3)\n",
    "\n",
    "ts_pred3 = nn3.predict(ts[attributes])\n",
    "r2_ts3 = r2_score(ts[target], ts_pred3)\n",
    "mae_ts3 = mean_absolute_error(ts[target], ts_pred3)\n",
    "\n",
    "tr_DIDI3 = cst.DIDI_r(tr, tr_pred3, protected)\n",
    "ts_DIDI3 = cst.DIDI_r(ts, ts_pred3, protected)\n",
    "\n",
    "print(f'R2 score: {r2_tr3:.2f} (training), {r2_ts3:.2f} (test)')\n",
    "print(f'MAE: {mae_tr3:.2f} (training), {mae_ts3:.2f} (test)')\n",
    "print(f'DIDI: {tr_DIDI3:.2f} (training), {ts_DIDI3:.2f} (test)')"
   ]
  },
  {
   "cell_type": "markdown",
   "metadata": {},
   "source": [
    "* It seems _we have overdone it_: the constraint is satisfied with some slack\n",
    "* ...And that came at the price of a strongly reduced predictive performance\n",
    "\n",
    "**The issue is related to the choice of the _correct regularizer weight_**\n"
   ]
  },
  {
   "cell_type": "markdown",
   "metadata": {
    "slideshow": {
     "slide_type": "slide"
    }
   },
   "source": [
    "# Lagrangian Dual Framework"
   ]
  },
  {
   "cell_type": "markdown",
   "metadata": {
    "slideshow": {
     "slide_type": "subslide"
    }
   },
   "source": [
    "## Choosing the Right Weight\n",
    "\n",
    "**Choosing the regularizer weight in our setup is particularly tricky**\n",
    "\n",
    "* Unlike in our RUL case study, we are not using domain knowledge...\n",
    "* ...To enhance the prediction quality of the regressor\n",
    "\n",
    "So, we cannot optimize some accuracy score on a separate validation set\n",
    "\n",
    "**In fact, the fairness constraint and accuracy are _conflicting goals_**\n",
    "\n",
    "* Satisfying the constraint has in this case higher priority\n",
    "* So in principle we could resort to a lexicographic objective...\n",
    "* ...But that kind of approach is prone to numerical issues\n",
    "\n",
    "**A simpler, [recent approach](https://arxiv.org/abs/2001.09394) consists in relying on Lagrangian duality**\n"
   ]
  },
  {
   "cell_type": "markdown",
   "metadata": {
    "slideshow": {
     "slide_type": "subslide"
    }
   },
   "source": [
    "## Lagrangian Duality for Constrained ML\n",
    "\n",
    "**Let's consider our semantic regularized loss**\n",
    "\n",
    "$$\n",
    "{\\cal L}(y, \\lambda) = L(y, \\hat{y}) + \\lambda \\max\\left(0, \\text{DIDI}_r(y) - \\theta \\right)\n",
    "$$\n",
    "\n",
    "It can be generalized to:\n",
    "\n",
    "$$\n",
    "{\\cal L}(y, \\lambda) = L(y, \\hat{y}) + \\lambda \\max\\left(0, g(y) \\right)\n",
    "$$\n",
    "\n",
    "* Where $g(y)$ is some kind of _constraint function_\n",
    "\n",
    "**This is actually related to the constrained problem we really care about:**\n",
    "$$\n",
    "\\min \\{L(y, \\hat{y}) \\mid g(y) \\leq 0 \\}\n",
    "$$\n",
    "\n",
    "To be precise, the formulation is a _Lagrangian relaxation_\n",
    "\n",
    "* Lagrangian relaxations are obtained by turning constraints into objective terms\n",
    "* The above form applies to any differentiable inequality constraint\n",
    "* ...With minor tweaks, equality constraints can also be handled"
   ]
  },
  {
   "cell_type": "markdown",
   "metadata": {
    "slideshow": {
     "slide_type": "subslide"
    }
   },
   "source": [
    "## Lagrangian Duality for Constrained ML\n",
    "\n",
    "**Our regularized loss ${\\cal L}(y, \\lambda)$ is actually called a _Lagrangian_**\n",
    "\n",
    "Specifically, the form somerimes in the [penalty method](https://en.wikipedia.org/wiki/Penalty_method#:~:text=Penalty%20methods%20are%20a%20certain,of%20the%20original%20constrained%20problem.)\n",
    "\n",
    "$$\n",
    "{\\cal L}(y, \\lambda) = L(y, \\hat{y}) + \\lambda \\max\\left(0, g(y) \\right)\n",
    "$$\n",
    "\n",
    "Let's consider its relation with the original constrained formulation:\n",
    "\n",
    "* Whenever the constraint is satisfied, we have that ${\\cal L}(y, \\lambda) = L(h, \\hat{y})$\n",
    "* ...No matter what what value $\\lambda$ takes\n",
    "* When the constraint is not satisfied, ${\\cal L}(y, \\lambda)$ will be higher than $L(y, \\hat{y})$\n",
    "\n",
    "**This means that, for any given $\\lambda$, we have that:**\n",
    "\n",
    "$$\n",
    "\\min_y {\\cal L}(y, \\lambda) \\leq \\min \\{L(y, \\hat{y}) \\mid g(y) \\leq 0 \\}\n",
    "$$\n",
    "\n",
    "I.e. the relaxation optimum cannot be larger then the constrained optimum\n",
    "\n",
    "* In fact, this is why it is called a \"relaxation\""
   ]
  },
  {
   "cell_type": "markdown",
   "metadata": {
    "slideshow": {
     "slide_type": "subslide"
    }
   },
   "source": [
    "## Lagrangian Duality for Constrained ML\n",
    "\n",
    "**So, for any $\\lambda$, solving:**\n",
    "\n",
    "$$\n",
    "\\min_y {\\cal L}(y, \\lambda)\n",
    "$$\n",
    "\n",
    "...Gives a _lower bound_ on the optimum of the constrained problem\n",
    "\n",
    "**So, among many lower bounds why not taking _the largest one_?**\n",
    "\n",
    "Formally, this means solving:\n",
    "\n",
    "$$\n",
    "\\max_\\lambda \\left( \\min_y {\\cal L}(y, \\lambda) \\right)\n",
    "$$\n",
    "\n",
    "Intuitively:\n",
    "\n",
    "* We choose $y$ to _minimize_ the Lagrangian (the \"regularized loss\")\n",
    "* We choose $\\lambda$ to _maximize_ the Lagrangian\n",
    "\n",
    "This latter problem is known as _Lagrangian dual_"
   ]
  },
  {
   "cell_type": "markdown",
   "metadata": {
    "slideshow": {
     "slide_type": "subslide"
    }
   },
   "source": [
    "## Lagrangian Duality for Constrained ML\n",
    "\n",
    "**This Lagrangian dual approach can be extremely powerful**\n",
    "\n",
    "* It gives us _a criterion_ for choosing $\\lambda$\n",
    "* It can be (approximately) implemented _without an outer search loop_:\n",
    "  - We can make one gradient step over $y$ to minimize $\\cal L$\n",
    "  - ...Then a second gradient step over $\\lambda$ to maximize $\\cal L$\n",
    "* It is not limited to fairness constraints\n",
    "  - It works for _any differentiable constraint_ function\n",
    "  - ...And even when there are _many constraints_ with distinct weights\n",
    "  - ...Which BTW in this context are called \"multipliers\"\n",
    "* If the penalty terms is well chosen, the method has _convergence guarantees_\n",
    "  - However, these are limited to fully convex setups\n",
    "  - I.e. convex loss, model, and constraint function (like our case study!)\n",
    "  - In practice, it is however often used as a heuristic\n",
    "  "
   ]
  },
  {
   "cell_type": "markdown",
   "metadata": {
    "slideshow": {
     "slide_type": "subslide"
    }
   },
   "source": [
    "## Implementing the Lagrangian Dual Approach\n",
    "\n",
    "**We will implement the Lagrangian dual approach via another custom model**\n",
    "\n",
    "```python\n",
    "class LagDualDIDIRegressor(MLPRegressor):\n",
    "    def __init__(self, attributes, protected, thr, hidden=[]):\n",
    "        super(LagDualDIDIRegressor, self).__init__(len(attributes), hidden)\n",
    "        self.alpha = tf.Variable(0., name='alpha')\n",
    "        ...\n",
    "\n",
    "    def __custom_loss(self, x, y_true, sign=1): ...\n",
    "\n",
    "    def train_step(self, data): ...\n",
    "        \n",
    "    def metrics(self): ...\n",
    "```\n",
    "\n",
    "* We no longer pass a fixed `alpha` weight/multiplier\n",
    "* Instead we use a _trainable variable_"
   ]
  },
  {
   "cell_type": "markdown",
   "metadata": {
    "slideshow": {
     "slide_type": "subslide"
    }
   },
   "source": [
    "## Implementing the Lagrangian Dual Approach\n",
    "\n",
    "**In the `__custom_loss` method we compute the Lagrangian/regularized loss**\n",
    "\n",
    "```python\n",
    "def __custom_loss(self, x, y_true, sign=1):\n",
    "    y_pred = self(x, training=True) # obtain the predictions\n",
    "    mse = self.compiled_loss(y_true, y_pred) # main loss\n",
    "    ymean = k.mean(y_pred) # average prediction\n",
    "    didi = 0 # DIDI computation\n",
    "    for aidx, dom in self.protected.items():\n",
    "        for val in dom:\n",
    "            mask = (x[:, aidx] == val)\n",
    "            didi += k.abs(ymean - k.mean(y_pred[mask]))\n",
    "    cst = k.maximum(0.0, didi - self.thr) # regularizer\n",
    "    loss = mse + self.alpha * cst\n",
    "    return sign*loss, mse, cst\n",
    "```\n",
    "\n",
    "* The code is the same as before\n",
    "* ...Except that we can flip the loss sign via a function argument (i.e. `sign`)"
   ]
  },
  {
   "cell_type": "markdown",
   "metadata": {
    "slideshow": {
     "slide_type": "subslide"
    }
   },
   "source": [
    "## Implementing the Lagrangian Dual Approach\n",
    "\n",
    "**In the training method, we make _two distinct gradient steps:_**\n",
    "\n",
    "```python\n",
    "    def train_step(self, data):\n",
    "        x, y_true = data # unpacking\n",
    "        with tf.GradientTape() as tape: # first loss (minimization)\n",
    "            loss, mse, cst = self.__custom_loss(x, y_true, sign=1)\n",
    "        # Separate training variables\n",
    "        tr_vars = self.trainable_variables\n",
    "        wgt_vars = tr_vars[:-1] # network weights\n",
    "        mul_vars = tr_vars[-1:] # multiplier\n",
    "        grads = tape.gradient(loss, wgt_vars) # adjust the network weights\n",
    "        self.optimizer.apply_gradients(zip(grads, wgt_vars))\n",
    "        with tf.GradientTape() as tape: # second loss (maximization)\n",
    "            loss, mse, cst = self.__custom_loss(x, y_true, sign=-1)\n",
    "        grads = tape.gradient(loss, mul_vars) # adjust lambda\n",
    "        self.optimizer.apply_gradients(zip(grads, mul_vars))\n",
    "```\n",
    "\n",
    "* In principle, we could even have used two distinct optimizers\n",
    "* That would allow to keep (e.g.) separate momentum vectors"
   ]
  },
  {
   "cell_type": "markdown",
   "metadata": {
    "slideshow": {
     "slide_type": "subslide"
    }
   },
   "source": [
    "## Training the Lagrangian Dual Approach"
   ]
  },
  {
   "cell_type": "code",
   "execution_count": 34,
   "metadata": {},
   "outputs": [
    {
     "data": {
      "image/png": "[encoded data removed]",
      "text/plain": [
       "<Figure size 1008x360 with 1 Axes>"
      ]
     },
     "metadata": {
      "needs_background": "light"
     },
     "output_type": "display_data"
    }
   ],
   "source": [
    "nn4 = cst.LagDualDIDIRegressor(attributes, protected, thr=didi_thr, hidden=[])\n",
    "nn4.compile(optimizer='Adam', loss='mse')\n",
    "history4 = nn4.fit(tr[attributes], tr[target], batch_size=len(tr), epochs=3000, verbose=0)\n",
    "\n",
    "cst.plot_training_history(history4, figsize=figsize)"
   ]
  },
  {
   "cell_type": "markdown",
   "metadata": {
    "slideshow": {
     "slide_type": "subslide"
    }
   },
   "source": [
    "## Lagrangian Dual Evaluation\n",
    "\n",
    "**Let's check the new results**"
   ]
  },
  {
   "cell_type": "code",
   "execution_count": 35,
   "metadata": {},
   "outputs": [
    {
     "name": "stdout",
     "output_type": "stream",
     "text": [
      "R2 score: 0.63 (training), 0.56 (test)\n",
      "MAE: 0.05 (training), 0.06 (test)\n",
      "DIDI: 0.12 (training), 0.13 (test)\n"
     ]
    }
   ],
   "source": [
    "tr_pred4 = nn4.predict(tr[attributes])\n",
    "r2_tr4 = r2_score(tr[target], tr_pred4)\n",
    "mae_tr4 = mean_absolute_error(tr[target], tr_pred4)\n",
    "\n",
    "ts_pred4 = nn4.predict(ts[attributes])\n",
    "r2_ts4 = r2_score(ts[target], ts_pred4)\n",
    "mae_ts4 = mean_absolute_error(ts[target], ts_pred4)\n",
    "\n",
    "print(f'R2 score: {r2_tr4:.2f} (training), {r2_ts4:.2f} (test)')\n",
    "print(f'MAE: {mae_tr4:.2f} (training), {mae_ts4:.2f} (test)')\n",
    "\n",
    "tr_DIDI4 = cst.DIDI_r(tr, tr_pred4, protected)\n",
    "ts_DIDI4 = cst.DIDI_r(ts, ts_pred4, protected)\n",
    "print(f'DIDI: {tr_DIDI4:.2f} (training), {ts_DIDI4:.2f} (test)')"
   ]
  },
  {
   "cell_type": "markdown",
   "metadata": {},
   "source": [
    "* The DIDI has the desired value (on the test set, this is only roughly true)\n",
    "* ...And the prediction quality is _much higher_ (close to the original value)\n",
    "\n",
    "All this with only a slightly higher computational cost"
   ]
  },
  {
   "cell_type": "markdown",
   "metadata": {
    "slideshow": {
     "slide_type": "subslide"
    }
   },
   "source": [
    "## Final Considerations\n",
    "\n",
    "**The idea of injecting constraints in ML is attracting research interest**\n",
    "\n",
    "* It can be used to take advantage of domain/symbolic knowledge\n",
    "* It can be used to improve reliability and fairness\n",
    "\n",
    "**We haven't covered all possible approaches**\n",
    "\n",
    "* E.g. it is possible to incorporate constraints in the model structure\n",
    "* ...Or using constraints to correct the model output\n",
    "* A recent buzzword to watch for: neuro-symbolic integration\n",
    "\n",
    "**It is still an active research topic, with many open issues**\n",
    "\n",
    "* E.g. how to deal with non-differentiable constraints (project works available)\n",
    "* E.g. how to deal with large scale relational constraints (such as fairness ones)\n",
    "* E.g. how to tune/learn constraint multipliers for soft constraint\n",
    "* ..."
   ]
  }
 ],
 "metadata": {
  "celltoolbar": "Slideshow",
  "kernelspec": {
   "display_name": "Python 3",
   "language": "python",
   "name": "python3"
  },
  "language_info": {
   "codemirror_mode": {
    "name": "ipython",
    "version": 3
   },
   "file_extension": ".py",
   "mimetype": "text/x-python",
   "name": "python",
   "nbconvert_exporter": "python",
   "pygments_lexer": "ipython3",
   "version": "3.6.9"
  },
  "rise": {
   "center": false,
   "transition": "fade"
  },
  "widgets": {
   "application/vnd.jupyter.widget-state+json": {
    "state": {
     "00fca5ea90ed4b2794c8c8551c396da8": {
      "model_module": "@jupyter-widgets/base",
      "model_module_version": "1.2.0",
      "model_name": "LayoutModel",
      "state": {}
     },
     "05c74f98a7fd467d8848a4a68e5a24c5": {
      "model_module": "jupyter-matplotlib",
      "model_module_version": "^0.7.4",
      "model_name": "ToolbarModel",
      "state": {
       "layout": "IPY_MODEL_5f44229db86148bf8b30ca48192120cb",
       "toolitems": [
        [
         "Home",
         "Reset original view",
         "home",
         "home"
        ],
        [
         "Back",
         "Back to previous view",
         "arrow-left",
         "back"
        ],
        [
         "Forward",
         "Forward to next view",
         "arrow-right",
         "forward"
        ],
        [
         "Pan",
         "Left button pans, Right button zooms\nx/y fixes axis, CTRL fixes aspect",
         "arrows",
         "pan"
        ],
        [
         "Zoom",
         "Zoom to rectangle\nx/y fixes axis, CTRL fixes aspect",
         "square-o",
         "zoom"
        ],
        [
         "Download",
         "Download plot",
         "floppy-o",
         "save_figure"
        ]
       ]
      }
     },
     "0887f50bf4284b438a2c4b0a0c8df120": {
      "model_module": "@jupyter-widgets/base",
      "model_module_version": "1.2.0",
      "model_name": "LayoutModel",
      "state": {}
     },
     "0e58752554f14af5ae5a75fc80dac5f1": {
      "model_module": "@jupyter-widgets/base",
      "model_module_version": "1.2.0",
      "model_name": "LayoutModel",
      "state": {}
     },
     "13fcbb4f2dca417292c0c6ee69b60b28": {
      "model_module": "@jupyter-widgets/base",
      "model_module_version": "1.2.0",
      "model_name": "LayoutModel",
      "state": {}
     },
     "14a5269ea51d4bb595c2a12e3f85b400": {
      "model_module": "jupyter-matplotlib",
      "model_module_version": "^0.7.4",
      "model_name": "ToolbarModel",
      "state": {
       "layout": "IPY_MODEL_f22398eb661447499734a09fe4e12539",
       "toolitems": [
        [
         "Home",
         "Reset original view",
         "home",
         "home"
        ],
        [
         "Back",
         "Back to previous view",
         "arrow-left",
         "back"
        ],
        [
         "Forward",
         "Forward to next view",
         "arrow-right",
         "forward"
        ],
        [
         "Pan",
         "Left button pans, Right button zooms\nx/y fixes axis, CTRL fixes aspect",
         "arrows",
         "pan"
        ],
        [
         "Zoom",
         "Zoom to rectangle\nx/y fixes axis, CTRL fixes aspect",
         "square-o",
         "zoom"
        ],
        [
         "Download",
         "Download plot",
         "floppy-o",
         "save_figure"
        ]
       ]
      }
     },
     "180ba1f059b4472e9fe6d4ac470659c1": {
      "model_module": "@jupyter-widgets/base",
      "model_module_version": "1.2.0",
      "model_name": "LayoutModel",
      "state": {}
     },
     "1c340f8b2b89463dbf24a5e3f1ee866f": {
      "model_module": "@jupyter-widgets/base",
      "model_module_version": "1.2.0",
      "model_name": "LayoutModel",
      "state": {}
     },
     "263d61566e2f4c2cb1a714bb707b28ac": {
      "model_module": "jupyter-matplotlib",
      "model_module_version": "^0.7.4",
      "model_name": "ToolbarModel",
      "state": {
       "layout": "IPY_MODEL_a75165d7f5904e8a8fa3583fec7d61be",
       "toolitems": [
        [
         "Home",
         "Reset original view",
         "home",
         "home"
        ],
        [
         "Back",
         "Back to previous view",
         "arrow-left",
         "back"
        ],
        [
         "Forward",
         "Forward to next view",
         "arrow-right",
         "forward"
        ],
        [
         "Pan",
         "Left button pans, Right button zooms\nx/y fixes axis, CTRL fixes aspect",
         "arrows",
         "pan"
        ],
        [
         "Zoom",
         "Zoom to rectangle\nx/y fixes axis, CTRL fixes aspect",
         "square-o",
         "zoom"
        ],
        [
         "Download",
         "Download plot",
         "floppy-o",
         "save_figure"
        ]
       ]
      }
     },
     "282a56d4ad9f43b7b0d8ae5a4582a3a1": {
      "model_module": "@jupyter-widgets/base",
      "model_module_version": "1.2.0",
      "model_name": "LayoutModel",
      "state": {}
     },
     "2aabb4e3eb844135b6f8bcbec3d8a4e0": {
      "model_module": "jupyter-matplotlib",
      "model_module_version": "^0.7.4",
      "model_name": "ToolbarModel",
      "state": {
       "layout": "IPY_MODEL_00fca5ea90ed4b2794c8c8551c396da8",
       "toolitems": [
        [
         "Home",
         "Reset original view",
         "home",
         "home"
        ],
        [
         "Back",
         "Back to previous view",
         "arrow-left",
         "back"
        ],
        [
         "Forward",
         "Forward to next view",
         "arrow-right",
         "forward"
        ],
        [
         "Pan",
         "Left button pans, Right button zooms\nx/y fixes axis, CTRL fixes aspect",
         "arrows",
         "pan"
        ],
        [
         "Zoom",
         "Zoom to rectangle\nx/y fixes axis, CTRL fixes aspect",
         "square-o",
         "zoom"
        ],
        [
         "Download",
         "Download plot",
         "floppy-o",
         "save_figure"
        ]
       ]
      }
     },
     "2e30987536ba417b838330d347ea22cb": {
      "model_module": "@jupyter-widgets/base",
      "model_module_version": "1.2.0",
      "model_name": "LayoutModel",
      "state": {}
     },
     "308a91ea3cb547f3ad19865660b2391f": {
      "model_module": "jupyter-matplotlib",
      "model_module_version": "^0.7.4",
      "model_name": "ToolbarModel",
      "state": {
       "layout": "IPY_MODEL_7f80c39cb26242929b710943f05a58c3",
       "toolitems": [
        [
         "Home",
         "Reset original view",
         "home",
         "home"
        ],
        [
         "Back",
         "Back to previous view",
         "arrow-left",
         "back"
        ],
        [
         "Forward",
         "Forward to next view",
         "arrow-right",
         "forward"
        ],
        [
         "Pan",
         "Left button pans, Right button zooms\nx/y fixes axis, CTRL fixes aspect",
         "arrows",
         "pan"
        ],
        [
         "Zoom",
         "Zoom to rectangle\nx/y fixes axis, CTRL fixes aspect",
         "square-o",
         "zoom"
        ],
        [
         "Download",
         "Download plot",
         "floppy-o",
         "save_figure"
        ]
       ]
      }
     },
     "339dc727a8544fa194e0e36d5137d644": {
      "model_module": "@jupyter-widgets/base",
      "model_module_version": "1.2.0",
      "model_name": "LayoutModel",
      "state": {}
     },
     "3bd2f639dba848fd9ba77f733d998086": {
      "model_module": "jupyter-matplotlib",
      "model_module_version": "^0.7.4",
      "model_name": "ToolbarModel",
      "state": {
       "layout": "IPY_MODEL_ce38c525d5a242858127e60a08123725",
       "toolitems": [
        [
         "Home",
         "Reset original view",
         "home",
         "home"
        ],
        [
         "Back",
         "Back to previous view",
         "arrow-left",
         "back"
        ],
        [
         "Forward",
         "Forward to next view",
         "arrow-right",
         "forward"
        ],
        [
         "Pan",
         "Left button pans, Right button zooms\nx/y fixes axis, CTRL fixes aspect",
         "arrows",
         "pan"
        ],
        [
         "Zoom",
         "Zoom to rectangle\nx/y fixes axis, CTRL fixes aspect",
         "square-o",
         "zoom"
        ],
        [
         "Download",
         "Download plot",
         "floppy-o",
         "save_figure"
        ]
       ]
      }
     },
     "3d595d18ca0e4021b9594183451af0b5": {
      "model_module": "jupyter-matplotlib",
      "model_module_version": "^0.7.4",
      "model_name": "ToolbarModel",
      "state": {
       "layout": "IPY_MODEL_a9ce292cf0154a3c894340f1619aa595",
       "toolitems": [
        [
         "Home",
         "Reset original view",
         "home",
         "home"
        ],
        [
         "Back",
         "Back to previous view",
         "arrow-left",
         "back"
        ],
        [
         "Forward",
         "Forward to next view",
         "arrow-right",
         "forward"
        ],
        [
         "Pan",
         "Left button pans, Right button zooms\nx/y fixes axis, CTRL fixes aspect",
         "arrows",
         "pan"
        ],
        [
         "Zoom",
         "Zoom to rectangle\nx/y fixes axis, CTRL fixes aspect",
         "square-o",
         "zoom"
        ],
        [
         "Download",
         "Download plot",
         "floppy-o",
         "save_figure"
        ]
       ]
      }
     },
     "45c73415d66349d49d3c1e615cb85c1e": {
      "model_module": "@jupyter-widgets/base",
      "model_module_version": "1.2.0",
      "model_name": "LayoutModel",
      "state": {}
     },
     "45ca753c7d094b8981388ffedd170ee3": {
      "model_module": "jupyter-matplotlib",
      "model_module_version": "^0.7.4",
      "model_name": "ToolbarModel",
      "state": {
       "layout": "IPY_MODEL_83e66907711c4c318fc5da13e464a0c6",
       "toolitems": [
        [
         "Home",
         "Reset original view",
         "home",
         "home"
        ],
        [
         "Back",
         "Back to previous view",
         "arrow-left",
         "back"
        ],
        [
         "Forward",
         "Forward to next view",
         "arrow-right",
         "forward"
        ],
        [
         "Pan",
         "Left button pans, Right button zooms\nx/y fixes axis, CTRL fixes aspect",
         "arrows",
         "pan"
        ],
        [
         "Zoom",
         "Zoom to rectangle\nx/y fixes axis, CTRL fixes aspect",
         "square-o",
         "zoom"
        ],
        [
         "Download",
         "Download plot",
         "floppy-o",
         "save_figure"
        ]
       ]
      }
     },
     "4e406dc9f65f4cd98ee79d38353b71e5": {
      "model_module": "@jupyter-widgets/base",
      "model_module_version": "1.2.0",
      "model_name": "LayoutModel",
      "state": {}
     },
     "59748d620c014f439cacb5245f268004": {
      "model_module": "@jupyter-widgets/base",
      "model_module_version": "1.2.0",
      "model_name": "LayoutModel",
      "state": {}
     },
     "5dc0bad7b3f14e12a702577a4dc8a47a": {
      "model_module": "jupyter-matplotlib",
      "model_module_version": "^0.7.4",
      "model_name": "ToolbarModel",
      "state": {
       "layout": "IPY_MODEL_bbf857d5d25e4f9ba98207004081009d",
       "toolitems": [
        [
         "Home",
         "Reset original view",
         "home",
         "home"
        ],
        [
         "Back",
         "Back to previous view",
         "arrow-left",
         "back"
        ],
        [
         "Forward",
         "Forward to next view",
         "arrow-right",
         "forward"
        ],
        [
         "Pan",
         "Left button pans, Right button zooms\nx/y fixes axis, CTRL fixes aspect",
         "arrows",
         "pan"
        ],
        [
         "Zoom",
         "Zoom to rectangle\nx/y fixes axis, CTRL fixes aspect",
         "square-o",
         "zoom"
        ],
        [
         "Download",
         "Download plot",
         "floppy-o",
         "save_figure"
        ]
       ]
      }
     },
     "5f44229db86148bf8b30ca48192120cb": {
      "model_module": "@jupyter-widgets/base",
      "model_module_version": "1.2.0",
      "model_name": "LayoutModel",
      "state": {}
     },
     "64ac7ce0f2ff43a9b037d402521393af": {
      "model_module": "@jupyter-widgets/base",
      "model_module_version": "1.2.0",
      "model_name": "LayoutModel",
      "state": {}
     },
     "753a000a521f44c287947b08a4822095": {
      "model_module": "@jupyter-widgets/base",
      "model_module_version": "1.2.0",
      "model_name": "LayoutModel",
      "state": {}
     },
     "79674751a6ae40ceb060357ab9d59235": {
      "model_module": "@jupyter-widgets/base",
      "model_module_version": "1.2.0",
      "model_name": "LayoutModel",
      "state": {}
     },
     "7f80c39cb26242929b710943f05a58c3": {
      "model_module": "@jupyter-widgets/base",
      "model_module_version": "1.2.0",
      "model_name": "LayoutModel",
      "state": {}
     },
     "7fb4b2ce1a7d4cd996ad714cac32bef3": {
      "model_module": "@jupyter-widgets/base",
      "model_module_version": "1.2.0",
      "model_name": "LayoutModel",
      "state": {}
     },
     "82580b7b8cfb4a2994771d3346d461c2": {
      "model_module": "@jupyter-widgets/base",
      "model_module_version": "1.2.0",
      "model_name": "LayoutModel",
      "state": {}
     },
     "83e66907711c4c318fc5da13e464a0c6": {
      "model_module": "@jupyter-widgets/base",
      "model_module_version": "1.2.0",
      "model_name": "LayoutModel",
      "state": {}
     },
     "8fd2d82ab70241598e6f5ba54dd06e56": {
      "model_module": "@jupyter-widgets/base",
      "model_module_version": "1.2.0",
      "model_name": "LayoutModel",
      "state": {}
     },
     "94eda119f4a6452bb397d3955136d5b5": {
      "model_module": "@jupyter-widgets/base",
      "model_module_version": "1.2.0",
      "model_name": "LayoutModel",
      "state": {}
     },
     "95d8f4cdfc5646f18832833d55d2d16a": {
      "model_module": "@jupyter-widgets/base",
      "model_module_version": "1.2.0",
      "model_name": "LayoutModel",
      "state": {}
     },
     "97a1a4c425a94775869b79437c3fd022": {
      "model_module": "@jupyter-widgets/base",
      "model_module_version": "1.2.0",
      "model_name": "LayoutModel",
      "state": {}
     },
     "a75165d7f5904e8a8fa3583fec7d61be": {
      "model_module": "@jupyter-widgets/base",
      "model_module_version": "1.2.0",
      "model_name": "LayoutModel",
      "state": {}
     },
     "a90d7c748cec41a99bdfd7f8468b8121": {
      "model_module": "jupyter-matplotlib",
      "model_module_version": "^0.7.4",
      "model_name": "ToolbarModel",
      "state": {
       "layout": "IPY_MODEL_180ba1f059b4472e9fe6d4ac470659c1",
       "toolitems": [
        [
         "Home",
         "Reset original view",
         "home",
         "home"
        ],
        [
         "Back",
         "Back to previous view",
         "arrow-left",
         "back"
        ],
        [
         "Forward",
         "Forward to next view",
         "arrow-right",
         "forward"
        ],
        [
         "Pan",
         "Left button pans, Right button zooms\nx/y fixes axis, CTRL fixes aspect",
         "arrows",
         "pan"
        ],
        [
         "Zoom",
         "Zoom to rectangle\nx/y fixes axis, CTRL fixes aspect",
         "square-o",
         "zoom"
        ],
        [
         "Download",
         "Download plot",
         "floppy-o",
         "save_figure"
        ]
       ]
      }
     },
     "a9ce292cf0154a3c894340f1619aa595": {
      "model_module": "@jupyter-widgets/base",
      "model_module_version": "1.2.0",
      "model_name": "LayoutModel",
      "state": {}
     },
     "af345b2bc01b45e48414613f83a085a6": {
      "model_module": "@jupyter-widgets/base",
      "model_module_version": "1.2.0",
      "model_name": "LayoutModel",
      "state": {}
     },
     "af41a4cff24f47c0b86d55b287832ecf": {
      "model_module": "jupyter-matplotlib",
      "model_module_version": "^0.7.4",
      "model_name": "ToolbarModel",
      "state": {
       "layout": "IPY_MODEL_94eda119f4a6452bb397d3955136d5b5",
       "toolitems": [
        [
         "Home",
         "Reset original view",
         "home",
         "home"
        ],
        [
         "Back",
         "Back to previous view",
         "arrow-left",
         "back"
        ],
        [
         "Forward",
         "Forward to next view",
         "arrow-right",
         "forward"
        ],
        [
         "Pan",
         "Left button pans, Right button zooms\nx/y fixes axis, CTRL fixes aspect",
         "arrows",
         "pan"
        ],
        [
         "Zoom",
         "Zoom to rectangle\nx/y fixes axis, CTRL fixes aspect",
         "square-o",
         "zoom"
        ],
        [
         "Download",
         "Download plot",
         "floppy-o",
         "save_figure"
        ]
       ]
      }
     },
     "af98ca138a9247d7a22b124e17f4223d": {
      "model_module": "jupyter-matplotlib",
      "model_module_version": "^0.7.4",
      "model_name": "ToolbarModel",
      "state": {
       "layout": "IPY_MODEL_82580b7b8cfb4a2994771d3346d461c2",
       "toolitems": [
        [
         "Home",
         "Reset original view",
         "home",
         "home"
        ],
        [
         "Back",
         "Back to previous view",
         "arrow-left",
         "back"
        ],
        [
         "Forward",
         "Forward to next view",
         "arrow-right",
         "forward"
        ],
        [
         "Pan",
         "Left button pans, Right button zooms\nx/y fixes axis, CTRL fixes aspect",
         "arrows",
         "pan"
        ],
        [
         "Zoom",
         "Zoom to rectangle\nx/y fixes axis, CTRL fixes aspect",
         "square-o",
         "zoom"
        ],
        [
         "Download",
         "Download plot",
         "floppy-o",
         "save_figure"
        ]
       ]
      }
     },
     "b1edb3db6d3541d0ba08ef49c5521526": {
      "model_module": "@jupyter-widgets/base",
      "model_module_version": "1.2.0",
      "model_name": "LayoutModel",
      "state": {}
     },
     "b37591d38b054de6aaf640a85bf3b336": {
      "model_module": "jupyter-matplotlib",
      "model_module_version": "^0.7.4",
      "model_name": "ToolbarModel",
      "state": {
       "layout": "IPY_MODEL_0887f50bf4284b438a2c4b0a0c8df120",
       "toolitems": [
        [
         "Home",
         "Reset original view",
         "home",
         "home"
        ],
        [
         "Back",
         "Back to previous view",
         "arrow-left",
         "back"
        ],
        [
         "Forward",
         "Forward to next view",
         "arrow-right",
         "forward"
        ],
        [
         "Pan",
         "Left button pans, Right button zooms\nx/y fixes axis, CTRL fixes aspect",
         "arrows",
         "pan"
        ],
        [
         "Zoom",
         "Zoom to rectangle\nx/y fixes axis, CTRL fixes aspect",
         "square-o",
         "zoom"
        ],
        [
         "Download",
         "Download plot",
         "floppy-o",
         "save_figure"
        ]
       ]
      }
     },
     "baaae8885afc41fc9f3a64a2e80326d7": {
      "model_module": "@jupyter-widgets/base",
      "model_module_version": "1.2.0",
      "model_name": "LayoutModel",
      "state": {}
     },
     "bbf857d5d25e4f9ba98207004081009d": {
      "model_module": "@jupyter-widgets/base",
      "model_module_version": "1.2.0",
      "model_name": "LayoutModel",
      "state": {}
     },
     "bf2e95094ee442138a219aaedbfd7ffa": {
      "model_module": "@jupyter-widgets/base",
      "model_module_version": "1.2.0",
      "model_name": "LayoutModel",
      "state": {}
     },
     "bf7a8746375146a286897937871d22c8": {
      "model_module": "jupyter-matplotlib",
      "model_module_version": "^0.7.4",
      "model_name": "ToolbarModel",
      "state": {
       "layout": "IPY_MODEL_baaae8885afc41fc9f3a64a2e80326d7",
       "toolitems": [
        [
         "Home",
         "Reset original view",
         "home",
         "home"
        ],
        [
         "Back",
         "Back to previous view",
         "arrow-left",
         "back"
        ],
        [
         "Forward",
         "Forward to next view",
         "arrow-right",
         "forward"
        ],
        [
         "Pan",
         "Left button pans, Right button zooms\nx/y fixes axis, CTRL fixes aspect",
         "arrows",
         "pan"
        ],
        [
         "Zoom",
         "Zoom to rectangle\nx/y fixes axis, CTRL fixes aspect",
         "square-o",
         "zoom"
        ],
        [
         "Download",
         "Download plot",
         "floppy-o",
         "save_figure"
        ]
       ]
      }
     },
     "c35dcd8f722041d496ed61a287db45c4": {
      "model_module": "@jupyter-widgets/base",
      "model_module_version": "1.2.0",
      "model_name": "LayoutModel",
      "state": {}
     },
     "c47ab95360554002b8df5947fca761bb": {
      "model_module": "jupyter-matplotlib",
      "model_module_version": "^0.7.4",
      "model_name": "ToolbarModel",
      "state": {
       "layout": "IPY_MODEL_0e58752554f14af5ae5a75fc80dac5f1",
       "toolitems": [
        [
         "Home",
         "Reset original view",
         "home",
         "home"
        ],
        [
         "Back",
         "Back to previous view",
         "arrow-left",
         "back"
        ],
        [
         "Forward",
         "Forward to next view",
         "arrow-right",
         "forward"
        ],
        [
         "Pan",
         "Left button pans, Right button zooms\nx/y fixes axis, CTRL fixes aspect",
         "arrows",
         "pan"
        ],
        [
         "Zoom",
         "Zoom to rectangle\nx/y fixes axis, CTRL fixes aspect",
         "square-o",
         "zoom"
        ],
        [
         "Download",
         "Download plot",
         "floppy-o",
         "save_figure"
        ]
       ]
      }
     },
     "c544f542a14a407482c1c1b28fc33bcb": {
      "model_module": "@jupyter-widgets/base",
      "model_module_version": "1.2.0",
      "model_name": "LayoutModel",
      "state": {}
     },
     "c7f251aef790438d90eaa2f407c4880b": {
      "model_module": "jupyter-matplotlib",
      "model_module_version": "^0.7.4",
      "model_name": "ToolbarModel",
      "state": {
       "layout": "IPY_MODEL_45c73415d66349d49d3c1e615cb85c1e",
       "toolitems": [
        [
         "Home",
         "Reset original view",
         "home",
         "home"
        ],
        [
         "Back",
         "Back to previous view",
         "arrow-left",
         "back"
        ],
        [
         "Forward",
         "Forward to next view",
         "arrow-right",
         "forward"
        ],
        [
         "Pan",
         "Left button pans, Right button zooms\nx/y fixes axis, CTRL fixes aspect",
         "arrows",
         "pan"
        ],
        [
         "Zoom",
         "Zoom to rectangle\nx/y fixes axis, CTRL fixes aspect",
         "square-o",
         "zoom"
        ],
        [
         "Download",
         "Download plot",
         "floppy-o",
         "save_figure"
        ]
       ]
      }
     },
     "ce38c525d5a242858127e60a08123725": {
      "model_module": "@jupyter-widgets/base",
      "model_module_version": "1.2.0",
      "model_name": "LayoutModel",
      "state": {}
     },
     "d01215033ad045c69fd2128c327b4a73": {
      "model_module": "@jupyter-widgets/base",
      "model_module_version": "1.2.0",
      "model_name": "LayoutModel",
      "state": {}
     },
     "d66bd93c2b654bbea5f9af0cb13acab0": {
      "model_module": "jupyter-matplotlib",
      "model_module_version": "^0.7.4",
      "model_name": "ToolbarModel",
      "state": {
       "layout": "IPY_MODEL_c35dcd8f722041d496ed61a287db45c4",
       "toolitems": [
        [
         "Home",
         "Reset original view",
         "home",
         "home"
        ],
        [
         "Back",
         "Back to previous view",
         "arrow-left",
         "back"
        ],
        [
         "Forward",
         "Forward to next view",
         "arrow-right",
         "forward"
        ],
        [
         "Pan",
         "Left button pans, Right button zooms\nx/y fixes axis, CTRL fixes aspect",
         "arrows",
         "pan"
        ],
        [
         "Zoom",
         "Zoom to rectangle\nx/y fixes axis, CTRL fixes aspect",
         "square-o",
         "zoom"
        ],
        [
         "Download",
         "Download plot",
         "floppy-o",
         "save_figure"
        ]
       ]
      }
     },
     "d98c1762d2664cec9f1c6f37f4eb4938": {
      "model_module": "@jupyter-widgets/base",
      "model_module_version": "1.2.0",
      "model_name": "LayoutModel",
      "state": {}
     },
     "d9bc52de200f43a6a0edfdcc2a58e092": {
      "model_module": "@jupyter-widgets/base",
      "model_module_version": "1.2.0",
      "model_name": "LayoutModel",
      "state": {}
     },
     "dc6e30dade7a431083f87737300bd678": {
      "model_module": "jupyter-matplotlib",
      "model_module_version": "^0.7.4",
      "model_name": "ToolbarModel",
      "state": {
       "layout": "IPY_MODEL_13fcbb4f2dca417292c0c6ee69b60b28",
       "toolitems": [
        [
         "Home",
         "Reset original view",
         "home",
         "home"
        ],
        [
         "Back",
         "Back to previous view",
         "arrow-left",
         "back"
        ],
        [
         "Forward",
         "Forward to next view",
         "arrow-right",
         "forward"
        ],
        [
         "Pan",
         "Left button pans, Right button zooms\nx/y fixes axis, CTRL fixes aspect",
         "arrows",
         "pan"
        ],
        [
         "Zoom",
         "Zoom to rectangle\nx/y fixes axis, CTRL fixes aspect",
         "square-o",
         "zoom"
        ],
        [
         "Download",
         "Download plot",
         "floppy-o",
         "save_figure"
        ]
       ]
      }
     },
     "ddc717a530e647fb83ef6c4e38e24812": {
      "model_module": "@jupyter-widgets/base",
      "model_module_version": "1.2.0",
      "model_name": "LayoutModel",
      "state": {}
     },
     "e379b0f4018845de8aab426288b518eb": {
      "model_module": "jupyter-matplotlib",
      "model_module_version": "^0.7.4",
      "model_name": "ToolbarModel",
      "state": {
       "layout": "IPY_MODEL_79674751a6ae40ceb060357ab9d59235",
       "toolitems": [
        [
         "Home",
         "Reset original view",
         "home",
         "home"
        ],
        [
         "Back",
         "Back to previous view",
         "arrow-left",
         "back"
        ],
        [
         "Forward",
         "Forward to next view",
         "arrow-right",
         "forward"
        ],
        [
         "Pan",
         "Left button pans, Right button zooms\nx/y fixes axis, CTRL fixes aspect",
         "arrows",
         "pan"
        ],
        [
         "Zoom",
         "Zoom to rectangle\nx/y fixes axis, CTRL fixes aspect",
         "square-o",
         "zoom"
        ],
        [
         "Download",
         "Download plot",
         "floppy-o",
         "save_figure"
        ]
       ]
      }
     },
     "e721449611e443a2b3bb871bbfbaa6dd": {
      "model_module": "jupyter-matplotlib",
      "model_module_version": "^0.7.4",
      "model_name": "ToolbarModel",
      "state": {
       "layout": "IPY_MODEL_d9bc52de200f43a6a0edfdcc2a58e092",
       "toolitems": [
        [
         "Home",
         "Reset original view",
         "home",
         "home"
        ],
        [
         "Back",
         "Back to previous view",
         "arrow-left",
         "back"
        ],
        [
         "Forward",
         "Forward to next view",
         "arrow-right",
         "forward"
        ],
        [
         "Pan",
         "Left button pans, Right button zooms\nx/y fixes axis, CTRL fixes aspect",
         "arrows",
         "pan"
        ],
        [
         "Zoom",
         "Zoom to rectangle\nx/y fixes axis, CTRL fixes aspect",
         "square-o",
         "zoom"
        ],
        [
         "Download",
         "Download plot",
         "floppy-o",
         "save_figure"
        ]
       ]
      }
     },
     "f22398eb661447499734a09fe4e12539": {
      "model_module": "@jupyter-widgets/base",
      "model_module_version": "1.2.0",
      "model_name": "LayoutModel",
      "state": {}
     },
     "f2b3de4a13f2406297a4dbcee3ab6536": {
      "model_module": "@jupyter-widgets/base",
      "model_module_version": "1.2.0",
      "model_name": "LayoutModel",
      "state": {}
     }
    },
    "version_major": 2,
    "version_minor": 0
   }
  }
 },
 "nbformat": 4,
 "nbformat_minor": 4
}
