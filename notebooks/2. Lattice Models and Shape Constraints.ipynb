{
 "cells": [
  {
   "cell_type": "code",
   "execution_count": 1,
   "metadata": {
    "slideshow": {
     "slide_type": "skip"
    }
   },
   "outputs": [],
   "source": [
    "# ============================================================\n",
    "# Notebook setup\n",
    "# ============================================================\n",
    "\n",
    "%load_ext autoreload\n",
    "%autoreload 2\n",
    "\n",
    "# Control figure size\n",
    "interactive_figures = False\n",
    "if interactive_figures:\n",
    "    # Normal behavior\n",
    "    %matplotlib widget\n",
    "    figsize=(9, 3)\n",
    "else:\n",
    "    # PDF export behavior\n",
    "    figsize=(14, 5)\n",
    "\n",
    "from util import cst\n",
    "import numpy as np\n",
    "from matplotlib import pyplot as plt\n",
    "import pandas as pd\n",
    "from tensorflow import keras\n",
    "from tensorflow.keras import layers, callbacks\n",
    "from tensorflow_probability import distributions\n",
    "from sklearn.metrics import r2_score, mean_squared_error, roc_auc_score\n",
    "from tensorflow.keras import backend as k"
   ]
  },
  {
   "cell_type": "markdown",
   "metadata": {
    "slideshow": {
     "slide_type": "slide"
    }
   },
   "source": [
    "# Shape Constraints in Lattice Models"
   ]
  },
  {
   "cell_type": "markdown",
   "metadata": {
    "slideshow": {
     "slide_type": "subslide"
    }
   },
   "source": [
    "## Click-Through Rate Prediction\n",
    "\n",
    "**Let's consider an automatic recommendation problem**\n",
    "\n",
    "* Given a set of restaurant indexed on a a web platform (think Tripadvisor)\n",
    "* ...We want to estimate how likely a user is to actually open the restaurant card\n",
    "\n",
    "This is know as click-through rate\n",
    "\n",
    "<center><img src=\"assets/la-montanara.jpg\" width=600px/></center>\n",
    "\n",
    "This example (and the approach) is based on this [TensorFlow Lattice Tutorail](https://www.tensorflow.org/lattice/tutorials/shape_constraints)"
   ]
  },
  {
   "cell_type": "markdown",
   "metadata": {
    "slideshow": {
     "slide_type": "subslide"
    }
   },
   "source": [
    "## Loading the Data\n",
    "\n",
    "**Let's start by loading the dataset**"
   ]
  },
  {
   "cell_type": "code",
   "execution_count": 2,
   "metadata": {},
   "outputs": [
    {
     "data": {
      "text/html": [
       "<div>\n",
       "<style scoped>\n",
       "    .dataframe tbody tr th:only-of-type {\n",
       "        vertical-align: middle;\n",
       "    }\n",
       "\n",
       "    .dataframe tbody tr th {\n",
       "        vertical-align: top;\n",
       "    }\n",
       "\n",
       "    .dataframe thead th {\n",
       "        text-align: right;\n",
       "    }\n",
       "</style>\n",
       "<table border=\"1\" class=\"dataframe\">\n",
       "  <thead>\n",
       "    <tr style=\"text-align: right;\">\n",
       "      <th></th>\n",
       "      <th>avg_rating</th>\n",
       "      <th>num_reviews</th>\n",
       "      <th>dollar_rating</th>\n",
       "      <th>clicked</th>\n",
       "    </tr>\n",
       "  </thead>\n",
       "  <tbody>\n",
       "    <tr>\n",
       "      <th>0</th>\n",
       "      <td>3.927976</td>\n",
       "      <td>122.0</td>\n",
       "      <td>DDDD</td>\n",
       "      <td>1</td>\n",
       "    </tr>\n",
       "    <tr>\n",
       "      <th>1</th>\n",
       "      <td>3.927976</td>\n",
       "      <td>122.0</td>\n",
       "      <td>DDDD</td>\n",
       "      <td>0</td>\n",
       "    </tr>\n",
       "    <tr>\n",
       "      <th>2</th>\n",
       "      <td>3.927976</td>\n",
       "      <td>122.0</td>\n",
       "      <td>DDDD</td>\n",
       "      <td>0</td>\n",
       "    </tr>\n",
       "  </tbody>\n",
       "</table>\n",
       "</div>"
      ],
      "text/plain": [
       "   avg_rating  num_reviews dollar_rating  clicked\n",
       "0    3.927976        122.0          DDDD        1\n",
       "1    3.927976        122.0          DDDD        0\n",
       "2    3.927976        122.0          DDDD        0"
      ]
     },
     "execution_count": 2,
     "metadata": {},
     "output_type": "execute_result"
    }
   ],
   "source": [
    "tr, val, ts = cst.load_restaurant_data()\n",
    "tr.iloc[:3]"
   ]
  },
  {
   "cell_type": "markdown",
   "metadata": {},
   "source": [
    "* There are two numeric attributes, a categorical one, and a target\n",
    "* Each row represents one visualization event, hence there are _duplicates_"
   ]
  },
  {
   "cell_type": "code",
   "execution_count": 3,
   "metadata": {},
   "outputs": [
    {
     "name": "stdout",
     "output_type": "stream",
     "text": [
      "#examples: 835, #duplicated inputs 395\n"
     ]
    }
   ],
   "source": [
    "dt_in = ['avg_rating', 'num_reviews', 'dollar_rating']\n",
    "ndup = np.sum(tr.duplicated(dt_in))\n",
    "print(f'#examples: {len(tr)}, #duplicated inputs {ndup}')"
   ]
  },
  {
   "cell_type": "markdown",
   "metadata": {},
   "source": [
    "* The click rate can be inferred by number of clicks for each restaurant"
   ]
  },
  {
   "cell_type": "markdown",
   "metadata": {
    "slideshow": {
     "slide_type": "subslide"
    }
   },
   "source": [
    "## Target Function\n",
    "\n",
    "**This is a synthetic dataset, for which we know the target function**"
   ]
  },
  {
   "cell_type": "code",
   "execution_count": 4,
   "metadata": {},
   "outputs": [
    {
     "data": {
      "image/png": "[encoded data removed]",
      "text/plain": [
       "<Figure size 1008x360 with 4 Axes>"
      ]
     },
     "metadata": {
      "needs_background": "light"
     },
     "output_type": "display_data"
    }
   ],
   "source": [
    "cst.plot_ctr_truth(figsize=figsize)"
   ]
  },
  {
   "cell_type": "markdown",
   "metadata": {},
   "source": [
    "* The click rate grows with the average rating and the number of reviews\n",
    "* Average priced restaurant are clicked the most"
   ]
  },
  {
   "cell_type": "markdown",
   "metadata": {
    "slideshow": {
     "slide_type": "subslide"
    }
   },
   "source": [
    "## Data Distribution\n",
    "\n",
    "**Let's check the attribute distribution on the training set**"
   ]
  },
  {
   "cell_type": "code",
   "execution_count": 5,
   "metadata": {
    "scrolled": true
   },
   "outputs": [
    {
     "data": {
      "image/png": "[encoded data removed]",
      "text/plain": [
       "<Figure size 1008x360 with 3 Axes>"
      ]
     },
     "metadata": {
      "needs_background": "light"
     },
     "output_type": "display_data"
    }
   ],
   "source": [
    "cst.plot_ctr_distribution(tr, figsize=figsize)"
   ]
  },
  {
   "cell_type": "markdown",
   "metadata": {
    "slideshow": {
     "slide_type": "subslide"
    }
   },
   "source": [
    "## Data Distribution\n",
    "\n",
    "**...Then on the validation set**"
   ]
  },
  {
   "cell_type": "code",
   "execution_count": 6,
   "metadata": {
    "scrolled": true
   },
   "outputs": [
    {
     "data": {
      "image/png": "[encoded data removed]",
      "text/plain": [
       "<Figure size 1008x360 with 3 Axes>"
      ]
     },
     "metadata": {
      "needs_background": "light"
     },
     "output_type": "display_data"
    }
   ],
   "source": [
    "cst.plot_ctr_distribution(val, figsize=figsize)"
   ]
  },
  {
   "cell_type": "markdown",
   "metadata": {},
   "source": [
    "Not exactly the same, but roughly matches"
   ]
  },
  {
   "cell_type": "markdown",
   "metadata": {
    "slideshow": {
     "slide_type": "subslide"
    }
   },
   "source": [
    "## Data Distribution\n",
    "\n",
    "**...And finally on the test set**"
   ]
  },
  {
   "cell_type": "code",
   "execution_count": 7,
   "metadata": {
    "scrolled": true
   },
   "outputs": [
    {
     "data": {
      "image/png": "[encoded data removed]",
      "text/plain": [
       "<Figure size 1008x360 with 3 Axes>"
      ]
     },
     "metadata": {
      "needs_background": "light"
     },
     "output_type": "display_data"
    }
   ],
   "source": [
    "cst.plot_ctr_distribution(ts, figsize=figsize)"
   ]
  },
  {
   "cell_type": "markdown",
   "metadata": {},
   "source": [
    "Here there is _a strong discrepancy w.r.t. the training set_"
   ]
  },
  {
   "cell_type": "markdown",
   "metadata": {
    "slideshow": {
     "slide_type": "subslide"
    }
   },
   "source": [
    "## Distribution Discrepancy\n",
    "\n",
    "**What is the reason for the discrepancy?**\n",
    "\n",
    "A training set for this kind of problem will come from app usage data\n",
    "\n",
    "* Users seldom scroll through all search results\n",
    "* ...So their clicks will be biased toward high ranked restaurant\n",
    "\n",
    "Any training set obtained in this fashion will be _strongly biased_\n",
    "\n",
    "**However, click rate prediction is typically use for ranking search results**\n",
    "\n",
    "...Meaning that we will need to evaluate also less viewed restaurants\n",
    "\n",
    "* In a practical problem, the test set _would not even be available_\n",
    "* We have it just as a mean for validating our results\n",
    "\n",
    "A bias in the training can be problematic: we will try to see that in action"
   ]
  },
  {
   "cell_type": "markdown",
   "metadata": {
    "slideshow": {
     "slide_type": "slide"
    }
   },
   "source": [
    "# A Baseline Approach"
   ]
  },
  {
   "cell_type": "markdown",
   "metadata": {
    "slideshow": {
     "slide_type": "subslide"
    }
   },
   "source": [
    "## Preparing the Data\n",
    "\n",
    "**We will start by tackling the problem using a Multi Layer Perceptron**\n",
    "\n",
    "We normalize the numeric data:"
   ]
  },
  {
   "cell_type": "code",
   "execution_count": 8,
   "metadata": {},
   "outputs": [],
   "source": [
    "nf = ['avg_rating', 'num_reviews']\n",
    "scale = tr[nf].max()\n",
    "\n",
    "tr_s = tr.copy()\n",
    "tr_s[nf] = tr_s[nf] / scale\n",
    "val_s = val.copy()\n",
    "val_s[nf] = val_s[nf] / scale\n",
    "ts_s = ts.copy()\n",
    "ts_s[nf] = ts_s[nf] / scale"
   ]
  },
  {
   "cell_type": "markdown",
   "metadata": {},
   "source": [
    "We also adopt a one-hot encoding for the categorical data:"
   ]
  },
  {
   "cell_type": "code",
   "execution_count": 9,
   "metadata": {},
   "outputs": [],
   "source": [
    "tr_sc = pd.get_dummies(tr_s).astype(np.float32)\n",
    "val_sc = pd.get_dummies(val_s).astype(np.float32)\n",
    "ts_sc = pd.get_dummies(ts_s).astype(np.float32)\n",
    "dt_in_c = [c for c in tr_sc.columns if c != 'clicked']"
   ]
  },
  {
   "cell_type": "markdown",
   "metadata": {
    "slideshow": {
     "slide_type": "subslide"
    }
   },
   "source": [
    "## Preparing the Data\n",
    "\n",
    "**Here is the result of our preparation**"
   ]
  },
  {
   "cell_type": "code",
   "execution_count": 10,
   "metadata": {},
   "outputs": [
    {
     "data": {
      "text/html": [
       "<div>\n",
       "<style scoped>\n",
       "    .dataframe tbody tr th:only-of-type {\n",
       "        vertical-align: middle;\n",
       "    }\n",
       "\n",
       "    .dataframe tbody tr th {\n",
       "        vertical-align: top;\n",
       "    }\n",
       "\n",
       "    .dataframe thead th {\n",
       "        text-align: right;\n",
       "    }\n",
       "</style>\n",
       "<table border=\"1\" class=\"dataframe\">\n",
       "  <thead>\n",
       "    <tr style=\"text-align: right;\">\n",
       "      <th></th>\n",
       "      <th>avg_rating</th>\n",
       "      <th>num_reviews</th>\n",
       "      <th>clicked</th>\n",
       "      <th>dollar_rating_D</th>\n",
       "      <th>dollar_rating_DD</th>\n",
       "      <th>dollar_rating_DDD</th>\n",
       "      <th>dollar_rating_DDDD</th>\n",
       "    </tr>\n",
       "  </thead>\n",
       "  <tbody>\n",
       "    <tr>\n",
       "      <th>0</th>\n",
       "      <td>0.785773</td>\n",
       "      <td>0.610</td>\n",
       "      <td>1.0</td>\n",
       "      <td>0.0</td>\n",
       "      <td>0.0</td>\n",
       "      <td>0.0</td>\n",
       "      <td>1.0</td>\n",
       "    </tr>\n",
       "    <tr>\n",
       "      <th>1</th>\n",
       "      <td>0.785773</td>\n",
       "      <td>0.610</td>\n",
       "      <td>0.0</td>\n",
       "      <td>0.0</td>\n",
       "      <td>0.0</td>\n",
       "      <td>0.0</td>\n",
       "      <td>1.0</td>\n",
       "    </tr>\n",
       "    <tr>\n",
       "      <th>2</th>\n",
       "      <td>0.785773</td>\n",
       "      <td>0.610</td>\n",
       "      <td>0.0</td>\n",
       "      <td>0.0</td>\n",
       "      <td>0.0</td>\n",
       "      <td>0.0</td>\n",
       "      <td>1.0</td>\n",
       "    </tr>\n",
       "    <tr>\n",
       "      <th>3</th>\n",
       "      <td>0.866150</td>\n",
       "      <td>0.610</td>\n",
       "      <td>1.0</td>\n",
       "      <td>0.0</td>\n",
       "      <td>0.0</td>\n",
       "      <td>0.0</td>\n",
       "      <td>1.0</td>\n",
       "    </tr>\n",
       "    <tr>\n",
       "      <th>4</th>\n",
       "      <td>0.619945</td>\n",
       "      <td>0.590</td>\n",
       "      <td>0.0</td>\n",
       "      <td>0.0</td>\n",
       "      <td>1.0</td>\n",
       "      <td>0.0</td>\n",
       "      <td>0.0</td>\n",
       "    </tr>\n",
       "    <tr>\n",
       "      <th>...</th>\n",
       "      <td>...</td>\n",
       "      <td>...</td>\n",
       "      <td>...</td>\n",
       "      <td>...</td>\n",
       "      <td>...</td>\n",
       "      <td>...</td>\n",
       "      <td>...</td>\n",
       "    </tr>\n",
       "    <tr>\n",
       "      <th>830</th>\n",
       "      <td>0.597304</td>\n",
       "      <td>0.055</td>\n",
       "      <td>1.0</td>\n",
       "      <td>0.0</td>\n",
       "      <td>1.0</td>\n",
       "      <td>0.0</td>\n",
       "      <td>0.0</td>\n",
       "    </tr>\n",
       "    <tr>\n",
       "      <th>831</th>\n",
       "      <td>0.783784</td>\n",
       "      <td>0.505</td>\n",
       "      <td>1.0</td>\n",
       "      <td>1.0</td>\n",
       "      <td>0.0</td>\n",
       "      <td>0.0</td>\n",
       "      <td>0.0</td>\n",
       "    </tr>\n",
       "    <tr>\n",
       "      <th>832</th>\n",
       "      <td>0.783784</td>\n",
       "      <td>0.505</td>\n",
       "      <td>1.0</td>\n",
       "      <td>1.0</td>\n",
       "      <td>0.0</td>\n",
       "      <td>0.0</td>\n",
       "      <td>0.0</td>\n",
       "    </tr>\n",
       "    <tr>\n",
       "      <th>833</th>\n",
       "      <td>0.688336</td>\n",
       "      <td>0.270</td>\n",
       "      <td>1.0</td>\n",
       "      <td>0.0</td>\n",
       "      <td>1.0</td>\n",
       "      <td>0.0</td>\n",
       "      <td>0.0</td>\n",
       "    </tr>\n",
       "    <tr>\n",
       "      <th>834</th>\n",
       "      <td>0.688336</td>\n",
       "      <td>0.270</td>\n",
       "      <td>0.0</td>\n",
       "      <td>0.0</td>\n",
       "      <td>1.0</td>\n",
       "      <td>0.0</td>\n",
       "      <td>0.0</td>\n",
       "    </tr>\n",
       "  </tbody>\n",
       "</table>\n",
       "<p>835 rows × 7 columns</p>\n",
       "</div>"
      ],
      "text/plain": [
       "     avg_rating  num_reviews  clicked  dollar_rating_D  dollar_rating_DD  \\\n",
       "0      0.785773        0.610      1.0              0.0               0.0   \n",
       "1      0.785773        0.610      0.0              0.0               0.0   \n",
       "2      0.785773        0.610      0.0              0.0               0.0   \n",
       "3      0.866150        0.610      1.0              0.0               0.0   \n",
       "4      0.619945        0.590      0.0              0.0               1.0   \n",
       "..          ...          ...      ...              ...               ...   \n",
       "830    0.597304        0.055      1.0              0.0               1.0   \n",
       "831    0.783784        0.505      1.0              1.0               0.0   \n",
       "832    0.783784        0.505      1.0              1.0               0.0   \n",
       "833    0.688336        0.270      1.0              0.0               1.0   \n",
       "834    0.688336        0.270      0.0              0.0               1.0   \n",
       "\n",
       "     dollar_rating_DDD  dollar_rating_DDDD  \n",
       "0                  0.0                 1.0  \n",
       "1                  0.0                 1.0  \n",
       "2                  0.0                 1.0  \n",
       "3                  0.0                 1.0  \n",
       "4                  0.0                 0.0  \n",
       "..                 ...                 ...  \n",
       "830                0.0                 0.0  \n",
       "831                0.0                 0.0  \n",
       "832                0.0                 0.0  \n",
       "833                0.0                 0.0  \n",
       "834                0.0                 0.0  \n",
       "\n",
       "[835 rows x 7 columns]"
      ]
     },
     "execution_count": 10,
     "metadata": {},
     "output_type": "execute_result"
    }
   ],
   "source": [
    "tr_sc"
   ]
  },
  {
   "cell_type": "markdown",
   "metadata": {
    "slideshow": {
     "slide_type": "subslide"
    }
   },
   "source": [
    "## Training the MLP\n",
    "\n",
    "**We can now train the MLP model**"
   ]
  },
  {
   "cell_type": "code",
   "execution_count": 11,
   "metadata": {
    "scrolled": true
   },
   "outputs": [
    {
     "name": "stdout",
     "output_type": "stream",
     "text": [
      "Epoch 1/150\n",
      "27/27 [==============================] - 1s 1ms/step - loss: 0.6298\n",
      "Epoch 2/150\n",
      "27/27 [==============================] - 0s 951us/step - loss: 0.6189\n",
      "Epoch 3/150\n",
      "27/27 [==============================] - 0s 917us/step - loss: 0.6123\n",
      "Epoch 4/150\n",
      "27/27 [==============================] - 0s 915us/step - loss: 0.6068\n",
      "Epoch 5/150\n",
      "27/27 [==============================] - 0s 944us/step - loss: 0.6013\n",
      "Epoch 6/150\n",
      "27/27 [==============================] - 0s 924us/step - loss: 0.5964\n",
      "Epoch 7/150\n",
      "27/27 [==============================] - 0s 928us/step - loss: 0.5917\n",
      "Epoch 8/150\n",
      "27/27 [==============================] - 0s 933us/step - loss: 0.5879\n",
      "Epoch 9/150\n",
      "27/27 [==============================] - 0s 958us/step - loss: 0.5815\n",
      "Epoch 10/150\n",
      "27/27 [==============================] - 0s 934us/step - loss: 0.5758\n",
      "Epoch 11/150\n",
      "27/27 [==============================] - 0s 987us/step - loss: 0.5708\n",
      "Epoch 12/150\n",
      "27/27 [==============================] - 0s 948us/step - loss: 0.5624\n",
      "Epoch 13/150\n",
      "27/27 [==============================] - 0s 950us/step - loss: 0.5563\n",
      "Epoch 14/150\n",
      "27/27 [==============================] - 0s 903us/step - loss: 0.5518\n",
      "Epoch 15/150\n",
      "27/27 [==============================] - 0s 944us/step - loss: 0.5467\n",
      "Epoch 16/150\n",
      "27/27 [==============================] - 0s 968us/step - loss: 0.5438\n",
      "Epoch 17/150\n",
      "27/27 [==============================] - 0s 944us/step - loss: 0.5408\n",
      "Epoch 18/150\n",
      "27/27 [==============================] - 0s 986us/step - loss: 0.5354\n",
      "Epoch 19/150\n",
      "27/27 [==============================] - 0s 935us/step - loss: 0.5345\n",
      "Epoch 20/150\n",
      "27/27 [==============================] - 0s 920us/step - loss: 0.5310\n",
      "Epoch 21/150\n",
      "27/27 [==============================] - 0s 945us/step - loss: 0.5298\n",
      "Epoch 22/150\n",
      "27/27 [==============================] - 0s 1ms/step - loss: 0.5266\n",
      "Epoch 23/150\n",
      "27/27 [==============================] - 0s 1ms/step - loss: 0.5287\n",
      "Epoch 24/150\n",
      "27/27 [==============================] - 0s 1ms/step - loss: 0.5289\n",
      "Epoch 25/150\n",
      "27/27 [==============================] - 0s 917us/step - loss: 0.5226\n",
      "Epoch 26/150\n",
      "27/27 [==============================] - 0s 896us/step - loss: 0.5220\n",
      "Epoch 27/150\n",
      "27/27 [==============================] - 0s 935us/step - loss: 0.5192\n",
      "Epoch 28/150\n",
      "27/27 [==============================] - 0s 948us/step - loss: 0.5204\n",
      "Epoch 29/150\n",
      "27/27 [==============================] - 0s 911us/step - loss: 0.5179\n",
      "Epoch 30/150\n",
      "27/27 [==============================] - 0s 971us/step - loss: 0.5193\n",
      "Epoch 31/150\n",
      "27/27 [==============================] - 0s 951us/step - loss: 0.5163\n",
      "Epoch 32/150\n",
      "27/27 [==============================] - 0s 945us/step - loss: 0.5148\n",
      "Epoch 33/150\n",
      "27/27 [==============================] - 0s 935us/step - loss: 0.5148\n",
      "Epoch 34/150\n",
      "27/27 [==============================] - 0s 969us/step - loss: 0.5179\n",
      "Epoch 35/150\n",
      "27/27 [==============================] - 0s 934us/step - loss: 0.5142\n",
      "Epoch 36/150\n",
      "27/27 [==============================] - 0s 942us/step - loss: 0.5124\n",
      "Epoch 37/150\n",
      "27/27 [==============================] - 0s 1ms/step - loss: 0.5162\n",
      "Epoch 38/150\n",
      "27/27 [==============================] - 0s 928us/step - loss: 0.5191\n",
      "Epoch 39/150\n",
      "27/27 [==============================] - 0s 973us/step - loss: 0.5159\n",
      "Epoch 40/150\n",
      "27/27 [==============================] - 0s 951us/step - loss: 0.5106\n",
      "Epoch 41/150\n",
      "27/27 [==============================] - 0s 913us/step - loss: 0.5142\n",
      "Epoch 42/150\n",
      "27/27 [==============================] - 0s 1ms/step - loss: 0.5117\n",
      "Epoch 43/150\n",
      "27/27 [==============================] - 0s 1ms/step - loss: 0.5085\n",
      "Epoch 44/150\n",
      "27/27 [==============================] - 0s 1ms/step - loss: 0.5079\n",
      "Epoch 45/150\n",
      "27/27 [==============================] - 0s 983us/step - loss: 0.5092\n",
      "Epoch 46/150\n",
      "27/27 [==============================] - 0s 945us/step - loss: 0.5076\n",
      "Epoch 47/150\n",
      "27/27 [==============================] - 0s 884us/step - loss: 0.5087\n",
      "Epoch 48/150\n",
      "27/27 [==============================] - 0s 997us/step - loss: 0.5066\n",
      "Epoch 49/150\n",
      "27/27 [==============================] - 0s 991us/step - loss: 0.5067\n",
      "Epoch 50/150\n",
      "27/27 [==============================] - 0s 959us/step - loss: 0.5078\n",
      "Epoch 51/150\n",
      "27/27 [==============================] - 0s 977us/step - loss: 0.5077\n",
      "Epoch 52/150\n",
      "27/27 [==============================] - 0s 970us/step - loss: 0.5083\n",
      "Epoch 53/150\n",
      "27/27 [==============================] - 0s 937us/step - loss: 0.5064\n",
      "Epoch 54/150\n",
      "27/27 [==============================] - 0s 979us/step - loss: 0.5049\n",
      "Epoch 55/150\n",
      "27/27 [==============================] - 0s 939us/step - loss: 0.5053\n",
      "Epoch 56/150\n",
      "27/27 [==============================] - 0s 918us/step - loss: 0.5065\n",
      "Epoch 57/150\n",
      "27/27 [==============================] - 0s 956us/step - loss: 0.5049\n",
      "Epoch 58/150\n",
      "27/27 [==============================] - 0s 937us/step - loss: 0.5033\n",
      "Epoch 59/150\n",
      "27/27 [==============================] - 0s 938us/step - loss: 0.5036\n",
      "Epoch 60/150\n",
      "27/27 [==============================] - 0s 1ms/step - loss: 0.5064\n",
      "Epoch 61/150\n",
      "27/27 [==============================] - 0s 934us/step - loss: 0.5126\n",
      "Epoch 62/150\n",
      "27/27 [==============================] - 0s 933us/step - loss: 0.5037\n",
      "Epoch 63/150\n",
      "27/27 [==============================] - 0s 956us/step - loss: 0.5018\n",
      "Epoch 64/150\n",
      "27/27 [==============================] - 0s 965us/step - loss: 0.5020\n",
      "Epoch 65/150\n",
      "27/27 [==============================] - 0s 965us/step - loss: 0.5022\n",
      "Epoch 66/150\n",
      "27/27 [==============================] - 0s 936us/step - loss: 0.5032\n",
      "Epoch 67/150\n",
      "27/27 [==============================] - 0s 957us/step - loss: 0.5007\n",
      "Epoch 68/150\n",
      "27/27 [==============================] - 0s 928us/step - loss: 0.5021\n",
      "Epoch 69/150\n",
      "27/27 [==============================] - 0s 982us/step - loss: 0.5038\n",
      "Epoch 70/150\n",
      "27/27 [==============================] - 0s 929us/step - loss: 0.5016\n",
      "Epoch 71/150\n",
      "27/27 [==============================] - 0s 942us/step - loss: 0.5021\n",
      "Epoch 72/150\n",
      "27/27 [==============================] - 0s 991us/step - loss: 0.5010\n",
      "Epoch 73/150\n",
      "27/27 [==============================] - 0s 953us/step - loss: 0.5018\n",
      "Epoch 74/150\n",
      "27/27 [==============================] - 0s 910us/step - loss: 0.5005\n",
      "Epoch 75/150\n",
      "27/27 [==============================] - 0s 932us/step - loss: 0.5005\n",
      "Epoch 76/150\n",
      "27/27 [==============================] - 0s 961us/step - loss: 0.5001\n",
      "Epoch 77/150\n",
      "27/27 [==============================] - 0s 949us/step - loss: 0.5005\n",
      "Epoch 78/150\n",
      "27/27 [==============================] - 0s 943us/step - loss: 0.5028\n",
      "Epoch 79/150\n",
      "27/27 [==============================] - 0s 950us/step - loss: 0.5008\n",
      "Epoch 80/150\n",
      "27/27 [==============================] - 0s 920us/step - loss: 0.5002\n",
      "Epoch 81/150\n",
      "27/27 [==============================] - 0s 939us/step - loss: 0.5005\n",
      "Epoch 82/150\n",
      "27/27 [==============================] - 0s 949us/step - loss: 0.5001\n",
      "Epoch 83/150\n",
      "27/27 [==============================] - 0s 905us/step - loss: 0.5011\n",
      "Epoch 84/150\n",
      "27/27 [==============================] - 0s 949us/step - loss: 0.5003\n",
      "Epoch 85/150\n",
      "27/27 [==============================] - 0s 1ms/step - loss: 0.4996\n",
      "Epoch 86/150\n",
      "27/27 [==============================] - 0s 938us/step - loss: 0.4993\n",
      "Epoch 87/150\n",
      "27/27 [==============================] - 0s 939us/step - loss: 0.4992\n",
      "Epoch 88/150\n",
      "27/27 [==============================] - 0s 945us/step - loss: 0.4982\n",
      "Epoch 89/150\n",
      "27/27 [==============================] - 0s 966us/step - loss: 0.4988\n",
      "Epoch 90/150\n",
      "27/27 [==============================] - 0s 975us/step - loss: 0.5006\n",
      "Epoch 91/150\n",
      "27/27 [==============================] - 0s 977us/step - loss: 0.4997\n",
      "Epoch 92/150\n",
      "27/27 [==============================] - 0s 928us/step - loss: 0.4997\n",
      "Epoch 93/150\n",
      "27/27 [==============================] - 0s 979us/step - loss: 0.4987\n",
      "Epoch 94/150\n",
      "27/27 [==============================] - 0s 979us/step - loss: 0.4995\n",
      "Epoch 95/150\n",
      "27/27 [==============================] - 0s 943us/step - loss: 0.4985\n",
      "Epoch 96/150\n",
      "27/27 [==============================] - 0s 932us/step - loss: 0.4980\n",
      "Epoch 97/150\n",
      "27/27 [==============================] - 0s 990us/step - loss: 0.4991\n",
      "Epoch 98/150\n",
      "27/27 [==============================] - 0s 958us/step - loss: 0.5006\n",
      "Epoch 99/150\n",
      "27/27 [==============================] - 0s 946us/step - loss: 0.4981\n",
      "Epoch 100/150\n"
     ]
    },
    {
     "name": "stdout",
     "output_type": "stream",
     "text": [
      "27/27 [==============================] - 0s 959us/step - loss: 0.5007\n",
      "Epoch 101/150\n",
      "27/27 [==============================] - 0s 910us/step - loss: 0.4996\n",
      "Epoch 102/150\n",
      "27/27 [==============================] - 0s 883us/step - loss: 0.4987\n",
      "Epoch 103/150\n",
      "27/27 [==============================] - 0s 994us/step - loss: 0.4984\n",
      "Epoch 104/150\n",
      "27/27 [==============================] - 0s 861us/step - loss: 0.4985\n",
      "Epoch 105/150\n",
      "27/27 [==============================] - 0s 857us/step - loss: 0.4986\n",
      "Epoch 106/150\n",
      "27/27 [==============================] - 0s 846us/step - loss: 0.5011\n",
      "Epoch 107/150\n",
      "27/27 [==============================] - 0s 880us/step - loss: 0.4998\n",
      "Epoch 108/150\n",
      "27/27 [==============================] - 0s 839us/step - loss: 0.4983\n",
      "Epoch 109/150\n",
      "27/27 [==============================] - 0s 896us/step - loss: 0.4978\n",
      "Epoch 110/150\n",
      "27/27 [==============================] - 0s 848us/step - loss: 0.4967\n",
      "Epoch 111/150\n",
      "27/27 [==============================] - 0s 841us/step - loss: 0.4982\n",
      "Epoch 112/150\n",
      "27/27 [==============================] - 0s 892us/step - loss: 0.4973\n",
      "Epoch 113/150\n",
      "27/27 [==============================] - 0s 880us/step - loss: 0.5007\n",
      "Epoch 114/150\n",
      "27/27 [==============================] - 0s 850us/step - loss: 0.5000\n",
      "Epoch 115/150\n",
      "27/27 [==============================] - 0s 865us/step - loss: 0.5002\n",
      "Epoch 116/150\n",
      "27/27 [==============================] - 0s 883us/step - loss: 0.4978\n",
      "Epoch 117/150\n",
      "27/27 [==============================] - 0s 866us/step - loss: 0.4973\n",
      "Epoch 118/150\n",
      "27/27 [==============================] - 0s 847us/step - loss: 0.4986\n",
      "Epoch 119/150\n",
      "27/27 [==============================] - 0s 843us/step - loss: 0.4969\n",
      "Epoch 120/150\n",
      "27/27 [==============================] - 0s 905us/step - loss: 0.4969\n",
      "Epoch 121/150\n",
      "27/27 [==============================] - 0s 858us/step - loss: 0.5006\n",
      "Epoch 122/150\n",
      "27/27 [==============================] - 0s 861us/step - loss: 0.4974\n",
      "Epoch 123/150\n",
      "27/27 [==============================] - 0s 874us/step - loss: 0.4982\n",
      "Epoch 124/150\n",
      "27/27 [==============================] - 0s 868us/step - loss: 0.4976\n",
      "Epoch 125/150\n",
      "27/27 [==============================] - 0s 866us/step - loss: 0.4970\n",
      "Epoch 126/150\n",
      "27/27 [==============================] - 0s 861us/step - loss: 0.4988\n",
      "Epoch 127/150\n",
      "27/27 [==============================] - 0s 854us/step - loss: 0.4977\n",
      "Epoch 128/150\n",
      "27/27 [==============================] - 0s 852us/step - loss: 0.4965\n",
      "Epoch 129/150\n",
      "27/27 [==============================] - 0s 905us/step - loss: 0.4949\n",
      "Epoch 130/150\n",
      "27/27 [==============================] - 0s 840us/step - loss: 0.4969\n",
      "Epoch 131/150\n",
      "27/27 [==============================] - 0s 875us/step - loss: 0.4991\n",
      "Epoch 132/150\n",
      "27/27 [==============================] - 0s 850us/step - loss: 0.4969\n",
      "Epoch 133/150\n",
      "27/27 [==============================] - 0s 880us/step - loss: 0.4960\n",
      "Epoch 134/150\n",
      "27/27 [==============================] - 0s 852us/step - loss: 0.5000\n",
      "Epoch 135/150\n",
      "27/27 [==============================] - 0s 841us/step - loss: 0.4948\n",
      "Epoch 136/150\n",
      "27/27 [==============================] - 0s 879us/step - loss: 0.4955\n",
      "Epoch 137/150\n",
      "27/27 [==============================] - 0s 858us/step - loss: 0.4963\n",
      "Epoch 138/150\n",
      "27/27 [==============================] - 0s 857us/step - loss: 0.4950\n",
      "Epoch 139/150\n",
      "27/27 [==============================] - 0s 853us/step - loss: 0.4954\n",
      "Epoch 140/150\n",
      "27/27 [==============================] - 0s 821us/step - loss: 0.4987\n",
      "Epoch 141/150\n",
      "27/27 [==============================] - 0s 864us/step - loss: 0.4994\n",
      "Epoch 142/150\n",
      "27/27 [==============================] - 0s 867us/step - loss: 0.4949\n",
      "Epoch 143/150\n",
      "27/27 [==============================] - 0s 842us/step - loss: 0.4944\n",
      "Epoch 144/150\n",
      "27/27 [==============================] - 0s 876us/step - loss: 0.4971\n",
      "Epoch 145/150\n",
      "27/27 [==============================] - 0s 818us/step - loss: 0.5001\n",
      "Epoch 146/150\n",
      "27/27 [==============================] - 0s 874us/step - loss: 0.4960\n",
      "Epoch 147/150\n",
      "27/27 [==============================] - 0s 906us/step - loss: 0.4947\n",
      "Epoch 148/150\n",
      "27/27 [==============================] - 0s 863us/step - loss: 0.4944\n",
      "Epoch 149/150\n",
      "27/27 [==============================] - 0s 881us/step - loss: 0.4937\n",
      "Epoch 150/150\n",
      "27/27 [==============================] - 0s 820us/step - loss: 0.4945\n"
     ]
    }
   ],
   "source": [
    "nn = cst.MLPClassifier(input_shape=len(dt_in_c), hidden=[16, 8, 8])\n",
    "nn.compile(optimizer='Adam', loss='binary_crossentropy')\n",
    "history = nn.fit(tr_sc[dt_in_c], tr_sc['clicked'], batch_size=32, epochs=150, verbose=1)"
   ]
  },
  {
   "cell_type": "markdown",
   "metadata": {
    "slideshow": {
     "slide_type": "subslide"
    }
   },
   "source": [
    "## Evaluating the Predictions\n",
    "\n",
    "**This is not a classification problem, so the accuracy is not a good metric**\n",
    "\n",
    "* The output of our system is _meant to be interpreted as a probability_\n",
    "* ...So, rounding to obtain a deterministic prediction may be too restrictive\n",
    "\n",
    "**Instead, we will make a first evaluation using a _ROC curve_**\n",
    "\n",
    "A Receiver Operating Characteristic curve is a type of plot\n",
    "\n",
    "* We consider multiple threshold values\n",
    "  - Each threshold is meant to be used for discriminating between classes\n",
    "  - The usual rounding approach is equivalent to a 0.5 threshold\n",
    "* On the $x$ axis, we report the false positive rate for each threshold\n",
    "* On the $y$ axis, we report the true positive rate for each threshold"
   ]
  },
  {
   "cell_type": "markdown",
   "metadata": {
    "slideshow": {
     "slide_type": "subslide"
    }
   },
   "source": [
    "## Evaluating the Predictions\n",
    "\n",
    "**A ROC curve looks like this** (image from wikipedia)\n",
    "\n",
    "<center><img src=\"assets/Roccurves.png\" width=500px/></center>\n",
    "\n",
    "* The large the Area Under Curve (AUC), the better the performance\n",
    "* The AUC value is guaranteed to be in the $[0, 1]$ interval"
   ]
  },
  {
   "cell_type": "markdown",
   "metadata": {
    "slideshow": {
     "slide_type": "subslide"
    }
   },
   "source": [
    "## Evaluating the Predictions\n",
    "\n",
    "**Let's compute the AUC values for all sets**"
   ]
  },
  {
   "cell_type": "code",
   "execution_count": 12,
   "metadata": {},
   "outputs": [
    {
     "name": "stdout",
     "output_type": "stream",
     "text": [
      "AUC score: 0.81 (training), 0.80 (validation), 0.77 (test)\n"
     ]
    }
   ],
   "source": [
    "pred_tr = nn.predict(tr_sc[dt_in_c])\n",
    "pred_val = nn.predict(val_sc[dt_in_c])\n",
    "pred_ts = nn.predict(ts_sc[dt_in_c])\n",
    "auc_tr = roc_auc_score(tr_sc['clicked'], pred_tr)\n",
    "auc_val = roc_auc_score(val_sc['clicked'], pred_val)\n",
    "auc_ts = roc_auc_score(ts_sc['clicked'], pred_ts)\n",
    "print(f'AUC score: {auc_tr:.2f} (training), {auc_val:.2f} (validation), {auc_ts:.2f} (test)')"
   ]
  },
  {
   "cell_type": "markdown",
   "metadata": {},
   "source": [
    "* The model works well on the training distribution\n",
    "* But not quite so on the testing data"
   ]
  },
  {
   "cell_type": "markdown",
   "metadata": {
    "slideshow": {
     "slide_type": "subslide"
    }
   },
   "source": [
    "## Issues with the MLP\n",
    "\n",
    "**Here we have again the ground truth for our click rate**"
   ]
  },
  {
   "cell_type": "code",
   "execution_count": 13,
   "metadata": {},
   "outputs": [
    {
     "data": {
      "image/png": "[encoded data removed]",
      "text/plain": [
       "<Figure size 1008x360 with 4 Axes>"
      ]
     },
     "metadata": {
      "needs_background": "light"
     },
     "output_type": "display_data"
    }
   ],
   "source": [
    "cst.plot_ctr_truth(figsize=figsize)"
   ]
  },
  {
   "cell_type": "markdown",
   "metadata": {
    "slideshow": {
     "slide_type": "subslide"
    }
   },
   "source": [
    "## Issues with the MLP\n",
    "\n",
    "**...And here is the full (prediction) _output space for the MLP_**"
   ]
  },
  {
   "cell_type": "code",
   "execution_count": 14,
   "metadata": {},
   "outputs": [
    {
     "data": {
      "image/png": "[encoded data removed]",
      "text/plain": [
       "<Figure size 1008x360 with 4 Axes>"
      ]
     },
     "metadata": {
      "needs_background": "light"
     },
     "output_type": "display_data"
    }
   ],
   "source": [
    "cst.plot_ctr_estimation(nn, scale, figsize=figsize)"
   ]
  },
  {
   "cell_type": "markdown",
   "metadata": {},
   "source": [
    "* Some of the expected monotonicities _may not respected_\n",
    "* The function shape for the less represented values has significant errors\n",
    "\n",
    "**We will see how to tackle that using an alternative type of ML model**"
   ]
  },
  {
   "cell_type": "markdown",
   "metadata": {
    "slideshow": {
     "slide_type": "slide"
    }
   },
   "source": [
    "# Lattice Models"
   ]
  },
  {
   "cell_type": "markdown",
   "metadata": {
    "slideshow": {
     "slide_type": "subslide"
    }
   },
   "source": [
    "## Lattice Models\n",
    "\n",
    "**Lattice models are a form of piecewise linear interpolated model**\n",
    "\n",
    "<center><img src=\"assets/lattice.png\" width=400px/></center>\n",
    "\n",
    "* They are defined over _a grid on their input variables_\n",
    "* Their parameters are _the output values at each grid points_\n",
    "* The output values for input vectors not corresponding to a point of the grid...\n",
    "* ...Is the _linear interpolation of neighboring grid points_\n",
    "\n",
    "**They are available in tensorflow via [the tensorflow-lattice module](https://www.tensorflow.org/lattice/overview)**"
   ]
  },
  {
   "cell_type": "markdown",
   "metadata": {
    "slideshow": {
     "slide_type": "subslide"
    }
   },
   "source": [
    "## Lattice Models\n",
    "\n",
    "**Lattice models:**\n",
    "\n",
    "* Can represent non-linear multivariate functions\n",
    "* Can be trained by (e.g.) gradient descent\n",
    "\n",
    "**The grid is defined by splitting each input domain into intervals**\n",
    "\n",
    "* The domain of variable $x_i$ is split by choosing a fixed set of $n_i$ \"knots\"\n",
    "* The input variables have bounded domains (namely $[0, n_i-1]$)\n",
    "* ...Of course this leads to scalability issues: we will discuss them later\n",
    "\n",
    "**The lattice parameters are _interpretable_**\n",
    "\n",
    "They simply represent output values for certain input vectors \n",
    "\n",
    "* They can be changed with very predictable effects\n",
    "* They can be _constrained_ so that the model behaves in a desired fashion\n",
    "* If we use hard constraints, we get a _guaranteed behavior_\n"
   ]
  },
  {
   "cell_type": "markdown",
   "metadata": {
    "slideshow": {
     "slide_type": "subslide"
    }
   },
   "source": [
    "## Lattice Models and Interpretability\n",
    "\n",
    "**Interpretability is a major open issue in modern ML**\n",
    "\n",
    "It is often _a key requirement in industrial applications_\n",
    "\n",
    "* Customers have trouble accepting models that they do not understand\n",
    "* Sometimes you are legally bound to provide motivations\n",
    " \n",
    "**There are two main ways to achieve interpretability**\n",
    "\n",
    "The first is using a model that is _inherently interpretable_\n",
    "\n",
    "* There are _a few examples of this_: linear regression, DTs, (some) SVMs, rules...\n",
    "* Lattice models fall into this class\n",
    "\n",
    "The second approach is computing a posteriori _explanations_\n",
    "\n",
    "* This is an open an active research area. Some examples:\n",
    "  - Approximate a complex model with a simpler, interpretable one\n",
    "  - The same, but for focusing on individual predictions (local explainability)\n",
    "  - Highlight the most important inputs"
   ]
  },
  {
   "cell_type": "markdown",
   "metadata": {
    "slideshow": {
     "slide_type": "subslide"
    }
   },
   "source": [
    "## Implementing a Lattice Model\n",
    "\n",
    "**The first step for implementing a lattice model is choosing the lattice size**"
   ]
  },
  {
   "cell_type": "code",
   "execution_count": 15,
   "metadata": {},
   "outputs": [],
   "source": [
    "lattice_sizes = [4] * 2 + [2] * 4"
   ]
  },
  {
   "cell_type": "markdown",
   "metadata": {},
   "source": [
    "* We are using 4 knots for numeric inputs and 2 knots for the boolean inputs\n",
    "\n",
    "**Next, we need to split the individual input columns**"
   ]
  },
  {
   "cell_type": "code",
   "execution_count": 16,
   "metadata": {},
   "outputs": [],
   "source": [
    "tr_ls = [tr_sc[c] * (s-1) for c, s in zip(dt_in_c, lattice_sizes)]\n",
    "val_ls = [val_sc[c] * (s-1) for c, s in zip(dt_in_c, lattice_sizes)]\n",
    "ts_ls = [ts_sc[c] * (s-1) for c, s in zip(dt_in_c, lattice_sizes)]"
   ]
  },
  {
   "cell_type": "markdown",
   "metadata": {},
   "source": [
    "* This step is required by the tensorflow-lattice API\n",
    "* We also scale the input to the range expected by the lattice"
   ]
  },
  {
   "cell_type": "markdown",
   "metadata": {
    "slideshow": {
     "slide_type": "subslide"
    }
   },
   "source": [
    "## Implementing a Lattice Model\n",
    "\n",
    "**The we build the symbolic tensors for the model input**"
   ]
  },
  {
   "cell_type": "code",
   "execution_count": 17,
   "metadata": {},
   "outputs": [],
   "source": [
    "mdl_inputs = []\n",
    "for cname in dt_in_c:\n",
    "    cname_in = layers.Input(shape=[1], name=cname)\n",
    "    mdl_inputs.append(cname_in)"
   ]
  },
  {
   "cell_type": "markdown",
   "metadata": {},
   "source": [
    "* We have one tensor per input column\n",
    "\n",
    "**Finally we can build our lattice model**"
   ]
  },
  {
   "cell_type": "code",
   "execution_count": 18,
   "metadata": {},
   "outputs": [],
   "source": [
    "import tensorflow_lattice as tfl\n",
    "\n",
    "mdl_out = tfl.layers.Lattice(\n",
    "    lattice_sizes=lattice_sizes,\n",
    "    output_min=0, output_max=1,\n",
    "    name='lattice',\n",
    ")(mdl_inputs)\n",
    "\n",
    "lm = keras.Model(mdl_inputs, mdl_out)"
   ]
  },
  {
   "cell_type": "markdown",
   "metadata": {
    "slideshow": {
     "slide_type": "subslide"
    }
   },
   "source": [
    "## Implementing a Lattice Model\n",
    "\n",
    "**We can plot the model structure**"
   ]
  },
  {
   "cell_type": "code",
   "execution_count": 19,
   "metadata": {},
   "outputs": [
    {
     "data": {
      "image/png": "[encoded data removed]",
      "text/plain": [
       "<IPython.core.display.Image object>"
      ]
     },
     "execution_count": 19,
     "metadata": {},
     "output_type": "execute_result"
    }
   ],
   "source": [
    "keras.utils.plot_model(lm, rankdir='LR')"
   ]
  },
  {
   "cell_type": "markdown",
   "metadata": {
    "slideshow": {
     "slide_type": "subslide"
    }
   },
   "source": [
    "## Implementing a Lattice Model\n",
    "\n",
    "**We can train the model as usual**"
   ]
  },
  {
   "cell_type": "code",
   "execution_count": 20,
   "metadata": {},
   "outputs": [
    {
     "data": {
      "image/png": "[encoded data removed]",
      "text/plain": [
       "<Figure size 1008x360 with 1 Axes>"
      ]
     },
     "metadata": {
      "needs_background": "light"
     },
     "output_type": "display_data"
    }
   ],
   "source": [
    "lm.compile(optimizer='Adam', loss='binary_crossentropy')\n",
    "history = lm.fit(tr_ls, tr_sc['clicked'], batch_size=32, epochs=150, verbose=0)\n",
    "cst.plot_training_history(history, figsize=figsize)"
   ]
  },
  {
   "cell_type": "markdown",
   "metadata": {
    "slideshow": {
     "slide_type": "subslide"
    }
   },
   "source": [
    "## Lattice Model Evaluation\n",
    "\n",
    "**A large enough lattice model can peform as well as a Deep Network**\n",
    "\n",
    "Let's see the performance in terms of AUC"
   ]
  },
  {
   "cell_type": "code",
   "execution_count": 21,
   "metadata": {},
   "outputs": [
    {
     "name": "stdout",
     "output_type": "stream",
     "text": [
      "AUC score: 0.82 (training), 0.79 (validation), 0.76 (test)\n"
     ]
    }
   ],
   "source": [
    "pred_tr2 = lm.predict(tr_ls)\n",
    "pred_val2 = lm.predict(val_ls)\n",
    "pred_ts2 = lm.predict(ts_ls)\n",
    "auc_tr2 = roc_auc_score(tr_sc['clicked'], pred_tr2)\n",
    "auc_val2 = roc_auc_score(val_sc['clicked'], pred_val2)\n",
    "auc_ts2 = roc_auc_score(ts_sc['clicked'], pred_ts2)\n",
    "print(f'AUC score: {auc_tr2:.2f} (training), {auc_val2:.2f} (validation), {auc_ts2:.2f} (test)')"
   ]
  },
  {
   "cell_type": "markdown",
   "metadata": {},
   "source": [
    "* It is indeed comparable to that of the deep MLP\n",
    "* ...Also in the fact that it works poorly on the test distribution"
   ]
  },
  {
   "cell_type": "markdown",
   "metadata": {
    "slideshow": {
     "slide_type": "subslide"
    }
   },
   "source": [
    "## Lattice Model Evaluation\n",
    "\n",
    "**...But it can behave also just as poorly (or even worse)**"
   ]
  },
  {
   "cell_type": "code",
   "execution_count": 22,
   "metadata": {},
   "outputs": [
    {
     "data": {
      "image/png": "[encoded data removed]",
      "text/plain": [
       "<Figure size 1008x360 with 4 Axes>"
      ]
     },
     "metadata": {
      "needs_background": "light"
     },
     "output_type": "display_data"
    }
   ],
   "source": [
    "lscale = scale / [s-1 for s in lattice_sizes[:2]]\n",
    "cst.plot_ctr_estimation(lm, lscale, split_input=True, figsize=figsize)"
   ]
  },
  {
   "cell_type": "markdown",
   "metadata": {},
   "source": [
    "* The expected monotonicity constraints are still violated\n",
    "* There are still many mistakes for less represented areas of the input space"
   ]
  },
  {
   "cell_type": "markdown",
   "metadata": {
    "slideshow": {
     "slide_type": "slide"
    }
   },
   "source": [
    "# Calibration"
   ]
  },
  {
   "cell_type": "markdown",
   "metadata": {
    "slideshow": {
     "slide_type": "subslide"
    }
   },
   "source": [
    "## Calibration\n",
    "\n",
    "**Let's start fixing some of the outstanding issues**\n",
    "\n",
    "In a lattice model, the number of grid points if given by:\n",
    "$$\n",
    "n = \\prod_{i=1}^m n_i\n",
    "$$\n",
    "* ...Hence the parameter number scales _exponentially_ with the number of inputs\n",
    "* So that modeling complex non-linear function seems to come at a steep cost\n",
    "\n",
    "**In tensorflow-lattice, scalability issues are mitigated via two approaches:**\n",
    "\n",
    "* Ensembles of small lattices (we will not cover this one)\n",
    "* Applying a _calibration_ step to each input variables\n",
    "\n",
    "We will focus on this latter approach\n"
   ]
  },
  {
   "cell_type": "markdown",
   "metadata": {
    "slideshow": {
     "slide_type": "subslide"
    }
   },
   "source": [
    "## Calibration for Numeric Inputs\n",
    "\n",
    "**Calibration for _numeric attributes_...**\n",
    "\n",
    "...Consists in applying a piecewise linear transformation to each input\n",
    "\n",
    "<center><img src=\"assets/pwl.png\" width=600px/></center>\n",
    "\n",
    "* This is essentially a 1-D lattice\n",
    "* Calibration parameters are the function value at all knots\n",
    "* Calibration allows to introduce complexity, without increasing the lattice size"
   ]
  },
  {
   "cell_type": "markdown",
   "metadata": {
    "slideshow": {
     "slide_type": "subslide"
    }
   },
   "source": [
    "## Calibration for Categorical Inputs\n",
    "\n",
    "**Calibration for _categorical inputs_...**\n",
    "\n",
    "...Consists in applying a map:\n",
    "\n",
    "<center><img src=\"assets/BarChart.png\" width=700px/></center>\n",
    "\n",
    "* Categorical inputs must be encodeded as integers\n",
    "* Each input value is mapped to value\n",
    "* There is one parameter for each possible input value"
   ]
  },
  {
   "cell_type": "markdown",
   "metadata": {
    "slideshow": {
     "slide_type": "subslide"
    }
   },
   "source": [
    "## Calibration\n",
    "\n",
    "**Calibration allows enables the use of _fewer knots in the lattice_**\n",
    "\n",
    "* E.g. 5 knots per layer, single lattice: $5 \\times 5 = 25$ parameters\n",
    "* Wherease 5 calibration knots + 2 lattice knots: $5\\times 2 + 2 \\times 2 = 14$\n",
    "\n",
    "We do not get the same level of flexibility, but we get close\n",
    "\n",
    "* Additionally, we tend to get _more regular results_\n",
    "\n",
    "**Calibration enables using categorical inputs without a one-hot encoding**\n",
    "\n",
    "...Since the calibration map is almost equivalent\n",
    "\n",
    "* E.g. 5 categories, no calibration: $2 \\times 5 = 10$ parameters\n",
    "* Whereas with calibration: $5 + 2 = 7$ parameters\n",
    "\n",
    "**We can therefore adjust our lattice sizes accordingly**\n",
    "\n",
    "We will use just two knots per dimension"
   ]
  },
  {
   "cell_type": "code",
   "execution_count": 23,
   "metadata": {},
   "outputs": [],
   "source": [
    "lattice_sizes2 = [2] * 3"
   ]
  },
  {
   "cell_type": "markdown",
   "metadata": {
    "slideshow": {
     "slide_type": "subslide"
    }
   },
   "source": [
    "## Preparing the Input\n",
    "\n",
    "**First, we need to encode out categorical input using integers**\n",
    "\n",
    "We start by converting our string data input pandas categories"
   ]
  },
  {
   "cell_type": "code",
   "execution_count": 24,
   "metadata": {},
   "outputs": [
    {
     "data": {
      "text/html": [
       "<div>\n",
       "<style scoped>\n",
       "    .dataframe tbody tr th:only-of-type {\n",
       "        vertical-align: middle;\n",
       "    }\n",
       "\n",
       "    .dataframe tbody tr th {\n",
       "        vertical-align: top;\n",
       "    }\n",
       "\n",
       "    .dataframe thead th {\n",
       "        text-align: right;\n",
       "    }\n",
       "</style>\n",
       "<table border=\"1\" class=\"dataframe\">\n",
       "  <thead>\n",
       "    <tr style=\"text-align: right;\">\n",
       "      <th></th>\n",
       "      <th>avg_rating</th>\n",
       "      <th>num_reviews</th>\n",
       "      <th>dollar_rating</th>\n",
       "      <th>clicked</th>\n",
       "    </tr>\n",
       "  </thead>\n",
       "  <tbody>\n",
       "    <tr>\n",
       "      <th>0</th>\n",
       "      <td>0.785773</td>\n",
       "      <td>0.61</td>\n",
       "      <td>DDDD</td>\n",
       "      <td>1</td>\n",
       "    </tr>\n",
       "    <tr>\n",
       "      <th>1</th>\n",
       "      <td>0.785773</td>\n",
       "      <td>0.61</td>\n",
       "      <td>DDDD</td>\n",
       "      <td>0</td>\n",
       "    </tr>\n",
       "    <tr>\n",
       "      <th>2</th>\n",
       "      <td>0.785773</td>\n",
       "      <td>0.61</td>\n",
       "      <td>DDDD</td>\n",
       "      <td>0</td>\n",
       "    </tr>\n",
       "  </tbody>\n",
       "</table>\n",
       "</div>"
      ],
      "text/plain": [
       "   avg_rating  num_reviews dollar_rating  clicked\n",
       "0    0.785773         0.61          DDDD        1\n",
       "1    0.785773         0.61          DDDD        0\n",
       "2    0.785773         0.61          DDDD        0"
      ]
     },
     "execution_count": 24,
     "metadata": {},
     "output_type": "execute_result"
    }
   ],
   "source": [
    "tr_sc2 = tr_s.copy()\n",
    "tr_sc2['dollar_rating'] = tr_sc2['dollar_rating'].astype('category')\n",
    "tr_sc2[:3]"
   ]
  },
  {
   "cell_type": "markdown",
   "metadata": {},
   "source": [
    "We can check how the categories are mapped into integer codes:"
   ]
  },
  {
   "cell_type": "code",
   "execution_count": 25,
   "metadata": {},
   "outputs": [
    {
     "data": {
      "text/plain": [
       "Index(['D', 'DD', 'DDD', 'DDDD'], dtype='object')"
      ]
     },
     "execution_count": 25,
     "metadata": {},
     "output_type": "execute_result"
    }
   ],
   "source": [
    "tr_sc2['dollar_rating'].cat.categories"
   ]
  },
  {
   "cell_type": "markdown",
   "metadata": {},
   "source": [
    "* The codes are are the positional indexes of the strings"
   ]
  },
  {
   "cell_type": "markdown",
   "metadata": {
    "slideshow": {
     "slide_type": "subslide"
    }
   },
   "source": [
    "## Preparing the Input\n",
    "\n",
    "**Now we replace the category data with the codes themselves**"
   ]
  },
  {
   "cell_type": "code",
   "execution_count": 26,
   "metadata": {},
   "outputs": [
    {
     "data": {
      "text/plain": [
       "0    3\n",
       "1    3\n",
       "2    3\n",
       "Name: dollar_rating, dtype: int8"
      ]
     },
     "execution_count": 26,
     "metadata": {},
     "output_type": "execute_result"
    }
   ],
   "source": [
    "tr_sc2['dollar_rating'] = tr_sc2['dollar_rating'].cat.codes\n",
    "tr_sc2['dollar_rating'][:3]"
   ]
  },
  {
   "cell_type": "markdown",
   "metadata": {},
   "source": [
    "...And we apply the same treatment to the validation and test set:"
   ]
  },
  {
   "cell_type": "code",
   "execution_count": 27,
   "metadata": {},
   "outputs": [],
   "source": [
    "val_sc2 = val_s.copy()\n",
    "val_sc2['dollar_rating'] = val_sc2['dollar_rating'].astype('category').cat.codes\n",
    "\n",
    "ts_sc2 = ts_s.copy()\n",
    "ts_sc2['dollar_rating'] = ts_sc2['dollar_rating'].astype('category').cat.codes"
   ]
  },
  {
   "cell_type": "markdown",
   "metadata": {
    "slideshow": {
     "slide_type": "subslide"
    }
   },
   "source": [
    "## Piecewise Linear Calibration\n",
    "\n",
    "**We use `PWLCalibration` objects for all numeric inputs**"
   ]
  },
  {
   "cell_type": "code",
   "execution_count": 28,
   "metadata": {},
   "outputs": [],
   "source": [
    "avg_rating = layers.Input(shape=[1], name='avg_rating')\n",
    "avg_rating_cal = tfl.layers.PWLCalibration(\n",
    "    input_keypoints=np.quantile(tr_sc2['avg_rating'], np.linspace(0, 1, num=20)),\n",
    "    output_min=0.0, output_max=lattice_sizes2[0] - 1.0,\n",
    "    name='avg_rating_cal'\n",
    ")(avg_rating)\n",
    "\n",
    "num_reviews = layers.Input(shape=[1], name='num_reviews')\n",
    "num_reviews_cal = tfl.layers.PWLCalibration(\n",
    "    input_keypoints=np.quantile(tr_sc['num_reviews'], np.linspace(0, 1, num=20)),\n",
    "    output_min=0.0, output_max=lattice_sizes2[1] - 1.0,\n",
    "    name='num_reviews_cal'\n",
    ")(num_reviews)"
   ]
  },
  {
   "cell_type": "markdown",
   "metadata": {},
   "source": [
    "* The knot position must be a-priori defined\n",
    "* ...And we use the training distribution _quantiles_"
   ]
  },
  {
   "cell_type": "markdown",
   "metadata": {
    "slideshow": {
     "slide_type": "subslide"
    }
   },
   "source": [
    "## Categorical Calibration\n",
    "\n",
    "**We use `CategoricalCalibration` objects for the categorical input**"
   ]
  },
  {
   "cell_type": "code",
   "execution_count": 29,
   "metadata": {},
   "outputs": [],
   "source": [
    "dollar_rating = layers.Input(shape=[1], name='dollar_rating')\n",
    "dollar_rating_cal = tfl.layers.CategoricalCalibration(\n",
    "    num_buckets=4,\n",
    "    output_min=0.0, output_max=lattice_sizes2[2] - 1.0,\n",
    "    name='dollar_rating_cal'\n",
    ")(dollar_rating)"
   ]
  },
  {
   "cell_type": "markdown",
   "metadata": {},
   "source": [
    "* We use one \"bucket\" for each possible category\n",
    "\n",
    "**We should also remember to split the training data**"
   ]
  },
  {
   "cell_type": "markdown",
   "metadata": {
    "slideshow": {
     "slide_type": "subslide"
    }
   },
   "source": [
    "## Building the Calibrated Lattice Model\n",
    "\n",
    "**We can now build the lattice model**"
   ]
  },
  {
   "cell_type": "code",
   "execution_count": 30,
   "metadata": {},
   "outputs": [],
   "source": [
    "lt_inputs2 = [avg_rating_cal, num_reviews_cal, dollar_rating_cal]\n",
    "\n",
    "mdl_out2 = tfl.layers.Lattice(\n",
    "    lattice_sizes=lattice_sizes2,\n",
    "    output_min=0, output_max=1,\n",
    "    name='lattice',\n",
    ")(lt_inputs2)\n",
    "\n",
    "mdl_inputs2 = [avg_rating, num_reviews, dollar_rating]\n",
    "lm2 = keras.Model(mdl_inputs2, mdl_out2)"
   ]
  },
  {
   "cell_type": "markdown",
   "metadata": {},
   "source": [
    "**We can compare the number of parameters**"
   ]
  },
  {
   "cell_type": "code",
   "execution_count": 31,
   "metadata": {},
   "outputs": [
    {
     "name": "stdout",
     "output_type": "stream",
     "text": [
      "#Parameters in the original lattice: 256\n",
      "#Parameters in the new lattice: 52\n"
     ]
    }
   ],
   "source": [
    "print(f'#Parameters in the original lattice: {sum(len(w) for w in lm.get_weights())}')\n",
    "print(f'#Parameters in the new lattice: {sum(len(w) for w in lm2.get_weights())}')"
   ]
  },
  {
   "cell_type": "markdown",
   "metadata": {
    "slideshow": {
     "slide_type": "subslide"
    }
   },
   "source": [
    "## Building the Calibrated Lattice Model\n",
    "\n",
    "**Let's see which kind of architecture we have now:**"
   ]
  },
  {
   "cell_type": "code",
   "execution_count": 32,
   "metadata": {},
   "outputs": [
    {
     "data": {
      "image/png": "[encoded data removed]",
      "text/plain": [
       "<IPython.core.display.Image object>"
      ]
     },
     "execution_count": 32,
     "metadata": {},
     "output_type": "execute_result"
    }
   ],
   "source": [
    "keras.utils.plot_model(lm2, rankdir='LR')"
   ]
  },
  {
   "cell_type": "markdown",
   "metadata": {},
   "source": [
    "**Now we need to split the training data to enable training**"
   ]
  },
  {
   "cell_type": "code",
   "execution_count": 33,
   "metadata": {},
   "outputs": [],
   "source": [
    "tr_ls2 = [tr_sc2[c] for c in dt_in]\n",
    "val_ls2 = [val_sc2[c] for c in dt_in]\n",
    "ts_ls2 = [ts_sc2[c] for c in dt_in]"
   ]
  },
  {
   "cell_type": "markdown",
   "metadata": {
    "slideshow": {
     "slide_type": "subslide"
    }
   },
   "source": [
    "## Training the Calibrated Lattice\n",
    "\n",
    "**We can train the new model as usual**"
   ]
  },
  {
   "cell_type": "code",
   "execution_count": 34,
   "metadata": {},
   "outputs": [
    {
     "name": "stdout",
     "output_type": "stream",
     "text": [
      "AUC score: 0.80 (training), 0.80 (validation), 0.79 (test)\n"
     ]
    }
   ],
   "source": [
    "lm2.compile(optimizer='Adam', loss='binary_crossentropy')\n",
    "history = lm2.fit(tr_ls2, tr_s['clicked'], batch_size=32, epochs=150, verbose=0)\n",
    "\n",
    "pred_tr3 = lm2.predict(tr_ls2)\n",
    "pred_val3 = lm2.predict(val_ls2)\n",
    "pred_ts3 = lm2.predict(ts_ls2)\n",
    "auc_tr3 = roc_auc_score(tr_s['clicked'], pred_tr3)\n",
    "auc_val3 = roc_auc_score(val_s['clicked'], pred_val3)\n",
    "auc_ts3 = roc_auc_score(ts_s['clicked'], pred_ts3)\n",
    "print(f'AUC score: {auc_tr3:.2f} (training), {auc_val3:.2f} (validation), {auc_ts3:.2f} (test)')"
   ]
  },
  {
   "cell_type": "markdown",
   "metadata": {},
   "source": [
    "* The performance is only slightly worse than the original one\n",
    "* ...Except on the test set, where it works _much better_"
   ]
  },
  {
   "cell_type": "markdown",
   "metadata": {
    "slideshow": {
     "slide_type": "subslide"
    }
   },
   "source": [
    "## Inspecting the Calibrated Lattice\n",
    "\n",
    "**We can inspect the learned function visually to get a better insight**"
   ]
  },
  {
   "cell_type": "code",
   "execution_count": 35,
   "metadata": {},
   "outputs": [
    {
     "data": {
      "image/png": "[encoded data removed]",
      "text/plain": [
       "<Figure size 1008x360 with 4 Axes>"
      ]
     },
     "metadata": {
      "needs_background": "light"
     },
     "output_type": "display_data"
    }
   ],
   "source": [
    "cst.plot_ctr_estimation(lm2, scale, split_input=True, one_hot_categorical=False, figsize=figsize)"
   ]
  },
  {
   "cell_type": "markdown",
   "metadata": {},
   "source": [
    "* The structure follows a (piecewise linear) \"tartan pattern\" \n",
    "* This is particularly evident now, since we use just two knots per dimension"
   ]
  },
  {
   "cell_type": "markdown",
   "metadata": {
    "slideshow": {
     "slide_type": "subslide"
    }
   },
   "source": [
    "## Inspecting the Calibrated Lattice\n",
    "\n",
    "**It is useful to inspect the calibration layers**"
   ]
  },
  {
   "cell_type": "code",
   "execution_count": 36,
   "metadata": {},
   "outputs": [
    {
     "data": {
      "image/png": "[encoded data removed]",
      "text/plain": [
       "<Figure size 1008x360 with 3 Axes>"
      ]
     },
     "metadata": {
      "needs_background": "light"
     },
     "output_type": "display_data"
    }
   ],
   "source": [
    "calibrators = [keras.Model(mdl_inputs2[i], lt_inputs2[i]) for i in range(3)]\n",
    "cst.plot_ctr_calibration(calibrators, scale, figsize=figsize)"
   ]
  },
  {
   "cell_type": "markdown",
   "metadata": {},
   "source": [
    "* The learned calibration functions violate the expected monotonicities\n",
    "\n",
    "> **We cannot confidently show results like this to a customer**"
   ]
  },
  {
   "cell_type": "markdown",
   "metadata": {
    "slideshow": {
     "slide_type": "slide"
    }
   },
   "source": [
    "# Shape Constraints"
   ]
  },
  {
   "cell_type": "markdown",
   "metadata": {
    "slideshow": {
     "slide_type": "subslide"
    }
   },
   "source": [
    "## Shape Constraints\n",
    "\n",
    "**Lattice models are well suited to deal with _shape constraints_**\n",
    "\n",
    "Shape constraints are restrictions on the input-output function, such as:\n",
    "\n",
    "* Monotonicity (e.g. \"the output should grow when an input grows\")\n",
    "* Convexity/concavity (e.g. \"the output should be convex w.r.t. an input\")\n",
    "\n",
    "**Shape constraints are _very common_ in industrial applications**\n",
    "\n",
    "Some examples:\n",
    "\n",
    "* Opening a valve is going to increase the power output (monotonicity)\n",
    "* Reducing the price will raise the sales volume (monotonicity)\n",
    "* Massive price reductions will be less effective (diminishing returns)\n",
    "* Too low/high temperatures will lead to worse bakery products (convexity)\n",
    "\n",
    "**We can use shape constraints (and regularizers) to fix our calibration issues**"
   ]
  },
  {
   "cell_type": "markdown",
   "metadata": {
    "slideshow": {
     "slide_type": "subslide"
    }
   },
   "source": [
    "## Shape Constraints\n",
    "\n",
    "**Shape constraints translate into _constraints on the lattice parameters_**\n",
    "\n",
    "* Let $\\theta_{i, k, \\overline{i}, \\overline{k}}$ be the parameter for the $k$-th note of input $i$...\n",
    "* ...While all the remaining attributes and knots (i.e. $\\overline{i}$ and $\\overline{k}$) are fixed\n",
    "\n",
    "**Then (increasing) _monotonicity_ translates to:**\n",
    "$$\n",
    "\\theta_{i,k,\\neg i,\\neg k} \\leq \\theta_{i,k+1,\\neg i,\\neg k}\n",
    "$$\n",
    "\n",
    "* I.e. all else being equal, the lattice value at the grid points must be increasing\n",
    "* Decreasing monotonicity is just the inverse\n",
    "\n",
    "**Then _convexity_ translates to:**\n",
    "$$\n",
    "\\left(\\theta_{i,k+1,\\neg i,\\neg k} - \\theta_{i,k,\\neg i,\\neg k}\\right) \\leq \\left(\\theta_{i,k+2,\\neg i,\\neg k} - \\theta_{i,k+1,\\neg i,\\neg k}\\right)\n",
    "$$\n",
    "\n",
    "* I.e. all else being equal, the adjacent parameter differences should increase"
   ]
  },
  {
   "cell_type": "markdown",
   "metadata": {
    "slideshow": {
     "slide_type": "subslide"
    }
   },
   "source": [
    "## Monotonicity and Smoothness\n",
    "\n",
    "**We can expect a monotonic effect of the average rating**\n",
    "\n",
    "I.e. Restaurants with a high rating will be clicked more often"
   ]
  },
  {
   "cell_type": "code",
   "execution_count": 37,
   "metadata": {},
   "outputs": [],
   "source": [
    "avg_rating2 = layers.Input(shape=[1], name='avg_rating')\n",
    "avg_rating_cal2 = tfl.layers.PWLCalibration(\n",
    "    input_keypoints=np.quantile(tr_s['avg_rating'], np.linspace(0, 1, num=20)),\n",
    "    output_min=0.0, output_max=lattice_sizes2[0] - 1.0,\n",
    "    monotonicity='increasing',\n",
    "    kernel_regularizer=('hessian', 0, 1),\n",
    "    name='avg_rating_cal'\n",
    ")(avg_rating2)"
   ]
  },
  {
   "cell_type": "markdown",
   "metadata": {},
   "source": [
    "* The \"wrinkle\" regularizer penalizes the second derivative\n",
    "  - ...Thus making the calibrator more linear\n",
    "* The two parameters are an L1 weight and L2 weights"
   ]
  },
  {
   "cell_type": "markdown",
   "metadata": {
    "slideshow": {
     "slide_type": "subslide"
    }
   },
   "source": [
    "## Diminishing Returns\n",
    "\n",
    "**We can expect a diminishing returns from the number of reviews**\n",
    "\n",
    "* I.e. a restaurant with 200 reviews will be clicked much more than one with 10\n",
    "* ...But not much more than one with 150"
   ]
  },
  {
   "cell_type": "code",
   "execution_count": 38,
   "metadata": {},
   "outputs": [],
   "source": [
    "num_reviews2 = layers.Input(shape=[1], name='num_reviews')\n",
    "num_reviews_cal2 = tfl.layers.PWLCalibration(\n",
    "    input_keypoints=np.quantile(tr_s['num_reviews'], np.linspace(0, 1, num=20)),\n",
    "    output_min=0.0, output_max=lattice_sizes2[1] - 1.0,\n",
    "    monotonicity='increasing',\n",
    "    convexity='concave',\n",
    "    kernel_regularizer=('wrinkle', 0, 1),\n",
    "    name='num_reviews_cal'\n",
    ")(num_reviews2)"
   ]
  },
  {
   "cell_type": "markdown",
   "metadata": {},
   "source": [
    "* By coupling monotonicity with concavity we enforce diminishing returns\n",
    "* The wrinkle regularizer penalizes the third derivative\n",
    "  - ...Thus making the regularizer smoother"
   ]
  },
  {
   "cell_type": "markdown",
   "metadata": {
    "slideshow": {
     "slide_type": "subslide"
    }
   },
   "source": [
    "## Partial Orders on Categories\n",
    "\n",
    "**We can expect more clicks for reasonably priced restaurants...**\n",
    "\n",
    "...At least compared to very cheap and very expensive ones"
   ]
  },
  {
   "cell_type": "code",
   "execution_count": 39,
   "metadata": {},
   "outputs": [],
   "source": [
    "dollar_rating2 = layers.Input(shape=[1], name='dollar_rating')\n",
    "dollar_rating_cal2 = tfl.layers.CategoricalCalibration(\n",
    "    num_buckets=4,\n",
    "    output_min=0.0, output_max=lattice_sizes2[2] - 1.0,\n",
    "    monotonicities=[(0, 1), (3, 1)],\n",
    "    name='dollar_rating_cal'\n",
    ")(dollar_rating2)"
   ]
  },
  {
   "cell_type": "markdown",
   "metadata": {},
   "source": [
    "* On categorical attributes, we can enforce partial order constraints\n",
    "* Each $(i, j)$ pair translates into an inequality $\\theta_i \\leq \\theta_j$\n",
    "* Here we specify that \"D\" and \"DDD\" will tend to have fewer clicks than \"DD\""
   ]
  },
  {
   "cell_type": "markdown",
   "metadata": {
    "slideshow": {
     "slide_type": "subslide"
    }
   },
   "source": [
    "## Lattice Model with Shape Constraints\n",
    "\n",
    "**Then we can build the actual lattice model**"
   ]
  },
  {
   "cell_type": "code",
   "execution_count": 40,
   "metadata": {},
   "outputs": [],
   "source": [
    "lt_inputs3 = [avg_rating_cal2, num_reviews_cal2, dollar_rating_cal2]\n",
    "\n",
    "mdl_out3 = tfl.layers.Lattice(\n",
    "    lattice_sizes=lattice_sizes2,\n",
    "    output_min=0, output_max=1,\n",
    "    monotonicities=['increasing'] * 3,\n",
    "    name='lattice',\n",
    ")(lt_inputs3)\n",
    "\n",
    "mdl_inputs3 = [avg_rating2, num_reviews2, dollar_rating2]\n",
    "lm3 = keras.Model(mdl_inputs3, mdl_out3)"
   ]
  },
  {
   "cell_type": "markdown",
   "metadata": {},
   "source": [
    "* If we specify monotonicities in the calibration layers, the lattice must be monotone, too\n",
    "* In this case the lattice monotonicities should always be \"increasing\"\n",
    "  - ...Since two \"decreasing\" monotonicies would lead to an \"increasing\" one"
   ]
  },
  {
   "cell_type": "markdown",
   "metadata": {
    "slideshow": {
     "slide_type": "subslide"
    }
   },
   "source": [
    "## Lattice Model with Shape Constraints\n",
    "\n",
    "**Let's train the constrained model**"
   ]
  },
  {
   "cell_type": "code",
   "execution_count": 41,
   "metadata": {},
   "outputs": [
    {
     "name": "stdout",
     "output_type": "stream",
     "text": [
      "WARNING:tensorflow:5 out of the last 1262 calls to <function Model.make_predict_function.<locals>.predict_function at 0x7f72e7e286a8> triggered tf.function retracing. Tracing is expensive and the excessive number of tracings could be due to (1) creating @tf.function repeatedly in a loop, (2) passing tensors with different shapes, (3) passing Python objects instead of tensors. For (1), please define your @tf.function outside of the loop. For (2), @tf.function has experimental_relax_shapes=True option that relaxes argument shapes that can avoid unnecessary retracing. For (3), please refer to https://www.tensorflow.org/guide/function#controlling_retracing and https://www.tensorflow.org/api_docs/python/tf/function for  more details.\n",
      "AUC score: 0.80 (training), 0.80 (validation), 0.79 (test)\n"
     ]
    }
   ],
   "source": [
    "lm3.compile(optimizer='Adam', loss='binary_crossentropy')\n",
    "history = lm3.fit(tr_ls2, tr_s['clicked'], batch_size=32, epochs=150, verbose=0)\n",
    "\n",
    "pred_tr4 = lm3.predict(tr_ls2)\n",
    "pred_val4 = lm3.predict(val_ls2)\n",
    "pred_ts4 = lm3.predict(ts_ls2)\n",
    "auc_tr4 = roc_auc_score(tr_s['clicked'], pred_tr3)\n",
    "auc_val4 = roc_auc_score(val_s['clicked'], pred_val3)\n",
    "auc_ts4 = roc_auc_score(ts_s['clicked'], pred_ts3)\n",
    "print(f'AUC score: {auc_tr4:.2f} (training), {auc_val4:.2f} (validation), {auc_ts4:.2f} (test)')"
   ]
  },
  {
   "cell_type": "markdown",
   "metadata": {},
   "source": [
    "The results are on par with the previous ones"
   ]
  },
  {
   "cell_type": "markdown",
   "metadata": {
    "slideshow": {
     "slide_type": "subslide"
    }
   },
   "source": [
    "## Inspecting the Calibrated Lattice\n",
    "\n",
    "**Let's inspect the learned function**"
   ]
  },
  {
   "cell_type": "code",
   "execution_count": 42,
   "metadata": {},
   "outputs": [
    {
     "data": {
      "image/png": "[encoded data removed]",
      "text/plain": [
       "<Figure size 1008x360 with 4 Axes>"
      ]
     },
     "metadata": {
      "needs_background": "light"
     },
     "output_type": "display_data"
    }
   ],
   "source": [
    "cst.plot_ctr_estimation(lm3, scale, split_input=True, one_hot_categorical=False, figsize=figsize)"
   ]
  },
  {
   "cell_type": "markdown",
   "metadata": {},
   "source": [
    "* All monotonicities are respected, the functions are much more regular\n",
    "* Tartan-pattern apart, they closely match our ground truth"
   ]
  },
  {
   "cell_type": "markdown",
   "metadata": {
    "slideshow": {
     "slide_type": "subslide"
    }
   },
   "source": [
    "## Inspecting the Calibrated Lattice\n",
    "\n",
    "**The most interesting changes will be in the calibration functions**"
   ]
  },
  {
   "cell_type": "code",
   "execution_count": 43,
   "metadata": {},
   "outputs": [
    {
     "data": {
      "image/png": "[encoded data removed]",
      "text/plain": [
       "<Figure size 1008x360 with 3 Axes>"
      ]
     },
     "metadata": {
      "needs_background": "light"
     },
     "output_type": "display_data"
    }
   ],
   "source": [
    "calibrators = [keras.Model(mdl_inputs3[i], lt_inputs3[i]) for i in range(3)]\n",
    "\n",
    "cst.plot_ctr_calibration(calibrators, scale, figsize=figsize)"
   ]
  },
  {
   "cell_type": "markdown",
   "metadata": {},
   "source": [
    "* Indeed, all monotonicities are respected\n",
    "* The `avg_rating` regularizer is more linear\n",
    "* The `num_reviews` one is convex and smooth"
   ]
  },
  {
   "cell_type": "markdown",
   "metadata": {
    "slideshow": {
     "slide_type": "subslide"
    }
   },
   "source": [
    "## Considerations\n",
    "\n",
    "**Lattice models are little known, but they can be _very useful_**\n",
    "\n",
    "* They are interpretable\n",
    "* Customer react (very) poorly to violation of known properties\n",
    "\n",
    "**In general, shape constraints are related to the topic of _reliability_**\n",
    "\n",
    "* I.e. the ability of a ML model to respect basic properties\n",
    "* ...Especially in areas of the input space not well covered by the training set\n",
    "\n",
    "Reliability is a very important topic for many applications of AI methods\n",
    "\n",
    "**Calibration is not restricted to the lattice input**\n",
    "\n",
    "* Indeed, we can add a calibration layer on the output as well\n",
    "* ...So that we gain flexibility at a cost of a few more parameters"
   ]
  }
 ],
 "metadata": {
  "celltoolbar": "Slideshow",
  "kernelspec": {
   "display_name": "Python 3",
   "language": "python",
   "name": "python3"
  },
  "language_info": {
   "codemirror_mode": {
    "name": "ipython",
    "version": 3
   },
   "file_extension": ".py",
   "mimetype": "text/x-python",
   "name": "python",
   "nbconvert_exporter": "python",
   "pygments_lexer": "ipython3",
   "version": "3.6.9"
  },
  "rise": {
   "center": false,
   "transition": "fade"
  },
  "widgets": {
   "application/vnd.jupyter.widget-state+json": {
    "state": {
     "00fca5ea90ed4b2794c8c8551c396da8": {
      "model_module": "@jupyter-widgets/base",
      "model_module_version": "1.2.0",
      "model_name": "LayoutModel",
      "state": {}
     },
     "024807325cdb4831b45f0b63cde4feb5": {
      "model_module": "@jupyter-widgets/base",
      "model_module_version": "1.2.0",
      "model_name": "LayoutModel",
      "state": {}
     },
     "0399596538e14a0a8d2fbd1d71299c48": {
      "model_module": "@jupyter-widgets/base",
      "model_module_version": "1.2.0",
      "model_name": "LayoutModel",
      "state": {}
     },
     "0433bbacb2d543e58ef10036a82f43be": {
      "model_module": "@jupyter-widgets/base",
      "model_module_version": "1.2.0",
      "model_name": "LayoutModel",
      "state": {}
     },
     "057d686bab0840f5b53ee9d19f6690e1": {
      "model_module": "@jupyter-widgets/base",
      "model_module_version": "1.2.0",
      "model_name": "LayoutModel",
      "state": {}
     },
     "05c74f98a7fd467d8848a4a68e5a24c5": {
      "model_module": "jupyter-matplotlib",
      "model_module_version": "^0.7.4",
      "model_name": "ToolbarModel",
      "state": {
       "layout": "IPY_MODEL_5f44229db86148bf8b30ca48192120cb",
       "toolitems": [
        [
         "Home",
         "Reset original view",
         "home",
         "home"
        ],
        [
         "Back",
         "Back to previous view",
         "arrow-left",
         "back"
        ],
        [
         "Forward",
         "Forward to next view",
         "arrow-right",
         "forward"
        ],
        [
         "Pan",
         "Left button pans, Right button zooms\nx/y fixes axis, CTRL fixes aspect",
         "arrows",
         "pan"
        ],
        [
         "Zoom",
         "Zoom to rectangle\nx/y fixes axis, CTRL fixes aspect",
         "square-o",
         "zoom"
        ],
        [
         "Download",
         "Download plot",
         "floppy-o",
         "save_figure"
        ]
       ]
      }
     },
     "0651860eac914c25b6bd4d98fdb29353": {
      "model_module": "jupyter-matplotlib",
      "model_module_version": "^0.7.4",
      "model_name": "ToolbarModel",
      "state": {
       "layout": "IPY_MODEL_9bd84bfde5794b9bb2188d5abd025bd3",
       "toolitems": [
        [
         "Home",
         "Reset original view",
         "home",
         "home"
        ],
        [
         "Back",
         "Back to previous view",
         "arrow-left",
         "back"
        ],
        [
         "Forward",
         "Forward to next view",
         "arrow-right",
         "forward"
        ],
        [
         "Pan",
         "Left button pans, Right button zooms\nx/y fixes axis, CTRL fixes aspect",
         "arrows",
         "pan"
        ],
        [
         "Zoom",
         "Zoom to rectangle\nx/y fixes axis, CTRL fixes aspect",
         "square-o",
         "zoom"
        ],
        [
         "Download",
         "Download plot",
         "floppy-o",
         "save_figure"
        ]
       ]
      }
     },
     "073f3ed8330d4f3ea6199b4b8bb346d1": {
      "model_module": "@jupyter-widgets/base",
      "model_module_version": "1.2.0",
      "model_name": "LayoutModel",
      "state": {}
     },
     "0762061450c84a79a70ae590c9d59c6d": {
      "model_module": "jupyter-matplotlib",
      "model_module_version": "^0.7.4",
      "model_name": "ToolbarModel",
      "state": {
       "layout": "IPY_MODEL_981aa81d46eb414dbb6f15561d2cd070",
       "toolitems": [
        [
         "Home",
         "Reset original view",
         "home",
         "home"
        ],
        [
         "Back",
         "Back to previous view",
         "arrow-left",
         "back"
        ],
        [
         "Forward",
         "Forward to next view",
         "arrow-right",
         "forward"
        ],
        [
         "Pan",
         "Left button pans, Right button zooms\nx/y fixes axis, CTRL fixes aspect",
         "arrows",
         "pan"
        ],
        [
         "Zoom",
         "Zoom to rectangle\nx/y fixes axis, CTRL fixes aspect",
         "square-o",
         "zoom"
        ],
        [
         "Download",
         "Download plot",
         "floppy-o",
         "save_figure"
        ]
       ]
      }
     },
     "07970224cd8e4b36a3f1974bf0400be9": {
      "model_module": "@jupyter-widgets/base",
      "model_module_version": "1.2.0",
      "model_name": "LayoutModel",
      "state": {}
     },
     "0887f50bf4284b438a2c4b0a0c8df120": {
      "model_module": "@jupyter-widgets/base",
      "model_module_version": "1.2.0",
      "model_name": "LayoutModel",
      "state": {}
     },
     "0a1411d480e54308bb7b0fddf6106da6": {
      "model_module": "jupyter-matplotlib",
      "model_module_version": "^0.7.4",
      "model_name": "ToolbarModel",
      "state": {
       "layout": "IPY_MODEL_057d686bab0840f5b53ee9d19f6690e1",
       "toolitems": [
        [
         "Home",
         "Reset original view",
         "home",
         "home"
        ],
        [
         "Back",
         "Back to previous view",
         "arrow-left",
         "back"
        ],
        [
         "Forward",
         "Forward to next view",
         "arrow-right",
         "forward"
        ],
        [
         "Pan",
         "Left button pans, Right button zooms\nx/y fixes axis, CTRL fixes aspect",
         "arrows",
         "pan"
        ],
        [
         "Zoom",
         "Zoom to rectangle\nx/y fixes axis, CTRL fixes aspect",
         "square-o",
         "zoom"
        ],
        [
         "Download",
         "Download plot",
         "floppy-o",
         "save_figure"
        ]
       ]
      }
     },
     "0c2c7a94cf24490e80d64acf893f4c29": {
      "model_module": "jupyter-matplotlib",
      "model_module_version": "^0.7.4",
      "model_name": "ToolbarModel",
      "state": {
       "layout": "IPY_MODEL_bbbb09f64b2a49968e8a9795d2dd5e67",
       "toolitems": [
        [
         "Home",
         "Reset original view",
         "home",
         "home"
        ],
        [
         "Back",
         "Back to previous view",
         "arrow-left",
         "back"
        ],
        [
         "Forward",
         "Forward to next view",
         "arrow-right",
         "forward"
        ],
        [
         "Pan",
         "Left button pans, Right button zooms\nx/y fixes axis, CTRL fixes aspect",
         "arrows",
         "pan"
        ],
        [
         "Zoom",
         "Zoom to rectangle\nx/y fixes axis, CTRL fixes aspect",
         "square-o",
         "zoom"
        ],
        [
         "Download",
         "Download plot",
         "floppy-o",
         "save_figure"
        ]
       ]
      }
     },
     "0cc49c6e2ade4c769a5699668355bced": {
      "model_module": "@jupyter-widgets/base",
      "model_module_version": "1.2.0",
      "model_name": "LayoutModel",
      "state": {}
     },
     "0e58752554f14af5ae5a75fc80dac5f1": {
      "model_module": "@jupyter-widgets/base",
      "model_module_version": "1.2.0",
      "model_name": "LayoutModel",
      "state": {}
     },
     "0ee241a77d6c4f2f81e89ad75d96bae2": {
      "model_module": "@jupyter-widgets/base",
      "model_module_version": "1.2.0",
      "model_name": "LayoutModel",
      "state": {}
     },
     "0fc587733e8249978dd6033401981521": {
      "model_module": "@jupyter-widgets/base",
      "model_module_version": "1.2.0",
      "model_name": "LayoutModel",
      "state": {}
     },
     "115bb294526a491e8114f45da589f90d": {
      "model_module": "@jupyter-widgets/base",
      "model_module_version": "1.2.0",
      "model_name": "LayoutModel",
      "state": {}
     },
     "13fcbb4f2dca417292c0c6ee69b60b28": {
      "model_module": "@jupyter-widgets/base",
      "model_module_version": "1.2.0",
      "model_name": "LayoutModel",
      "state": {}
     },
     "14a5269ea51d4bb595c2a12e3f85b400": {
      "model_module": "jupyter-matplotlib",
      "model_module_version": "^0.7.4",
      "model_name": "ToolbarModel",
      "state": {
       "layout": "IPY_MODEL_f22398eb661447499734a09fe4e12539",
       "toolitems": [
        [
         "Home",
         "Reset original view",
         "home",
         "home"
        ],
        [
         "Back",
         "Back to previous view",
         "arrow-left",
         "back"
        ],
        [
         "Forward",
         "Forward to next view",
         "arrow-right",
         "forward"
        ],
        [
         "Pan",
         "Left button pans, Right button zooms\nx/y fixes axis, CTRL fixes aspect",
         "arrows",
         "pan"
        ],
        [
         "Zoom",
         "Zoom to rectangle\nx/y fixes axis, CTRL fixes aspect",
         "square-o",
         "zoom"
        ],
        [
         "Download",
         "Download plot",
         "floppy-o",
         "save_figure"
        ]
       ]
      }
     },
     "170aa4df37d54f4bb02ab02b1f9e9774": {
      "model_module": "jupyter-matplotlib",
      "model_module_version": "^0.7.4",
      "model_name": "ToolbarModel",
      "state": {
       "layout": "IPY_MODEL_530d9d9419614b988e7debd32a8e1d6e",
       "toolitems": [
        [
         "Home",
         "Reset original view",
         "home",
         "home"
        ],
        [
         "Back",
         "Back to previous view",
         "arrow-left",
         "back"
        ],
        [
         "Forward",
         "Forward to next view",
         "arrow-right",
         "forward"
        ],
        [
         "Pan",
         "Left button pans, Right button zooms\nx/y fixes axis, CTRL fixes aspect",
         "arrows",
         "pan"
        ],
        [
         "Zoom",
         "Zoom to rectangle\nx/y fixes axis, CTRL fixes aspect",
         "square-o",
         "zoom"
        ],
        [
         "Download",
         "Download plot",
         "floppy-o",
         "save_figure"
        ]
       ]
      }
     },
     "180ba1f059b4472e9fe6d4ac470659c1": {
      "model_module": "@jupyter-widgets/base",
      "model_module_version": "1.2.0",
      "model_name": "LayoutModel",
      "state": {}
     },
     "1881fab961534ce0a6537234fd00c006": {
      "model_module": "@jupyter-widgets/base",
      "model_module_version": "1.2.0",
      "model_name": "LayoutModel",
      "state": {}
     },
     "1b65658c7ceb400ca3d6bbb0c4aef5f2": {
      "model_module": "jupyter-matplotlib",
      "model_module_version": "^0.7.4",
      "model_name": "ToolbarModel",
      "state": {
       "layout": "IPY_MODEL_846ebc29a10f45f1983c45e06284d0c2",
       "toolitems": [
        [
         "Home",
         "Reset original view",
         "home",
         "home"
        ],
        [
         "Back",
         "Back to previous view",
         "arrow-left",
         "back"
        ],
        [
         "Forward",
         "Forward to next view",
         "arrow-right",
         "forward"
        ],
        [
         "Pan",
         "Left button pans, Right button zooms\nx/y fixes axis, CTRL fixes aspect",
         "arrows",
         "pan"
        ],
        [
         "Zoom",
         "Zoom to rectangle\nx/y fixes axis, CTRL fixes aspect",
         "square-o",
         "zoom"
        ],
        [
         "Download",
         "Download plot",
         "floppy-o",
         "save_figure"
        ]
       ]
      }
     },
     "1b7b7509361d41d48c78097f2fdbcc14": {
      "model_module": "@jupyter-widgets/base",
      "model_module_version": "1.2.0",
      "model_name": "LayoutModel",
      "state": {}
     },
     "1b7cd5a4faec4f259f4634cac6343cb2": {
      "model_module": "@jupyter-widgets/base",
      "model_module_version": "1.2.0",
      "model_name": "LayoutModel",
      "state": {}
     },
     "1c340f8b2b89463dbf24a5e3f1ee866f": {
      "model_module": "@jupyter-widgets/base",
      "model_module_version": "1.2.0",
      "model_name": "LayoutModel",
      "state": {}
     },
     "1f7c84ee6ff54207a623431eefb1b659": {
      "model_module": "@jupyter-widgets/base",
      "model_module_version": "1.2.0",
      "model_name": "LayoutModel",
      "state": {}
     },
     "227423ad93bd4aa581c48e7ca5e55265": {
      "model_module": "jupyter-matplotlib",
      "model_module_version": "^0.7.4",
      "model_name": "ToolbarModel",
      "state": {
       "layout": "IPY_MODEL_935fb83980e24fc7bf0d34c8c14d6393",
       "toolitems": [
        [
         "Home",
         "Reset original view",
         "home",
         "home"
        ],
        [
         "Back",
         "Back to previous view",
         "arrow-left",
         "back"
        ],
        [
         "Forward",
         "Forward to next view",
         "arrow-right",
         "forward"
        ],
        [
         "Pan",
         "Left button pans, Right button zooms\nx/y fixes axis, CTRL fixes aspect",
         "arrows",
         "pan"
        ],
        [
         "Zoom",
         "Zoom to rectangle\nx/y fixes axis, CTRL fixes aspect",
         "square-o",
         "zoom"
        ],
        [
         "Download",
         "Download plot",
         "floppy-o",
         "save_figure"
        ]
       ]
      }
     },
     "2342dcc0089c497ba6dbb54a003915a4": {
      "model_module": "@jupyter-widgets/base",
      "model_module_version": "1.2.0",
      "model_name": "LayoutModel",
      "state": {}
     },
     "258f5a942bb04f54a66fe111ac654ab1": {
      "model_module": "jupyter-matplotlib",
      "model_module_version": "^0.7.4",
      "model_name": "ToolbarModel",
      "state": {
       "layout": "IPY_MODEL_b9cd77ca6e194cf899a8c0f54190bf7c",
       "toolitems": [
        [
         "Home",
         "Reset original view",
         "home",
         "home"
        ],
        [
         "Back",
         "Back to previous view",
         "arrow-left",
         "back"
        ],
        [
         "Forward",
         "Forward to next view",
         "arrow-right",
         "forward"
        ],
        [
         "Pan",
         "Left button pans, Right button zooms\nx/y fixes axis, CTRL fixes aspect",
         "arrows",
         "pan"
        ],
        [
         "Zoom",
         "Zoom to rectangle\nx/y fixes axis, CTRL fixes aspect",
         "square-o",
         "zoom"
        ],
        [
         "Download",
         "Download plot",
         "floppy-o",
         "save_figure"
        ]
       ]
      }
     },
     "261233246db24f72a2e2cac6379859c0": {
      "model_module": "@jupyter-widgets/base",
      "model_module_version": "1.2.0",
      "model_name": "LayoutModel",
      "state": {}
     },
     "263d61566e2f4c2cb1a714bb707b28ac": {
      "model_module": "jupyter-matplotlib",
      "model_module_version": "^0.7.4",
      "model_name": "ToolbarModel",
      "state": {
       "layout": "IPY_MODEL_a75165d7f5904e8a8fa3583fec7d61be",
       "toolitems": [
        [
         "Home",
         "Reset original view",
         "home",
         "home"
        ],
        [
         "Back",
         "Back to previous view",
         "arrow-left",
         "back"
        ],
        [
         "Forward",
         "Forward to next view",
         "arrow-right",
         "forward"
        ],
        [
         "Pan",
         "Left button pans, Right button zooms\nx/y fixes axis, CTRL fixes aspect",
         "arrows",
         "pan"
        ],
        [
         "Zoom",
         "Zoom to rectangle\nx/y fixes axis, CTRL fixes aspect",
         "square-o",
         "zoom"
        ],
        [
         "Download",
         "Download plot",
         "floppy-o",
         "save_figure"
        ]
       ]
      }
     },
     "282a56d4ad9f43b7b0d8ae5a4582a3a1": {
      "model_module": "@jupyter-widgets/base",
      "model_module_version": "1.2.0",
      "model_name": "LayoutModel",
      "state": {}
     },
     "29383357242b458d8849bd6731e3f6a9": {
      "model_module": "@jupyter-widgets/base",
      "model_module_version": "1.2.0",
      "model_name": "LayoutModel",
      "state": {}
     },
     "2a3b2017675f43a3816039b2dd89437d": {
      "model_module": "@jupyter-widgets/base",
      "model_module_version": "1.2.0",
      "model_name": "LayoutModel",
      "state": {}
     },
     "2aabb4e3eb844135b6f8bcbec3d8a4e0": {
      "model_module": "jupyter-matplotlib",
      "model_module_version": "^0.7.4",
      "model_name": "ToolbarModel",
      "state": {
       "layout": "IPY_MODEL_00fca5ea90ed4b2794c8c8551c396da8",
       "toolitems": [
        [
         "Home",
         "Reset original view",
         "home",
         "home"
        ],
        [
         "Back",
         "Back to previous view",
         "arrow-left",
         "back"
        ],
        [
         "Forward",
         "Forward to next view",
         "arrow-right",
         "forward"
        ],
        [
         "Pan",
         "Left button pans, Right button zooms\nx/y fixes axis, CTRL fixes aspect",
         "arrows",
         "pan"
        ],
        [
         "Zoom",
         "Zoom to rectangle\nx/y fixes axis, CTRL fixes aspect",
         "square-o",
         "zoom"
        ],
        [
         "Download",
         "Download plot",
         "floppy-o",
         "save_figure"
        ]
       ]
      }
     },
     "2b710ae809a940f98e3fbe8c84cde306": {
      "model_module": "@jupyter-widgets/base",
      "model_module_version": "1.2.0",
      "model_name": "LayoutModel",
      "state": {}
     },
     "2cdcb4c7264c49e69824374f0053350b": {
      "model_module": "jupyter-matplotlib",
      "model_module_version": "^0.7.4",
      "model_name": "ToolbarModel",
      "state": {
       "layout": "IPY_MODEL_c313630a709c413392b841650f39c9a1",
       "toolitems": [
        [
         "Home",
         "Reset original view",
         "home",
         "home"
        ],
        [
         "Back",
         "Back to previous view",
         "arrow-left",
         "back"
        ],
        [
         "Forward",
         "Forward to next view",
         "arrow-right",
         "forward"
        ],
        [
         "Pan",
         "Left button pans, Right button zooms\nx/y fixes axis, CTRL fixes aspect",
         "arrows",
         "pan"
        ],
        [
         "Zoom",
         "Zoom to rectangle\nx/y fixes axis, CTRL fixes aspect",
         "square-o",
         "zoom"
        ],
        [
         "Download",
         "Download plot",
         "floppy-o",
         "save_figure"
        ]
       ]
      }
     },
     "2ce1cd9b7b4044378f0d24f534d79113": {
      "model_module": "@jupyter-widgets/base",
      "model_module_version": "1.2.0",
      "model_name": "LayoutModel",
      "state": {}
     },
     "2e30987536ba417b838330d347ea22cb": {
      "model_module": "@jupyter-widgets/base",
      "model_module_version": "1.2.0",
      "model_name": "LayoutModel",
      "state": {}
     },
     "308a91ea3cb547f3ad19865660b2391f": {
      "model_module": "jupyter-matplotlib",
      "model_module_version": "^0.7.4",
      "model_name": "ToolbarModel",
      "state": {
       "layout": "IPY_MODEL_7f80c39cb26242929b710943f05a58c3",
       "toolitems": [
        [
         "Home",
         "Reset original view",
         "home",
         "home"
        ],
        [
         "Back",
         "Back to previous view",
         "arrow-left",
         "back"
        ],
        [
         "Forward",
         "Forward to next view",
         "arrow-right",
         "forward"
        ],
        [
         "Pan",
         "Left button pans, Right button zooms\nx/y fixes axis, CTRL fixes aspect",
         "arrows",
         "pan"
        ],
        [
         "Zoom",
         "Zoom to rectangle\nx/y fixes axis, CTRL fixes aspect",
         "square-o",
         "zoom"
        ],
        [
         "Download",
         "Download plot",
         "floppy-o",
         "save_figure"
        ]
       ]
      }
     },
     "327334369f194b5e82f60e1dbb7f2972": {
      "model_module": "jupyter-matplotlib",
      "model_module_version": "^0.7.4",
      "model_name": "ToolbarModel",
      "state": {
       "layout": "IPY_MODEL_1f7c84ee6ff54207a623431eefb1b659",
       "toolitems": [
        [
         "Home",
         "Reset original view",
         "home",
         "home"
        ],
        [
         "Back",
         "Back to previous view",
         "arrow-left",
         "back"
        ],
        [
         "Forward",
         "Forward to next view",
         "arrow-right",
         "forward"
        ],
        [
         "Pan",
         "Left button pans, Right button zooms\nx/y fixes axis, CTRL fixes aspect",
         "arrows",
         "pan"
        ],
        [
         "Zoom",
         "Zoom to rectangle\nx/y fixes axis, CTRL fixes aspect",
         "square-o",
         "zoom"
        ],
        [
         "Download",
         "Download plot",
         "floppy-o",
         "save_figure"
        ]
       ]
      }
     },
     "339dc727a8544fa194e0e36d5137d644": {
      "model_module": "@jupyter-widgets/base",
      "model_module_version": "1.2.0",
      "model_name": "LayoutModel",
      "state": {}
     },
     "3539c2a317b74ed0adac0dcf5c0ea647": {
      "model_module": "jupyter-matplotlib",
      "model_module_version": "^0.7.4",
      "model_name": "ToolbarModel",
      "state": {
       "layout": "IPY_MODEL_1881fab961534ce0a6537234fd00c006",
       "toolitems": [
        [
         "Home",
         "Reset original view",
         "home",
         "home"
        ],
        [
         "Back",
         "Back to previous view",
         "arrow-left",
         "back"
        ],
        [
         "Forward",
         "Forward to next view",
         "arrow-right",
         "forward"
        ],
        [
         "Pan",
         "Left button pans, Right button zooms\nx/y fixes axis, CTRL fixes aspect",
         "arrows",
         "pan"
        ],
        [
         "Zoom",
         "Zoom to rectangle\nx/y fixes axis, CTRL fixes aspect",
         "square-o",
         "zoom"
        ],
        [
         "Download",
         "Download plot",
         "floppy-o",
         "save_figure"
        ]
       ]
      }
     },
     "3568650e9d324468bbda1168371020ee": {
      "model_module": "@jupyter-widgets/base",
      "model_module_version": "1.2.0",
      "model_name": "LayoutModel",
      "state": {}
     },
     "357d914ab1a04213a0d73338e9a0f33c": {
      "model_module": "@jupyter-widgets/base",
      "model_module_version": "1.2.0",
      "model_name": "LayoutModel",
      "state": {}
     },
     "36c8e79bbdf4489bab089254942b1e1b": {
      "model_module": "@jupyter-widgets/base",
      "model_module_version": "1.2.0",
      "model_name": "LayoutModel",
      "state": {}
     },
     "38a68b9166824d83a91fd5860ad6774b": {
      "model_module": "@jupyter-widgets/base",
      "model_module_version": "1.2.0",
      "model_name": "LayoutModel",
      "state": {}
     },
     "3a82b55fd8ce4bb8995ea63f18f6d01b": {
      "model_module": "@jupyter-widgets/base",
      "model_module_version": "1.2.0",
      "model_name": "LayoutModel",
      "state": {}
     },
     "3b657a61008d4e1ead9580e2b358c42c": {
      "model_module": "@jupyter-widgets/base",
      "model_module_version": "1.2.0",
      "model_name": "LayoutModel",
      "state": {}
     },
     "3b7536b521a94fee8e10c75262e590fe": {
      "model_module": "@jupyter-widgets/base",
      "model_module_version": "1.2.0",
      "model_name": "LayoutModel",
      "state": {}
     },
     "3bd2f639dba848fd9ba77f733d998086": {
      "model_module": "jupyter-matplotlib",
      "model_module_version": "^0.7.4",
      "model_name": "ToolbarModel",
      "state": {
       "layout": "IPY_MODEL_ce38c525d5a242858127e60a08123725",
       "toolitems": [
        [
         "Home",
         "Reset original view",
         "home",
         "home"
        ],
        [
         "Back",
         "Back to previous view",
         "arrow-left",
         "back"
        ],
        [
         "Forward",
         "Forward to next view",
         "arrow-right",
         "forward"
        ],
        [
         "Pan",
         "Left button pans, Right button zooms\nx/y fixes axis, CTRL fixes aspect",
         "arrows",
         "pan"
        ],
        [
         "Zoom",
         "Zoom to rectangle\nx/y fixes axis, CTRL fixes aspect",
         "square-o",
         "zoom"
        ],
        [
         "Download",
         "Download plot",
         "floppy-o",
         "save_figure"
        ]
       ]
      }
     },
     "3c071cc99e6e4e5ea458005f6b9eaa5b": {
      "model_module": "jupyter-matplotlib",
      "model_module_version": "^0.7.4",
      "model_name": "ToolbarModel",
      "state": {
       "layout": "IPY_MODEL_fcd1766e316f417d8c9014f79e2873dd",
       "toolitems": [
        [
         "Home",
         "Reset original view",
         "home",
         "home"
        ],
        [
         "Back",
         "Back to previous view",
         "arrow-left",
         "back"
        ],
        [
         "Forward",
         "Forward to next view",
         "arrow-right",
         "forward"
        ],
        [
         "Pan",
         "Left button pans, Right button zooms\nx/y fixes axis, CTRL fixes aspect",
         "arrows",
         "pan"
        ],
        [
         "Zoom",
         "Zoom to rectangle\nx/y fixes axis, CTRL fixes aspect",
         "square-o",
         "zoom"
        ],
        [
         "Download",
         "Download plot",
         "floppy-o",
         "save_figure"
        ]
       ]
      }
     },
     "3c2efa0a751249a79f4e2abd5a9af098": {
      "model_module": "@jupyter-widgets/base",
      "model_module_version": "1.2.0",
      "model_name": "LayoutModel",
      "state": {}
     },
     "3d595d18ca0e4021b9594183451af0b5": {
      "model_module": "jupyter-matplotlib",
      "model_module_version": "^0.7.4",
      "model_name": "ToolbarModel",
      "state": {
       "layout": "IPY_MODEL_a9ce292cf0154a3c894340f1619aa595",
       "toolitems": [
        [
         "Home",
         "Reset original view",
         "home",
         "home"
        ],
        [
         "Back",
         "Back to previous view",
         "arrow-left",
         "back"
        ],
        [
         "Forward",
         "Forward to next view",
         "arrow-right",
         "forward"
        ],
        [
         "Pan",
         "Left button pans, Right button zooms\nx/y fixes axis, CTRL fixes aspect",
         "arrows",
         "pan"
        ],
        [
         "Zoom",
         "Zoom to rectangle\nx/y fixes axis, CTRL fixes aspect",
         "square-o",
         "zoom"
        ],
        [
         "Download",
         "Download plot",
         "floppy-o",
         "save_figure"
        ]
       ]
      }
     },
     "3f8e81347e464b3daeb9f695add853c0": {
      "model_module": "jupyter-matplotlib",
      "model_module_version": "^0.7.4",
      "model_name": "ToolbarModel",
      "state": {
       "layout": "IPY_MODEL_f925434a972741b89b3de169309acc04",
       "toolitems": [
        [
         "Home",
         "Reset original view",
         "home",
         "home"
        ],
        [
         "Back",
         "Back to previous view",
         "arrow-left",
         "back"
        ],
        [
         "Forward",
         "Forward to next view",
         "arrow-right",
         "forward"
        ],
        [
         "Pan",
         "Left button pans, Right button zooms\nx/y fixes axis, CTRL fixes aspect",
         "arrows",
         "pan"
        ],
        [
         "Zoom",
         "Zoom to rectangle\nx/y fixes axis, CTRL fixes aspect",
         "square-o",
         "zoom"
        ],
        [
         "Download",
         "Download plot",
         "floppy-o",
         "save_figure"
        ]
       ]
      }
     },
     "40484a517a76481a99828cc598f0071d": {
      "model_module": "@jupyter-widgets/base",
      "model_module_version": "1.2.0",
      "model_name": "LayoutModel",
      "state": {}
     },
     "444d90b1336243078f6c04844f93c00f": {
      "model_module": "jupyter-matplotlib",
      "model_module_version": "^0.7.4",
      "model_name": "ToolbarModel",
      "state": {
       "layout": "IPY_MODEL_db62cda1ed3042e4a2cdc59351c1d6e6",
       "toolitems": [
        [
         "Home",
         "Reset original view",
         "home",
         "home"
        ],
        [
         "Back",
         "Back to previous view",
         "arrow-left",
         "back"
        ],
        [
         "Forward",
         "Forward to next view",
         "arrow-right",
         "forward"
        ],
        [
         "Pan",
         "Left button pans, Right button zooms\nx/y fixes axis, CTRL fixes aspect",
         "arrows",
         "pan"
        ],
        [
         "Zoom",
         "Zoom to rectangle\nx/y fixes axis, CTRL fixes aspect",
         "square-o",
         "zoom"
        ],
        [
         "Download",
         "Download plot",
         "floppy-o",
         "save_figure"
        ]
       ]
      }
     },
     "45372323599f49ddace996dcff731033": {
      "model_module": "@jupyter-widgets/base",
      "model_module_version": "1.2.0",
      "model_name": "LayoutModel",
      "state": {}
     },
     "45b10f10ba58465882fa3e6ab7c6d047": {
      "model_module": "@jupyter-widgets/base",
      "model_module_version": "1.2.0",
      "model_name": "LayoutModel",
      "state": {}
     },
     "45c73415d66349d49d3c1e615cb85c1e": {
      "model_module": "@jupyter-widgets/base",
      "model_module_version": "1.2.0",
      "model_name": "LayoutModel",
      "state": {}
     },
     "45ca753c7d094b8981388ffedd170ee3": {
      "model_module": "jupyter-matplotlib",
      "model_module_version": "^0.7.4",
      "model_name": "ToolbarModel",
      "state": {
       "layout": "IPY_MODEL_83e66907711c4c318fc5da13e464a0c6",
       "toolitems": [
        [
         "Home",
         "Reset original view",
         "home",
         "home"
        ],
        [
         "Back",
         "Back to previous view",
         "arrow-left",
         "back"
        ],
        [
         "Forward",
         "Forward to next view",
         "arrow-right",
         "forward"
        ],
        [
         "Pan",
         "Left button pans, Right button zooms\nx/y fixes axis, CTRL fixes aspect",
         "arrows",
         "pan"
        ],
        [
         "Zoom",
         "Zoom to rectangle\nx/y fixes axis, CTRL fixes aspect",
         "square-o",
         "zoom"
        ],
        [
         "Download",
         "Download plot",
         "floppy-o",
         "save_figure"
        ]
       ]
      }
     },
     "4787047e14eb48c3b406f846f2ab7b51": {
      "model_module": "@jupyter-widgets/base",
      "model_module_version": "1.2.0",
      "model_name": "LayoutModel",
      "state": {}
     },
     "47fd0895ef8640f5856e96fdbc158e9c": {
      "model_module": "jupyter-matplotlib",
      "model_module_version": "^0.7.4",
      "model_name": "ToolbarModel",
      "state": {
       "layout": "IPY_MODEL_2ce1cd9b7b4044378f0d24f534d79113",
       "toolitems": [
        [
         "Home",
         "Reset original view",
         "home",
         "home"
        ],
        [
         "Back",
         "Back to previous view",
         "arrow-left",
         "back"
        ],
        [
         "Forward",
         "Forward to next view",
         "arrow-right",
         "forward"
        ],
        [
         "Pan",
         "Left button pans, Right button zooms\nx/y fixes axis, CTRL fixes aspect",
         "arrows",
         "pan"
        ],
        [
         "Zoom",
         "Zoom to rectangle\nx/y fixes axis, CTRL fixes aspect",
         "square-o",
         "zoom"
        ],
        [
         "Download",
         "Download plot",
         "floppy-o",
         "save_figure"
        ]
       ]
      }
     },
     "498c06a43e1e4af79c8f8d4199f61652": {
      "model_module": "jupyter-matplotlib",
      "model_module_version": "^0.7.4",
      "model_name": "ToolbarModel",
      "state": {
       "layout": "IPY_MODEL_cbf9216ec41c4ffb8019cb3af7f26ed5",
       "toolitems": [
        [
         "Home",
         "Reset original view",
         "home",
         "home"
        ],
        [
         "Back",
         "Back to previous view",
         "arrow-left",
         "back"
        ],
        [
         "Forward",
         "Forward to next view",
         "arrow-right",
         "forward"
        ],
        [
         "Pan",
         "Left button pans, Right button zooms\nx/y fixes axis, CTRL fixes aspect",
         "arrows",
         "pan"
        ],
        [
         "Zoom",
         "Zoom to rectangle\nx/y fixes axis, CTRL fixes aspect",
         "square-o",
         "zoom"
        ],
        [
         "Download",
         "Download plot",
         "floppy-o",
         "save_figure"
        ]
       ]
      }
     },
     "49f308cdce7b44768d8d6388908a0e25": {
      "model_module": "@jupyter-widgets/base",
      "model_module_version": "1.2.0",
      "model_name": "LayoutModel",
      "state": {}
     },
     "4be6ab6a08324e5999e9c7d133783145": {
      "model_module": "jupyter-matplotlib",
      "model_module_version": "^0.7.4",
      "model_name": "ToolbarModel",
      "state": {
       "layout": "IPY_MODEL_a5a48f0ad7ef4c039664771c89f949b7",
       "toolitems": [
        [
         "Home",
         "Reset original view",
         "home",
         "home"
        ],
        [
         "Back",
         "Back to previous view",
         "arrow-left",
         "back"
        ],
        [
         "Forward",
         "Forward to next view",
         "arrow-right",
         "forward"
        ],
        [
         "Pan",
         "Left button pans, Right button zooms\nx/y fixes axis, CTRL fixes aspect",
         "arrows",
         "pan"
        ],
        [
         "Zoom",
         "Zoom to rectangle\nx/y fixes axis, CTRL fixes aspect",
         "square-o",
         "zoom"
        ],
        [
         "Download",
         "Download plot",
         "floppy-o",
         "save_figure"
        ]
       ]
      }
     },
     "4e406dc9f65f4cd98ee79d38353b71e5": {
      "model_module": "@jupyter-widgets/base",
      "model_module_version": "1.2.0",
      "model_name": "LayoutModel",
      "state": {}
     },
     "522d5bdcd7c942c997d6bfe68b56fedb": {
      "model_module": "@jupyter-widgets/base",
      "model_module_version": "1.2.0",
      "model_name": "LayoutModel",
      "state": {}
     },
     "530d9d9419614b988e7debd32a8e1d6e": {
      "model_module": "@jupyter-widgets/base",
      "model_module_version": "1.2.0",
      "model_name": "LayoutModel",
      "state": {}
     },
     "538e0a873da24e9db4b6f293aa59bd27": {
      "model_module": "@jupyter-widgets/base",
      "model_module_version": "1.2.0",
      "model_name": "LayoutModel",
      "state": {}
     },
     "53b2a277c48944fab9b6a37c2f82cfe6": {
      "model_module": "@jupyter-widgets/base",
      "model_module_version": "1.2.0",
      "model_name": "LayoutModel",
      "state": {}
     },
     "53f8b4f37700425791912bd720fcfb79": {
      "model_module": "@jupyter-widgets/base",
      "model_module_version": "1.2.0",
      "model_name": "LayoutModel",
      "state": {}
     },
     "57a308049e8b42d589ce11585b354f63": {
      "model_module": "@jupyter-widgets/base",
      "model_module_version": "1.2.0",
      "model_name": "LayoutModel",
      "state": {}
     },
     "57ae12a30977428f8ebe01a3a66c6a88": {
      "model_module": "@jupyter-widgets/base",
      "model_module_version": "1.2.0",
      "model_name": "LayoutModel",
      "state": {}
     },
     "58875d74f9e44c898f08fe8a3930a77e": {
      "model_module": "jupyter-matplotlib",
      "model_module_version": "^0.7.4",
      "model_name": "ToolbarModel",
      "state": {
       "layout": "IPY_MODEL_49f308cdce7b44768d8d6388908a0e25",
       "toolitems": [
        [
         "Home",
         "Reset original view",
         "home",
         "home"
        ],
        [
         "Back",
         "Back to previous view",
         "arrow-left",
         "back"
        ],
        [
         "Forward",
         "Forward to next view",
         "arrow-right",
         "forward"
        ],
        [
         "Pan",
         "Left button pans, Right button zooms\nx/y fixes axis, CTRL fixes aspect",
         "arrows",
         "pan"
        ],
        [
         "Zoom",
         "Zoom to rectangle\nx/y fixes axis, CTRL fixes aspect",
         "square-o",
         "zoom"
        ],
        [
         "Download",
         "Download plot",
         "floppy-o",
         "save_figure"
        ]
       ]
      }
     },
     "58a70fe6c86648619410c52bbfcb8e93": {
      "model_module": "jupyter-matplotlib",
      "model_module_version": "^0.7.4",
      "model_name": "ToolbarModel",
      "state": {
       "layout": "IPY_MODEL_0433bbacb2d543e58ef10036a82f43be",
       "toolitems": [
        [
         "Home",
         "Reset original view",
         "home",
         "home"
        ],
        [
         "Back",
         "Back to previous view",
         "arrow-left",
         "back"
        ],
        [
         "Forward",
         "Forward to next view",
         "arrow-right",
         "forward"
        ],
        [
         "Pan",
         "Left button pans, Right button zooms\nx/y fixes axis, CTRL fixes aspect",
         "arrows",
         "pan"
        ],
        [
         "Zoom",
         "Zoom to rectangle\nx/y fixes axis, CTRL fixes aspect",
         "square-o",
         "zoom"
        ],
        [
         "Download",
         "Download plot",
         "floppy-o",
         "save_figure"
        ]
       ]
      }
     },
     "59748d620c014f439cacb5245f268004": {
      "model_module": "@jupyter-widgets/base",
      "model_module_version": "1.2.0",
      "model_name": "LayoutModel",
      "state": {}
     },
     "5ce69af1c7d4417ab6031abd8c7bf99f": {
      "model_module": "@jupyter-widgets/base",
      "model_module_version": "1.2.0",
      "model_name": "LayoutModel",
      "state": {}
     },
     "5dc0bad7b3f14e12a702577a4dc8a47a": {
      "model_module": "jupyter-matplotlib",
      "model_module_version": "^0.7.4",
      "model_name": "ToolbarModel",
      "state": {
       "layout": "IPY_MODEL_bbf857d5d25e4f9ba98207004081009d",
       "toolitems": [
        [
         "Home",
         "Reset original view",
         "home",
         "home"
        ],
        [
         "Back",
         "Back to previous view",
         "arrow-left",
         "back"
        ],
        [
         "Forward",
         "Forward to next view",
         "arrow-right",
         "forward"
        ],
        [
         "Pan",
         "Left button pans, Right button zooms\nx/y fixes axis, CTRL fixes aspect",
         "arrows",
         "pan"
        ],
        [
         "Zoom",
         "Zoom to rectangle\nx/y fixes axis, CTRL fixes aspect",
         "square-o",
         "zoom"
        ],
        [
         "Download",
         "Download plot",
         "floppy-o",
         "save_figure"
        ]
       ]
      }
     },
     "5e594612abd74792b277a068f8de9114": {
      "model_module": "jupyter-matplotlib",
      "model_module_version": "^0.7.4",
      "model_name": "ToolbarModel",
      "state": {
       "layout": "IPY_MODEL_3b7536b521a94fee8e10c75262e590fe",
       "toolitems": [
        [
         "Home",
         "Reset original view",
         "home",
         "home"
        ],
        [
         "Back",
         "Back to previous view",
         "arrow-left",
         "back"
        ],
        [
         "Forward",
         "Forward to next view",
         "arrow-right",
         "forward"
        ],
        [
         "Pan",
         "Left button pans, Right button zooms\nx/y fixes axis, CTRL fixes aspect",
         "arrows",
         "pan"
        ],
        [
         "Zoom",
         "Zoom to rectangle\nx/y fixes axis, CTRL fixes aspect",
         "square-o",
         "zoom"
        ],
        [
         "Download",
         "Download plot",
         "floppy-o",
         "save_figure"
        ]
       ]
      }
     },
     "5e6a3af6f7184e32a1bef4bf34a05a20": {
      "model_module": "jupyter-matplotlib",
      "model_module_version": "^0.7.4",
      "model_name": "ToolbarModel",
      "state": {
       "layout": "IPY_MODEL_522d5bdcd7c942c997d6bfe68b56fedb",
       "toolitems": [
        [
         "Home",
         "Reset original view",
         "home",
         "home"
        ],
        [
         "Back",
         "Back to previous view",
         "arrow-left",
         "back"
        ],
        [
         "Forward",
         "Forward to next view",
         "arrow-right",
         "forward"
        ],
        [
         "Pan",
         "Left button pans, Right button zooms\nx/y fixes axis, CTRL fixes aspect",
         "arrows",
         "pan"
        ],
        [
         "Zoom",
         "Zoom to rectangle\nx/y fixes axis, CTRL fixes aspect",
         "square-o",
         "zoom"
        ],
        [
         "Download",
         "Download plot",
         "floppy-o",
         "save_figure"
        ]
       ]
      }
     },
     "5ea71fcea4d743cd98e858c48d6943c8": {
      "model_module": "@jupyter-widgets/base",
      "model_module_version": "1.2.0",
      "model_name": "LayoutModel",
      "state": {}
     },
     "5f0fd439da4d4d8eb450d91e85e3ea3e": {
      "model_module": "@jupyter-widgets/base",
      "model_module_version": "1.2.0",
      "model_name": "LayoutModel",
      "state": {}
     },
     "5f44229db86148bf8b30ca48192120cb": {
      "model_module": "@jupyter-widgets/base",
      "model_module_version": "1.2.0",
      "model_name": "LayoutModel",
      "state": {}
     },
     "6234e45b85d54737a85d5133afce964a": {
      "model_module": "@jupyter-widgets/base",
      "model_module_version": "1.2.0",
      "model_name": "LayoutModel",
      "state": {}
     },
     "62bbf3876ace4c5f954cef9e7b893087": {
      "model_module": "@jupyter-widgets/base",
      "model_module_version": "1.2.0",
      "model_name": "LayoutModel",
      "state": {}
     },
     "638532e1edb743249087093ce737e58e": {
      "model_module": "jupyter-matplotlib",
      "model_module_version": "^0.7.4",
      "model_name": "ToolbarModel",
      "state": {
       "layout": "IPY_MODEL_d39a351ce6784107b9bf959b0540c155",
       "toolitems": [
        [
         "Home",
         "Reset original view",
         "home",
         "home"
        ],
        [
         "Back",
         "Back to previous view",
         "arrow-left",
         "back"
        ],
        [
         "Forward",
         "Forward to next view",
         "arrow-right",
         "forward"
        ],
        [
         "Pan",
         "Left button pans, Right button zooms\nx/y fixes axis, CTRL fixes aspect",
         "arrows",
         "pan"
        ],
        [
         "Zoom",
         "Zoom to rectangle\nx/y fixes axis, CTRL fixes aspect",
         "square-o",
         "zoom"
        ],
        [
         "Download",
         "Download plot",
         "floppy-o",
         "save_figure"
        ]
       ]
      }
     },
     "643f24415aa044569c2c393e16acd941": {
      "model_module": "@jupyter-widgets/base",
      "model_module_version": "1.2.0",
      "model_name": "LayoutModel",
      "state": {}
     },
     "64ac7ce0f2ff43a9b037d402521393af": {
      "model_module": "@jupyter-widgets/base",
      "model_module_version": "1.2.0",
      "model_name": "LayoutModel",
      "state": {}
     },
     "656030dfb7bd47c0bb14122daba059bc": {
      "model_module": "jupyter-matplotlib",
      "model_module_version": "^0.7.4",
      "model_name": "ToolbarModel",
      "state": {
       "layout": "IPY_MODEL_98229b2ee05c444bbf45c97eec692658",
       "toolitems": [
        [
         "Home",
         "Reset original view",
         "home",
         "home"
        ],
        [
         "Back",
         "Back to previous view",
         "arrow-left",
         "back"
        ],
        [
         "Forward",
         "Forward to next view",
         "arrow-right",
         "forward"
        ],
        [
         "Pan",
         "Left button pans, Right button zooms\nx/y fixes axis, CTRL fixes aspect",
         "arrows",
         "pan"
        ],
        [
         "Zoom",
         "Zoom to rectangle\nx/y fixes axis, CTRL fixes aspect",
         "square-o",
         "zoom"
        ],
        [
         "Download",
         "Download plot",
         "floppy-o",
         "save_figure"
        ]
       ]
      }
     },
     "65dce1e1130f49c4baa6ccdf0ddc1179": {
      "model_module": "@jupyter-widgets/base",
      "model_module_version": "1.2.0",
      "model_name": "LayoutModel",
      "state": {}
     },
     "6925e5dd999c42f8abeae906eef0f6f7": {
      "model_module": "jupyter-matplotlib",
      "model_module_version": "^0.7.4",
      "model_name": "ToolbarModel",
      "state": {
       "layout": "IPY_MODEL_81dec01ae30346e8bb7fee267b38f7c9",
       "toolitems": [
        [
         "Home",
         "Reset original view",
         "home",
         "home"
        ],
        [
         "Back",
         "Back to previous view",
         "arrow-left",
         "back"
        ],
        [
         "Forward",
         "Forward to next view",
         "arrow-right",
         "forward"
        ],
        [
         "Pan",
         "Left button pans, Right button zooms\nx/y fixes axis, CTRL fixes aspect",
         "arrows",
         "pan"
        ],
        [
         "Zoom",
         "Zoom to rectangle\nx/y fixes axis, CTRL fixes aspect",
         "square-o",
         "zoom"
        ],
        [
         "Download",
         "Download plot",
         "floppy-o",
         "save_figure"
        ]
       ]
      }
     },
     "6aee956cdf6a48bf89523751e4fea6ab": {
      "model_module": "jupyter-matplotlib",
      "model_module_version": "^0.7.4",
      "model_name": "ToolbarModel",
      "state": {
       "layout": "IPY_MODEL_115bb294526a491e8114f45da589f90d",
       "toolitems": [
        [
         "Home",
         "Reset original view",
         "home",
         "home"
        ],
        [
         "Back",
         "Back to previous view",
         "arrow-left",
         "back"
        ],
        [
         "Forward",
         "Forward to next view",
         "arrow-right",
         "forward"
        ],
        [
         "Pan",
         "Left button pans, Right button zooms\nx/y fixes axis, CTRL fixes aspect",
         "arrows",
         "pan"
        ],
        [
         "Zoom",
         "Zoom to rectangle\nx/y fixes axis, CTRL fixes aspect",
         "square-o",
         "zoom"
        ],
        [
         "Download",
         "Download plot",
         "floppy-o",
         "save_figure"
        ]
       ]
      }
     },
     "721a1d6c977b46b791398c4a3ded764a": {
      "model_module": "@jupyter-widgets/base",
      "model_module_version": "1.2.0",
      "model_name": "LayoutModel",
      "state": {}
     },
     "73e3b1e9dbaa4fef8d588ae071ddd1e3": {
      "model_module": "@jupyter-widgets/base",
      "model_module_version": "1.2.0",
      "model_name": "LayoutModel",
      "state": {}
     },
     "74f63b2a990440e2866c468408c8d121": {
      "model_module": "jupyter-matplotlib",
      "model_module_version": "^0.7.4",
      "model_name": "ToolbarModel",
      "state": {
       "layout": "IPY_MODEL_e934ca6a38ca44199d6ce42da4e4cc3c",
       "toolitems": [
        [
         "Home",
         "Reset original view",
         "home",
         "home"
        ],
        [
         "Back",
         "Back to previous view",
         "arrow-left",
         "back"
        ],
        [
         "Forward",
         "Forward to next view",
         "arrow-right",
         "forward"
        ],
        [
         "Pan",
         "Left button pans, Right button zooms\nx/y fixes axis, CTRL fixes aspect",
         "arrows",
         "pan"
        ],
        [
         "Zoom",
         "Zoom to rectangle\nx/y fixes axis, CTRL fixes aspect",
         "square-o",
         "zoom"
        ],
        [
         "Download",
         "Download plot",
         "floppy-o",
         "save_figure"
        ]
       ]
      }
     },
     "753a000a521f44c287947b08a4822095": {
      "model_module": "@jupyter-widgets/base",
      "model_module_version": "1.2.0",
      "model_name": "LayoutModel",
      "state": {}
     },
     "78ea1003ce6849c5b38e4a1e407a55ad": {
      "model_module": "@jupyter-widgets/base",
      "model_module_version": "1.2.0",
      "model_name": "LayoutModel",
      "state": {}
     },
     "79674751a6ae40ceb060357ab9d59235": {
      "model_module": "@jupyter-widgets/base",
      "model_module_version": "1.2.0",
      "model_name": "LayoutModel",
      "state": {}
     },
     "7adc33c8e65448b2b5852d4032502359": {
      "model_module": "@jupyter-widgets/base",
      "model_module_version": "1.2.0",
      "model_name": "LayoutModel",
      "state": {}
     },
     "7ee2cf1096834203a18c8bd2430c8821": {
      "model_module": "@jupyter-widgets/base",
      "model_module_version": "1.2.0",
      "model_name": "LayoutModel",
      "state": {}
     },
     "7f80c39cb26242929b710943f05a58c3": {
      "model_module": "@jupyter-widgets/base",
      "model_module_version": "1.2.0",
      "model_name": "LayoutModel",
      "state": {}
     },
     "7fb4b2ce1a7d4cd996ad714cac32bef3": {
      "model_module": "@jupyter-widgets/base",
      "model_module_version": "1.2.0",
      "model_name": "LayoutModel",
      "state": {}
     },
     "81dec01ae30346e8bb7fee267b38f7c9": {
      "model_module": "@jupyter-widgets/base",
      "model_module_version": "1.2.0",
      "model_name": "LayoutModel",
      "state": {}
     },
     "82580b7b8cfb4a2994771d3346d461c2": {
      "model_module": "@jupyter-widgets/base",
      "model_module_version": "1.2.0",
      "model_name": "LayoutModel",
      "state": {}
     },
     "83332e8595974295add76e48bb87f951": {
      "model_module": "jupyter-matplotlib",
      "model_module_version": "^0.7.4",
      "model_name": "ToolbarModel",
      "state": {
       "layout": "IPY_MODEL_8771ad4f017d49c6b483288fde36ec15",
       "toolitems": [
        [
         "Home",
         "Reset original view",
         "home",
         "home"
        ],
        [
         "Back",
         "Back to previous view",
         "arrow-left",
         "back"
        ],
        [
         "Forward",
         "Forward to next view",
         "arrow-right",
         "forward"
        ],
        [
         "Pan",
         "Left button pans, Right button zooms\nx/y fixes axis, CTRL fixes aspect",
         "arrows",
         "pan"
        ],
        [
         "Zoom",
         "Zoom to rectangle\nx/y fixes axis, CTRL fixes aspect",
         "square-o",
         "zoom"
        ],
        [
         "Download",
         "Download plot",
         "floppy-o",
         "save_figure"
        ]
       ]
      }
     },
     "8386b09030d245258b5501a3e4b7a1ff": {
      "model_module": "@jupyter-widgets/base",
      "model_module_version": "1.2.0",
      "model_name": "LayoutModel",
      "state": {}
     },
     "838f24f7c82e484f91d70ef5d38e3f37": {
      "model_module": "@jupyter-widgets/base",
      "model_module_version": "1.2.0",
      "model_name": "LayoutModel",
      "state": {}
     },
     "83e66907711c4c318fc5da13e464a0c6": {
      "model_module": "@jupyter-widgets/base",
      "model_module_version": "1.2.0",
      "model_name": "LayoutModel",
      "state": {}
     },
     "846ebc29a10f45f1983c45e06284d0c2": {
      "model_module": "@jupyter-widgets/base",
      "model_module_version": "1.2.0",
      "model_name": "LayoutModel",
      "state": {}
     },
     "860ee8c251334e639980826fa6b131a1": {
      "model_module": "jupyter-matplotlib",
      "model_module_version": "^0.7.4",
      "model_name": "ToolbarModel",
      "state": {
       "layout": "IPY_MODEL_b212e24e280c499e862cf932d1d7d139",
       "toolitems": [
        [
         "Home",
         "Reset original view",
         "home",
         "home"
        ],
        [
         "Back",
         "Back to previous view",
         "arrow-left",
         "back"
        ],
        [
         "Forward",
         "Forward to next view",
         "arrow-right",
         "forward"
        ],
        [
         "Pan",
         "Left button pans, Right button zooms\nx/y fixes axis, CTRL fixes aspect",
         "arrows",
         "pan"
        ],
        [
         "Zoom",
         "Zoom to rectangle\nx/y fixes axis, CTRL fixes aspect",
         "square-o",
         "zoom"
        ],
        [
         "Download",
         "Download plot",
         "floppy-o",
         "save_figure"
        ]
       ]
      }
     },
     "8771ad4f017d49c6b483288fde36ec15": {
      "model_module": "@jupyter-widgets/base",
      "model_module_version": "1.2.0",
      "model_name": "LayoutModel",
      "state": {}
     },
     "89746e930aa74a91a32fc03b6b4edd8c": {
      "model_module": "jupyter-matplotlib",
      "model_module_version": "^0.7.4",
      "model_name": "ToolbarModel",
      "state": {
       "layout": "IPY_MODEL_62bbf3876ace4c5f954cef9e7b893087",
       "toolitems": [
        [
         "Home",
         "Reset original view",
         "home",
         "home"
        ],
        [
         "Back",
         "Back to previous view",
         "arrow-left",
         "back"
        ],
        [
         "Forward",
         "Forward to next view",
         "arrow-right",
         "forward"
        ],
        [
         "Pan",
         "Left button pans, Right button zooms\nx/y fixes axis, CTRL fixes aspect",
         "arrows",
         "pan"
        ],
        [
         "Zoom",
         "Zoom to rectangle\nx/y fixes axis, CTRL fixes aspect",
         "square-o",
         "zoom"
        ],
        [
         "Download",
         "Download plot",
         "floppy-o",
         "save_figure"
        ]
       ]
      }
     },
     "8bfa92070834413a91859e20646822a3": {
      "model_module": "@jupyter-widgets/base",
      "model_module_version": "1.2.0",
      "model_name": "LayoutModel",
      "state": {}
     },
     "8cf304e89579455faa1b7c5ed0be771b": {
      "model_module": "jupyter-matplotlib",
      "model_module_version": "^0.7.4",
      "model_name": "ToolbarModel",
      "state": {
       "layout": "IPY_MODEL_5ce69af1c7d4417ab6031abd8c7bf99f",
       "toolitems": [
        [
         "Home",
         "Reset original view",
         "home",
         "home"
        ],
        [
         "Back",
         "Back to previous view",
         "arrow-left",
         "back"
        ],
        [
         "Forward",
         "Forward to next view",
         "arrow-right",
         "forward"
        ],
        [
         "Pan",
         "Left button pans, Right button zooms\nx/y fixes axis, CTRL fixes aspect",
         "arrows",
         "pan"
        ],
        [
         "Zoom",
         "Zoom to rectangle\nx/y fixes axis, CTRL fixes aspect",
         "square-o",
         "zoom"
        ],
        [
         "Download",
         "Download plot",
         "floppy-o",
         "save_figure"
        ]
       ]
      }
     },
     "8e951bdb02a64411ab7b0a5ffa6f459f": {
      "model_module": "@jupyter-widgets/base",
      "model_module_version": "1.2.0",
      "model_name": "LayoutModel",
      "state": {}
     },
     "8f9c33e3e8b0464f830615bc186e61ba": {
      "model_module": "@jupyter-widgets/base",
      "model_module_version": "1.2.0",
      "model_name": "LayoutModel",
      "state": {}
     },
     "8fd2d82ab70241598e6f5ba54dd06e56": {
      "model_module": "@jupyter-widgets/base",
      "model_module_version": "1.2.0",
      "model_name": "LayoutModel",
      "state": {}
     },
     "8fef1bf64dfa439abe37213e3e79ae12": {
      "model_module": "jupyter-matplotlib",
      "model_module_version": "^0.7.4",
      "model_name": "ToolbarModel",
      "state": {
       "layout": "IPY_MODEL_2a3b2017675f43a3816039b2dd89437d",
       "toolitems": [
        [
         "Home",
         "Reset original view",
         "home",
         "home"
        ],
        [
         "Back",
         "Back to previous view",
         "arrow-left",
         "back"
        ],
        [
         "Forward",
         "Forward to next view",
         "arrow-right",
         "forward"
        ],
        [
         "Pan",
         "Left button pans, Right button zooms\nx/y fixes axis, CTRL fixes aspect",
         "arrows",
         "pan"
        ],
        [
         "Zoom",
         "Zoom to rectangle\nx/y fixes axis, CTRL fixes aspect",
         "square-o",
         "zoom"
        ],
        [
         "Download",
         "Download plot",
         "floppy-o",
         "save_figure"
        ]
       ]
      }
     },
     "912bf1a574754550b95e6e4e5d07d15c": {
      "model_module": "@jupyter-widgets/base",
      "model_module_version": "1.2.0",
      "model_name": "LayoutModel",
      "state": {}
     },
     "91a49c6ed87444aeb502f1b96907118b": {
      "model_module": "jupyter-matplotlib",
      "model_module_version": "^0.7.4",
      "model_name": "ToolbarModel",
      "state": {
       "layout": "IPY_MODEL_38a68b9166824d83a91fd5860ad6774b",
       "toolitems": [
        [
         "Home",
         "Reset original view",
         "home",
         "home"
        ],
        [
         "Back",
         "Back to previous view",
         "arrow-left",
         "back"
        ],
        [
         "Forward",
         "Forward to next view",
         "arrow-right",
         "forward"
        ],
        [
         "Pan",
         "Left button pans, Right button zooms\nx/y fixes axis, CTRL fixes aspect",
         "arrows",
         "pan"
        ],
        [
         "Zoom",
         "Zoom to rectangle\nx/y fixes axis, CTRL fixes aspect",
         "square-o",
         "zoom"
        ],
        [
         "Download",
         "Download plot",
         "floppy-o",
         "save_figure"
        ]
       ]
      }
     },
     "91b302f835e84872af8a2205f303c67b": {
      "model_module": "@jupyter-widgets/base",
      "model_module_version": "1.2.0",
      "model_name": "LayoutModel",
      "state": {}
     },
     "92b8e9baed9c4f90b9afd433838f5838": {
      "model_module": "jupyter-matplotlib",
      "model_module_version": "^0.7.4",
      "model_name": "ToolbarModel",
      "state": {
       "layout": "IPY_MODEL_1b7cd5a4faec4f259f4634cac6343cb2",
       "toolitems": [
        [
         "Home",
         "Reset original view",
         "home",
         "home"
        ],
        [
         "Back",
         "Back to previous view",
         "arrow-left",
         "back"
        ],
        [
         "Forward",
         "Forward to next view",
         "arrow-right",
         "forward"
        ],
        [
         "Pan",
         "Left button pans, Right button zooms\nx/y fixes axis, CTRL fixes aspect",
         "arrows",
         "pan"
        ],
        [
         "Zoom",
         "Zoom to rectangle\nx/y fixes axis, CTRL fixes aspect",
         "square-o",
         "zoom"
        ],
        [
         "Download",
         "Download plot",
         "floppy-o",
         "save_figure"
        ]
       ]
      }
     },
     "935fb83980e24fc7bf0d34c8c14d6393": {
      "model_module": "@jupyter-widgets/base",
      "model_module_version": "1.2.0",
      "model_name": "LayoutModel",
      "state": {}
     },
     "94eda119f4a6452bb397d3955136d5b5": {
      "model_module": "@jupyter-widgets/base",
      "model_module_version": "1.2.0",
      "model_name": "LayoutModel",
      "state": {}
     },
     "95d8f4cdfc5646f18832833d55d2d16a": {
      "model_module": "@jupyter-widgets/base",
      "model_module_version": "1.2.0",
      "model_name": "LayoutModel",
      "state": {}
     },
     "96cc5629cbff4c11a5363fa5dfdd5897": {
      "model_module": "@jupyter-widgets/base",
      "model_module_version": "1.2.0",
      "model_name": "LayoutModel",
      "state": {}
     },
     "97a1a4c425a94775869b79437c3fd022": {
      "model_module": "@jupyter-widgets/base",
      "model_module_version": "1.2.0",
      "model_name": "LayoutModel",
      "state": {}
     },
     "981aa81d46eb414dbb6f15561d2cd070": {
      "model_module": "@jupyter-widgets/base",
      "model_module_version": "1.2.0",
      "model_name": "LayoutModel",
      "state": {}
     },
     "98229b2ee05c444bbf45c97eec692658": {
      "model_module": "@jupyter-widgets/base",
      "model_module_version": "1.2.0",
      "model_name": "LayoutModel",
      "state": {}
     },
     "99293013eea34e418397c56277d748c3": {
      "model_module": "@jupyter-widgets/base",
      "model_module_version": "1.2.0",
      "model_name": "LayoutModel",
      "state": {}
     },
     "9a2023a86aae4240a96a8ffcab2d1ede": {
      "model_module": "jupyter-matplotlib",
      "model_module_version": "^0.7.4",
      "model_name": "ToolbarModel",
      "state": {
       "layout": "IPY_MODEL_c13f75bb51e84f02a108374774a59eb7",
       "toolitems": [
        [
         "Home",
         "Reset original view",
         "home",
         "home"
        ],
        [
         "Back",
         "Back to previous view",
         "arrow-left",
         "back"
        ],
        [
         "Forward",
         "Forward to next view",
         "arrow-right",
         "forward"
        ],
        [
         "Pan",
         "Left button pans, Right button zooms\nx/y fixes axis, CTRL fixes aspect",
         "arrows",
         "pan"
        ],
        [
         "Zoom",
         "Zoom to rectangle\nx/y fixes axis, CTRL fixes aspect",
         "square-o",
         "zoom"
        ],
        [
         "Download",
         "Download plot",
         "floppy-o",
         "save_figure"
        ]
       ]
      }
     },
     "9aad631d29274f9da6636fb52db1ebcc": {
      "model_module": "@jupyter-widgets/base",
      "model_module_version": "1.2.0",
      "model_name": "LayoutModel",
      "state": {}
     },
     "9b3bea51a298407c8c67e82cef3be27b": {
      "model_module": "@jupyter-widgets/base",
      "model_module_version": "1.2.0",
      "model_name": "LayoutModel",
      "state": {}
     },
     "9bd84bfde5794b9bb2188d5abd025bd3": {
      "model_module": "@jupyter-widgets/base",
      "model_module_version": "1.2.0",
      "model_name": "LayoutModel",
      "state": {}
     },
     "9beff17469864d01a1952ca4531c1b30": {
      "model_module": "jupyter-matplotlib",
      "model_module_version": "^0.7.4",
      "model_name": "ToolbarModel",
      "state": {
       "layout": "IPY_MODEL_c23757943d8c402b8fe6bd278444e14b",
       "toolitems": [
        [
         "Home",
         "Reset original view",
         "home",
         "home"
        ],
        [
         "Back",
         "Back to previous view",
         "arrow-left",
         "back"
        ],
        [
         "Forward",
         "Forward to next view",
         "arrow-right",
         "forward"
        ],
        [
         "Pan",
         "Left button pans, Right button zooms\nx/y fixes axis, CTRL fixes aspect",
         "arrows",
         "pan"
        ],
        [
         "Zoom",
         "Zoom to rectangle\nx/y fixes axis, CTRL fixes aspect",
         "square-o",
         "zoom"
        ],
        [
         "Download",
         "Download plot",
         "floppy-o",
         "save_figure"
        ]
       ]
      }
     },
     "a4534ea9a3544e2db14f82ea7dfecf88": {
      "model_module": "@jupyter-widgets/base",
      "model_module_version": "1.2.0",
      "model_name": "LayoutModel",
      "state": {}
     },
     "a51ccc0ae2464ea1ba6bd39d257ff876": {
      "model_module": "jupyter-matplotlib",
      "model_module_version": "^0.7.4",
      "model_name": "ToolbarModel",
      "state": {
       "layout": "IPY_MODEL_0cc49c6e2ade4c769a5699668355bced",
       "toolitems": [
        [
         "Home",
         "Reset original view",
         "home",
         "home"
        ],
        [
         "Back",
         "Back to previous view",
         "arrow-left",
         "back"
        ],
        [
         "Forward",
         "Forward to next view",
         "arrow-right",
         "forward"
        ],
        [
         "Pan",
         "Left button pans, Right button zooms\nx/y fixes axis, CTRL fixes aspect",
         "arrows",
         "pan"
        ],
        [
         "Zoom",
         "Zoom to rectangle\nx/y fixes axis, CTRL fixes aspect",
         "square-o",
         "zoom"
        ],
        [
         "Download",
         "Download plot",
         "floppy-o",
         "save_figure"
        ]
       ]
      }
     },
     "a5a48f0ad7ef4c039664771c89f949b7": {
      "model_module": "@jupyter-widgets/base",
      "model_module_version": "1.2.0",
      "model_name": "LayoutModel",
      "state": {}
     },
     "a64a8cc09f434a929120694ae041d3cb": {
      "model_module": "jupyter-matplotlib",
      "model_module_version": "^0.7.4",
      "model_name": "ToolbarModel",
      "state": {
       "layout": "IPY_MODEL_c2f1e46c6af94beb93ddce4d4c62bb08",
       "toolitems": [
        [
         "Home",
         "Reset original view",
         "home",
         "home"
        ],
        [
         "Back",
         "Back to previous view",
         "arrow-left",
         "back"
        ],
        [
         "Forward",
         "Forward to next view",
         "arrow-right",
         "forward"
        ],
        [
         "Pan",
         "Left button pans, Right button zooms\nx/y fixes axis, CTRL fixes aspect",
         "arrows",
         "pan"
        ],
        [
         "Zoom",
         "Zoom to rectangle\nx/y fixes axis, CTRL fixes aspect",
         "square-o",
         "zoom"
        ],
        [
         "Download",
         "Download plot",
         "floppy-o",
         "save_figure"
        ]
       ]
      }
     },
     "a70bdae812a1430bbf97a94eda0d6786": {
      "model_module": "jupyter-matplotlib",
      "model_module_version": "^0.7.4",
      "model_name": "ToolbarModel",
      "state": {
       "layout": "IPY_MODEL_8f9c33e3e8b0464f830615bc186e61ba",
       "toolitems": [
        [
         "Home",
         "Reset original view",
         "home",
         "home"
        ],
        [
         "Back",
         "Back to previous view",
         "arrow-left",
         "back"
        ],
        [
         "Forward",
         "Forward to next view",
         "arrow-right",
         "forward"
        ],
        [
         "Pan",
         "Left button pans, Right button zooms\nx/y fixes axis, CTRL fixes aspect",
         "arrows",
         "pan"
        ],
        [
         "Zoom",
         "Zoom to rectangle\nx/y fixes axis, CTRL fixes aspect",
         "square-o",
         "zoom"
        ],
        [
         "Download",
         "Download plot",
         "floppy-o",
         "save_figure"
        ]
       ]
      }
     },
     "a75165d7f5904e8a8fa3583fec7d61be": {
      "model_module": "@jupyter-widgets/base",
      "model_module_version": "1.2.0",
      "model_name": "LayoutModel",
      "state": {}
     },
     "a85c9598622a4c4fb34f9f79c5cf0544": {
      "model_module": "@jupyter-widgets/base",
      "model_module_version": "1.2.0",
      "model_name": "LayoutModel",
      "state": {}
     },
     "a90d7c748cec41a99bdfd7f8468b8121": {
      "model_module": "jupyter-matplotlib",
      "model_module_version": "^0.7.4",
      "model_name": "ToolbarModel",
      "state": {
       "layout": "IPY_MODEL_180ba1f059b4472e9fe6d4ac470659c1",
       "toolitems": [
        [
         "Home",
         "Reset original view",
         "home",
         "home"
        ],
        [
         "Back",
         "Back to previous view",
         "arrow-left",
         "back"
        ],
        [
         "Forward",
         "Forward to next view",
         "arrow-right",
         "forward"
        ],
        [
         "Pan",
         "Left button pans, Right button zooms\nx/y fixes axis, CTRL fixes aspect",
         "arrows",
         "pan"
        ],
        [
         "Zoom",
         "Zoom to rectangle\nx/y fixes axis, CTRL fixes aspect",
         "square-o",
         "zoom"
        ],
        [
         "Download",
         "Download plot",
         "floppy-o",
         "save_figure"
        ]
       ]
      }
     },
     "a9ce292cf0154a3c894340f1619aa595": {
      "model_module": "@jupyter-widgets/base",
      "model_module_version": "1.2.0",
      "model_name": "LayoutModel",
      "state": {}
     },
     "aad8d4cd036b409781bd1cde54b66fe9": {
      "model_module": "@jupyter-widgets/base",
      "model_module_version": "1.2.0",
      "model_name": "LayoutModel",
      "state": {}
     },
     "aeffab2f613e4afd8a40bf8943cfd99a": {
      "model_module": "jupyter-matplotlib",
      "model_module_version": "^0.7.4",
      "model_name": "ToolbarModel",
      "state": {
       "layout": "IPY_MODEL_07970224cd8e4b36a3f1974bf0400be9",
       "toolitems": [
        [
         "Home",
         "Reset original view",
         "home",
         "home"
        ],
        [
         "Back",
         "Back to previous view",
         "arrow-left",
         "back"
        ],
        [
         "Forward",
         "Forward to next view",
         "arrow-right",
         "forward"
        ],
        [
         "Pan",
         "Left button pans, Right button zooms\nx/y fixes axis, CTRL fixes aspect",
         "arrows",
         "pan"
        ],
        [
         "Zoom",
         "Zoom to rectangle\nx/y fixes axis, CTRL fixes aspect",
         "square-o",
         "zoom"
        ],
        [
         "Download",
         "Download plot",
         "floppy-o",
         "save_figure"
        ]
       ]
      }
     },
     "af345b2bc01b45e48414613f83a085a6": {
      "model_module": "@jupyter-widgets/base",
      "model_module_version": "1.2.0",
      "model_name": "LayoutModel",
      "state": {}
     },
     "af41a4cff24f47c0b86d55b287832ecf": {
      "model_module": "jupyter-matplotlib",
      "model_module_version": "^0.7.4",
      "model_name": "ToolbarModel",
      "state": {
       "layout": "IPY_MODEL_94eda119f4a6452bb397d3955136d5b5",
       "toolitems": [
        [
         "Home",
         "Reset original view",
         "home",
         "home"
        ],
        [
         "Back",
         "Back to previous view",
         "arrow-left",
         "back"
        ],
        [
         "Forward",
         "Forward to next view",
         "arrow-right",
         "forward"
        ],
        [
         "Pan",
         "Left button pans, Right button zooms\nx/y fixes axis, CTRL fixes aspect",
         "arrows",
         "pan"
        ],
        [
         "Zoom",
         "Zoom to rectangle\nx/y fixes axis, CTRL fixes aspect",
         "square-o",
         "zoom"
        ],
        [
         "Download",
         "Download plot",
         "floppy-o",
         "save_figure"
        ]
       ]
      }
     },
     "af98ca138a9247d7a22b124e17f4223d": {
      "model_module": "jupyter-matplotlib",
      "model_module_version": "^0.7.4",
      "model_name": "ToolbarModel",
      "state": {
       "layout": "IPY_MODEL_82580b7b8cfb4a2994771d3346d461c2",
       "toolitems": [
        [
         "Home",
         "Reset original view",
         "home",
         "home"
        ],
        [
         "Back",
         "Back to previous view",
         "arrow-left",
         "back"
        ],
        [
         "Forward",
         "Forward to next view",
         "arrow-right",
         "forward"
        ],
        [
         "Pan",
         "Left button pans, Right button zooms\nx/y fixes axis, CTRL fixes aspect",
         "arrows",
         "pan"
        ],
        [
         "Zoom",
         "Zoom to rectangle\nx/y fixes axis, CTRL fixes aspect",
         "square-o",
         "zoom"
        ],
        [
         "Download",
         "Download plot",
         "floppy-o",
         "save_figure"
        ]
       ]
      }
     },
     "afecd488633c4dd891aa154ab3609eda": {
      "model_module": "@jupyter-widgets/base",
      "model_module_version": "1.2.0",
      "model_name": "LayoutModel",
      "state": {}
     },
     "b0f6940d9da04e21920bb62fa393de9e": {
      "model_module": "jupyter-matplotlib",
      "model_module_version": "^0.7.4",
      "model_name": "ToolbarModel",
      "state": {
       "layout": "IPY_MODEL_ef5f3645e5a54cd1b0a8d07d03cde78a",
       "toolitems": [
        [
         "Home",
         "Reset original view",
         "home",
         "home"
        ],
        [
         "Back",
         "Back to previous view",
         "arrow-left",
         "back"
        ],
        [
         "Forward",
         "Forward to next view",
         "arrow-right",
         "forward"
        ],
        [
         "Pan",
         "Left button pans, Right button zooms\nx/y fixes axis, CTRL fixes aspect",
         "arrows",
         "pan"
        ],
        [
         "Zoom",
         "Zoom to rectangle\nx/y fixes axis, CTRL fixes aspect",
         "square-o",
         "zoom"
        ],
        [
         "Download",
         "Download plot",
         "floppy-o",
         "save_figure"
        ]
       ]
      }
     },
     "b1025f134b4846b880322217187523d8": {
      "model_module": "jupyter-matplotlib",
      "model_module_version": "^0.7.4",
      "model_name": "ToolbarModel",
      "state": {
       "layout": "IPY_MODEL_a85c9598622a4c4fb34f9f79c5cf0544",
       "toolitems": [
        [
         "Home",
         "Reset original view",
         "home",
         "home"
        ],
        [
         "Back",
         "Back to previous view",
         "arrow-left",
         "back"
        ],
        [
         "Forward",
         "Forward to next view",
         "arrow-right",
         "forward"
        ],
        [
         "Pan",
         "Left button pans, Right button zooms\nx/y fixes axis, CTRL fixes aspect",
         "arrows",
         "pan"
        ],
        [
         "Zoom",
         "Zoom to rectangle\nx/y fixes axis, CTRL fixes aspect",
         "square-o",
         "zoom"
        ],
        [
         "Download",
         "Download plot",
         "floppy-o",
         "save_figure"
        ]
       ]
      }
     },
     "b1edb3db6d3541d0ba08ef49c5521526": {
      "model_module": "@jupyter-widgets/base",
      "model_module_version": "1.2.0",
      "model_name": "LayoutModel",
      "state": {}
     },
     "b212e24e280c499e862cf932d1d7d139": {
      "model_module": "@jupyter-widgets/base",
      "model_module_version": "1.2.0",
      "model_name": "LayoutModel",
      "state": {}
     },
     "b37591d38b054de6aaf640a85bf3b336": {
      "model_module": "jupyter-matplotlib",
      "model_module_version": "^0.7.4",
      "model_name": "ToolbarModel",
      "state": {
       "layout": "IPY_MODEL_0887f50bf4284b438a2c4b0a0c8df120",
       "toolitems": [
        [
         "Home",
         "Reset original view",
         "home",
         "home"
        ],
        [
         "Back",
         "Back to previous view",
         "arrow-left",
         "back"
        ],
        [
         "Forward",
         "Forward to next view",
         "arrow-right",
         "forward"
        ],
        [
         "Pan",
         "Left button pans, Right button zooms\nx/y fixes axis, CTRL fixes aspect",
         "arrows",
         "pan"
        ],
        [
         "Zoom",
         "Zoom to rectangle\nx/y fixes axis, CTRL fixes aspect",
         "square-o",
         "zoom"
        ],
        [
         "Download",
         "Download plot",
         "floppy-o",
         "save_figure"
        ]
       ]
      }
     },
     "b780aa47499d4239b1bb8bdb733db792": {
      "model_module": "jupyter-matplotlib",
      "model_module_version": "^0.7.4",
      "model_name": "ToolbarModel",
      "state": {
       "layout": "IPY_MODEL_7adc33c8e65448b2b5852d4032502359",
       "toolitems": [
        [
         "Home",
         "Reset original view",
         "home",
         "home"
        ],
        [
         "Back",
         "Back to previous view",
         "arrow-left",
         "back"
        ],
        [
         "Forward",
         "Forward to next view",
         "arrow-right",
         "forward"
        ],
        [
         "Pan",
         "Left button pans, Right button zooms\nx/y fixes axis, CTRL fixes aspect",
         "arrows",
         "pan"
        ],
        [
         "Zoom",
         "Zoom to rectangle\nx/y fixes axis, CTRL fixes aspect",
         "square-o",
         "zoom"
        ],
        [
         "Download",
         "Download plot",
         "floppy-o",
         "save_figure"
        ]
       ]
      }
     },
     "b9cd77ca6e194cf899a8c0f54190bf7c": {
      "model_module": "@jupyter-widgets/base",
      "model_module_version": "1.2.0",
      "model_name": "LayoutModel",
      "state": {}
     },
     "baaae8885afc41fc9f3a64a2e80326d7": {
      "model_module": "@jupyter-widgets/base",
      "model_module_version": "1.2.0",
      "model_name": "LayoutModel",
      "state": {}
     },
     "bbbb09f64b2a49968e8a9795d2dd5e67": {
      "model_module": "@jupyter-widgets/base",
      "model_module_version": "1.2.0",
      "model_name": "LayoutModel",
      "state": {}
     },
     "bbf857d5d25e4f9ba98207004081009d": {
      "model_module": "@jupyter-widgets/base",
      "model_module_version": "1.2.0",
      "model_name": "LayoutModel",
      "state": {}
     },
     "bf2e95094ee442138a219aaedbfd7ffa": {
      "model_module": "@jupyter-widgets/base",
      "model_module_version": "1.2.0",
      "model_name": "LayoutModel",
      "state": {}
     },
     "bf7a8746375146a286897937871d22c8": {
      "model_module": "jupyter-matplotlib",
      "model_module_version": "^0.7.4",
      "model_name": "ToolbarModel",
      "state": {
       "layout": "IPY_MODEL_baaae8885afc41fc9f3a64a2e80326d7",
       "toolitems": [
        [
         "Home",
         "Reset original view",
         "home",
         "home"
        ],
        [
         "Back",
         "Back to previous view",
         "arrow-left",
         "back"
        ],
        [
         "Forward",
         "Forward to next view",
         "arrow-right",
         "forward"
        ],
        [
         "Pan",
         "Left button pans, Right button zooms\nx/y fixes axis, CTRL fixes aspect",
         "arrows",
         "pan"
        ],
        [
         "Zoom",
         "Zoom to rectangle\nx/y fixes axis, CTRL fixes aspect",
         "square-o",
         "zoom"
        ],
        [
         "Download",
         "Download plot",
         "floppy-o",
         "save_figure"
        ]
       ]
      }
     },
     "c13f75bb51e84f02a108374774a59eb7": {
      "model_module": "@jupyter-widgets/base",
      "model_module_version": "1.2.0",
      "model_name": "LayoutModel",
      "state": {}
     },
     "c23757943d8c402b8fe6bd278444e14b": {
      "model_module": "@jupyter-widgets/base",
      "model_module_version": "1.2.0",
      "model_name": "LayoutModel",
      "state": {}
     },
     "c2f1e46c6af94beb93ddce4d4c62bb08": {
      "model_module": "@jupyter-widgets/base",
      "model_module_version": "1.2.0",
      "model_name": "LayoutModel",
      "state": {}
     },
     "c313630a709c413392b841650f39c9a1": {
      "model_module": "@jupyter-widgets/base",
      "model_module_version": "1.2.0",
      "model_name": "LayoutModel",
      "state": {}
     },
     "c35dcd8f722041d496ed61a287db45c4": {
      "model_module": "@jupyter-widgets/base",
      "model_module_version": "1.2.0",
      "model_name": "LayoutModel",
      "state": {}
     },
     "c47ab95360554002b8df5947fca761bb": {
      "model_module": "jupyter-matplotlib",
      "model_module_version": "^0.7.4",
      "model_name": "ToolbarModel",
      "state": {
       "layout": "IPY_MODEL_0e58752554f14af5ae5a75fc80dac5f1",
       "toolitems": [
        [
         "Home",
         "Reset original view",
         "home",
         "home"
        ],
        [
         "Back",
         "Back to previous view",
         "arrow-left",
         "back"
        ],
        [
         "Forward",
         "Forward to next view",
         "arrow-right",
         "forward"
        ],
        [
         "Pan",
         "Left button pans, Right button zooms\nx/y fixes axis, CTRL fixes aspect",
         "arrows",
         "pan"
        ],
        [
         "Zoom",
         "Zoom to rectangle\nx/y fixes axis, CTRL fixes aspect",
         "square-o",
         "zoom"
        ],
        [
         "Download",
         "Download plot",
         "floppy-o",
         "save_figure"
        ]
       ]
      }
     },
     "c48069a8cfc64b4d8b807c30d924fa87": {
      "model_module": "jupyter-matplotlib",
      "model_module_version": "^0.7.4",
      "model_name": "ToolbarModel",
      "state": {
       "layout": "IPY_MODEL_db8c65437af24f199cda0c2a17ffc86b",
       "toolitems": [
        [
         "Home",
         "Reset original view",
         "home",
         "home"
        ],
        [
         "Back",
         "Back to previous view",
         "arrow-left",
         "back"
        ],
        [
         "Forward",
         "Forward to next view",
         "arrow-right",
         "forward"
        ],
        [
         "Pan",
         "Left button pans, Right button zooms\nx/y fixes axis, CTRL fixes aspect",
         "arrows",
         "pan"
        ],
        [
         "Zoom",
         "Zoom to rectangle\nx/y fixes axis, CTRL fixes aspect",
         "square-o",
         "zoom"
        ],
        [
         "Download",
         "Download plot",
         "floppy-o",
         "save_figure"
        ]
       ]
      }
     },
     "c510b4d9543f4d29a24f6cfc28e02069": {
      "model_module": "@jupyter-widgets/base",
      "model_module_version": "1.2.0",
      "model_name": "LayoutModel",
      "state": {}
     },
     "c544f542a14a407482c1c1b28fc33bcb": {
      "model_module": "@jupyter-widgets/base",
      "model_module_version": "1.2.0",
      "model_name": "LayoutModel",
      "state": {}
     },
     "c7f251aef790438d90eaa2f407c4880b": {
      "model_module": "jupyter-matplotlib",
      "model_module_version": "^0.7.4",
      "model_name": "ToolbarModel",
      "state": {
       "layout": "IPY_MODEL_45c73415d66349d49d3c1e615cb85c1e",
       "toolitems": [
        [
         "Home",
         "Reset original view",
         "home",
         "home"
        ],
        [
         "Back",
         "Back to previous view",
         "arrow-left",
         "back"
        ],
        [
         "Forward",
         "Forward to next view",
         "arrow-right",
         "forward"
        ],
        [
         "Pan",
         "Left button pans, Right button zooms\nx/y fixes axis, CTRL fixes aspect",
         "arrows",
         "pan"
        ],
        [
         "Zoom",
         "Zoom to rectangle\nx/y fixes axis, CTRL fixes aspect",
         "square-o",
         "zoom"
        ],
        [
         "Download",
         "Download plot",
         "floppy-o",
         "save_figure"
        ]
       ]
      }
     },
     "cbf9216ec41c4ffb8019cb3af7f26ed5": {
      "model_module": "@jupyter-widgets/base",
      "model_module_version": "1.2.0",
      "model_name": "LayoutModel",
      "state": {}
     },
     "ce38c525d5a242858127e60a08123725": {
      "model_module": "@jupyter-widgets/base",
      "model_module_version": "1.2.0",
      "model_name": "LayoutModel",
      "state": {}
     },
     "d01215033ad045c69fd2128c327b4a73": {
      "model_module": "@jupyter-widgets/base",
      "model_module_version": "1.2.0",
      "model_name": "LayoutModel",
      "state": {}
     },
     "d02d41e2fd354c109a4b2f91a1f099d6": {
      "model_module": "@jupyter-widgets/base",
      "model_module_version": "1.2.0",
      "model_name": "LayoutModel",
      "state": {}
     },
     "d2b0f1346dc14e359fa77685188896c0": {
      "model_module": "jupyter-matplotlib",
      "model_module_version": "^0.7.4",
      "model_name": "ToolbarModel",
      "state": {
       "layout": "IPY_MODEL_6234e45b85d54737a85d5133afce964a",
       "toolitems": [
        [
         "Home",
         "Reset original view",
         "home",
         "home"
        ],
        [
         "Back",
         "Back to previous view",
         "arrow-left",
         "back"
        ],
        [
         "Forward",
         "Forward to next view",
         "arrow-right",
         "forward"
        ],
        [
         "Pan",
         "Left button pans, Right button zooms\nx/y fixes axis, CTRL fixes aspect",
         "arrows",
         "pan"
        ],
        [
         "Zoom",
         "Zoom to rectangle\nx/y fixes axis, CTRL fixes aspect",
         "square-o",
         "zoom"
        ],
        [
         "Download",
         "Download plot",
         "floppy-o",
         "save_figure"
        ]
       ]
      }
     },
     "d39a351ce6784107b9bf959b0540c155": {
      "model_module": "@jupyter-widgets/base",
      "model_module_version": "1.2.0",
      "model_name": "LayoutModel",
      "state": {}
     },
     "d3f3759f0a45462cb7e3591b98066ea8": {
      "model_module": "jupyter-matplotlib",
      "model_module_version": "^0.7.4",
      "model_name": "ToolbarModel",
      "state": {
       "layout": "IPY_MODEL_261233246db24f72a2e2cac6379859c0",
       "toolitems": [
        [
         "Home",
         "Reset original view",
         "home",
         "home"
        ],
        [
         "Back",
         "Back to previous view",
         "arrow-left",
         "back"
        ],
        [
         "Forward",
         "Forward to next view",
         "arrow-right",
         "forward"
        ],
        [
         "Pan",
         "Left button pans, Right button zooms\nx/y fixes axis, CTRL fixes aspect",
         "arrows",
         "pan"
        ],
        [
         "Zoom",
         "Zoom to rectangle\nx/y fixes axis, CTRL fixes aspect",
         "square-o",
         "zoom"
        ],
        [
         "Download",
         "Download plot",
         "floppy-o",
         "save_figure"
        ]
       ]
      }
     },
     "d60faffab1bd44ed84477ce4d52f3a57": {
      "model_module": "@jupyter-widgets/base",
      "model_module_version": "1.2.0",
      "model_name": "LayoutModel",
      "state": {}
     },
     "d66bd93c2b654bbea5f9af0cb13acab0": {
      "model_module": "jupyter-matplotlib",
      "model_module_version": "^0.7.4",
      "model_name": "ToolbarModel",
      "state": {
       "layout": "IPY_MODEL_c35dcd8f722041d496ed61a287db45c4",
       "toolitems": [
        [
         "Home",
         "Reset original view",
         "home",
         "home"
        ],
        [
         "Back",
         "Back to previous view",
         "arrow-left",
         "back"
        ],
        [
         "Forward",
         "Forward to next view",
         "arrow-right",
         "forward"
        ],
        [
         "Pan",
         "Left button pans, Right button zooms\nx/y fixes axis, CTRL fixes aspect",
         "arrows",
         "pan"
        ],
        [
         "Zoom",
         "Zoom to rectangle\nx/y fixes axis, CTRL fixes aspect",
         "square-o",
         "zoom"
        ],
        [
         "Download",
         "Download plot",
         "floppy-o",
         "save_figure"
        ]
       ]
      }
     },
     "d92047d7d3b549fd99719d02e6d84c97": {
      "model_module": "@jupyter-widgets/base",
      "model_module_version": "1.2.0",
      "model_name": "LayoutModel",
      "state": {}
     },
     "d98c1762d2664cec9f1c6f37f4eb4938": {
      "model_module": "@jupyter-widgets/base",
      "model_module_version": "1.2.0",
      "model_name": "LayoutModel",
      "state": {}
     },
     "d9b9403f0aa3403480e09a43c929b949": {
      "model_module": "jupyter-matplotlib",
      "model_module_version": "^0.7.4",
      "model_name": "ToolbarModel",
      "state": {
       "layout": "IPY_MODEL_45b10f10ba58465882fa3e6ab7c6d047",
       "toolitems": [
        [
         "Home",
         "Reset original view",
         "home",
         "home"
        ],
        [
         "Back",
         "Back to previous view",
         "arrow-left",
         "back"
        ],
        [
         "Forward",
         "Forward to next view",
         "arrow-right",
         "forward"
        ],
        [
         "Pan",
         "Left button pans, Right button zooms\nx/y fixes axis, CTRL fixes aspect",
         "arrows",
         "pan"
        ],
        [
         "Zoom",
         "Zoom to rectangle\nx/y fixes axis, CTRL fixes aspect",
         "square-o",
         "zoom"
        ],
        [
         "Download",
         "Download plot",
         "floppy-o",
         "save_figure"
        ]
       ]
      }
     },
     "d9bc52de200f43a6a0edfdcc2a58e092": {
      "model_module": "@jupyter-widgets/base",
      "model_module_version": "1.2.0",
      "model_name": "LayoutModel",
      "state": {}
     },
     "db62cda1ed3042e4a2cdc59351c1d6e6": {
      "model_module": "@jupyter-widgets/base",
      "model_module_version": "1.2.0",
      "model_name": "LayoutModel",
      "state": {}
     },
     "db8c65437af24f199cda0c2a17ffc86b": {
      "model_module": "@jupyter-widgets/base",
      "model_module_version": "1.2.0",
      "model_name": "LayoutModel",
      "state": {}
     },
     "dc6e30dade7a431083f87737300bd678": {
      "model_module": "jupyter-matplotlib",
      "model_module_version": "^0.7.4",
      "model_name": "ToolbarModel",
      "state": {
       "layout": "IPY_MODEL_13fcbb4f2dca417292c0c6ee69b60b28",
       "toolitems": [
        [
         "Home",
         "Reset original view",
         "home",
         "home"
        ],
        [
         "Back",
         "Back to previous view",
         "arrow-left",
         "back"
        ],
        [
         "Forward",
         "Forward to next view",
         "arrow-right",
         "forward"
        ],
        [
         "Pan",
         "Left button pans, Right button zooms\nx/y fixes axis, CTRL fixes aspect",
         "arrows",
         "pan"
        ],
        [
         "Zoom",
         "Zoom to rectangle\nx/y fixes axis, CTRL fixes aspect",
         "square-o",
         "zoom"
        ],
        [
         "Download",
         "Download plot",
         "floppy-o",
         "save_figure"
        ]
       ]
      }
     },
     "ddc717a530e647fb83ef6c4e38e24812": {
      "model_module": "@jupyter-widgets/base",
      "model_module_version": "1.2.0",
      "model_name": "LayoutModel",
      "state": {}
     },
     "de1ada86b67341de9779443d05a50510": {
      "model_module": "@jupyter-widgets/base",
      "model_module_version": "1.2.0",
      "model_name": "LayoutModel",
      "state": {}
     },
     "de6b90ecb27841a89271b15f854ca533": {
      "model_module": "@jupyter-widgets/base",
      "model_module_version": "1.2.0",
      "model_name": "LayoutModel",
      "state": {}
     },
     "e18824f687d34dcb944241f7ad6e352e": {
      "model_module": "jupyter-matplotlib",
      "model_module_version": "^0.7.4",
      "model_name": "ToolbarModel",
      "state": {
       "layout": "IPY_MODEL_e7af3ea435d64db4a9a86dc8886b738f",
       "toolitems": [
        [
         "Home",
         "Reset original view",
         "home",
         "home"
        ],
        [
         "Back",
         "Back to previous view",
         "arrow-left",
         "back"
        ],
        [
         "Forward",
         "Forward to next view",
         "arrow-right",
         "forward"
        ],
        [
         "Pan",
         "Left button pans, Right button zooms\nx/y fixes axis, CTRL fixes aspect",
         "arrows",
         "pan"
        ],
        [
         "Zoom",
         "Zoom to rectangle\nx/y fixes axis, CTRL fixes aspect",
         "square-o",
         "zoom"
        ],
        [
         "Download",
         "Download plot",
         "floppy-o",
         "save_figure"
        ]
       ]
      }
     },
     "e3509b3752e243d08432e0b1780476a9": {
      "model_module": "@jupyter-widgets/base",
      "model_module_version": "1.2.0",
      "model_name": "LayoutModel",
      "state": {}
     },
     "e379b0f4018845de8aab426288b518eb": {
      "model_module": "jupyter-matplotlib",
      "model_module_version": "^0.7.4",
      "model_name": "ToolbarModel",
      "state": {
       "layout": "IPY_MODEL_79674751a6ae40ceb060357ab9d59235",
       "toolitems": [
        [
         "Home",
         "Reset original view",
         "home",
         "home"
        ],
        [
         "Back",
         "Back to previous view",
         "arrow-left",
         "back"
        ],
        [
         "Forward",
         "Forward to next view",
         "arrow-right",
         "forward"
        ],
        [
         "Pan",
         "Left button pans, Right button zooms\nx/y fixes axis, CTRL fixes aspect",
         "arrows",
         "pan"
        ],
        [
         "Zoom",
         "Zoom to rectangle\nx/y fixes axis, CTRL fixes aspect",
         "square-o",
         "zoom"
        ],
        [
         "Download",
         "Download plot",
         "floppy-o",
         "save_figure"
        ]
       ]
      }
     },
     "e3de788b04fd43528848ebdddeda14f3": {
      "model_module": "@jupyter-widgets/base",
      "model_module_version": "1.2.0",
      "model_name": "LayoutModel",
      "state": {}
     },
     "e721449611e443a2b3bb871bbfbaa6dd": {
      "model_module": "jupyter-matplotlib",
      "model_module_version": "^0.7.4",
      "model_name": "ToolbarModel",
      "state": {
       "layout": "IPY_MODEL_d9bc52de200f43a6a0edfdcc2a58e092",
       "toolitems": [
        [
         "Home",
         "Reset original view",
         "home",
         "home"
        ],
        [
         "Back",
         "Back to previous view",
         "arrow-left",
         "back"
        ],
        [
         "Forward",
         "Forward to next view",
         "arrow-right",
         "forward"
        ],
        [
         "Pan",
         "Left button pans, Right button zooms\nx/y fixes axis, CTRL fixes aspect",
         "arrows",
         "pan"
        ],
        [
         "Zoom",
         "Zoom to rectangle\nx/y fixes axis, CTRL fixes aspect",
         "square-o",
         "zoom"
        ],
        [
         "Download",
         "Download plot",
         "floppy-o",
         "save_figure"
        ]
       ]
      }
     },
     "e7af3ea435d64db4a9a86dc8886b738f": {
      "model_module": "@jupyter-widgets/base",
      "model_module_version": "1.2.0",
      "model_name": "LayoutModel",
      "state": {}
     },
     "e81f5141b8354918bdd013acd9e09a69": {
      "model_module": "@jupyter-widgets/base",
      "model_module_version": "1.2.0",
      "model_name": "LayoutModel",
      "state": {}
     },
     "e911f5243ac34b81af0ba72c0c21328e": {
      "model_module": "@jupyter-widgets/base",
      "model_module_version": "1.2.0",
      "model_name": "LayoutModel",
      "state": {}
     },
     "e934ca6a38ca44199d6ce42da4e4cc3c": {
      "model_module": "@jupyter-widgets/base",
      "model_module_version": "1.2.0",
      "model_name": "LayoutModel",
      "state": {}
     },
     "ea53b112a45a4a488c749d0047036f79": {
      "model_module": "@jupyter-widgets/base",
      "model_module_version": "1.2.0",
      "model_name": "LayoutModel",
      "state": {}
     },
     "ec012c95bfb74b7782085cb3c5aae435": {
      "model_module": "@jupyter-widgets/base",
      "model_module_version": "1.2.0",
      "model_name": "LayoutModel",
      "state": {}
     },
     "ece0ba50c9ee474ca16fd6dc6ef8fec8": {
      "model_module": "jupyter-matplotlib",
      "model_module_version": "^0.7.4",
      "model_name": "ToolbarModel",
      "state": {
       "layout": "IPY_MODEL_0399596538e14a0a8d2fbd1d71299c48",
       "toolitems": [
        [
         "Home",
         "Reset original view",
         "home",
         "home"
        ],
        [
         "Back",
         "Back to previous view",
         "arrow-left",
         "back"
        ],
        [
         "Forward",
         "Forward to next view",
         "arrow-right",
         "forward"
        ],
        [
         "Pan",
         "Left button pans, Right button zooms\nx/y fixes axis, CTRL fixes aspect",
         "arrows",
         "pan"
        ],
        [
         "Zoom",
         "Zoom to rectangle\nx/y fixes axis, CTRL fixes aspect",
         "square-o",
         "zoom"
        ],
        [
         "Download",
         "Download plot",
         "floppy-o",
         "save_figure"
        ]
       ]
      }
     },
     "ef5f3645e5a54cd1b0a8d07d03cde78a": {
      "model_module": "@jupyter-widgets/base",
      "model_module_version": "1.2.0",
      "model_name": "LayoutModel",
      "state": {}
     },
     "f1f02ea005154d4d92a2e7e79b4d30cd": {
      "model_module": "@jupyter-widgets/base",
      "model_module_version": "1.2.0",
      "model_name": "LayoutModel",
      "state": {}
     },
     "f22398eb661447499734a09fe4e12539": {
      "model_module": "@jupyter-widgets/base",
      "model_module_version": "1.2.0",
      "model_name": "LayoutModel",
      "state": {}
     },
     "f2b3de4a13f2406297a4dbcee3ab6536": {
      "model_module": "@jupyter-widgets/base",
      "model_module_version": "1.2.0",
      "model_name": "LayoutModel",
      "state": {}
     },
     "f48b06434a9d4681bb73a15e452edd12": {
      "model_module": "jupyter-matplotlib",
      "model_module_version": "^0.7.4",
      "model_name": "ToolbarModel",
      "state": {
       "layout": "IPY_MODEL_ec012c95bfb74b7782085cb3c5aae435",
       "toolitems": [
        [
         "Home",
         "Reset original view",
         "home",
         "home"
        ],
        [
         "Back",
         "Back to previous view",
         "arrow-left",
         "back"
        ],
        [
         "Forward",
         "Forward to next view",
         "arrow-right",
         "forward"
        ],
        [
         "Pan",
         "Left button pans, Right button zooms\nx/y fixes axis, CTRL fixes aspect",
         "arrows",
         "pan"
        ],
        [
         "Zoom",
         "Zoom to rectangle\nx/y fixes axis, CTRL fixes aspect",
         "square-o",
         "zoom"
        ],
        [
         "Download",
         "Download plot",
         "floppy-o",
         "save_figure"
        ]
       ]
      }
     },
     "f496be89ad1f485e8de8e710a12caef8": {
      "model_module": "@jupyter-widgets/base",
      "model_module_version": "1.2.0",
      "model_name": "LayoutModel",
      "state": {}
     },
     "f56fa9bf143744a78471dc57a45827f9": {
      "model_module": "jupyter-matplotlib",
      "model_module_version": "^0.7.4",
      "model_name": "ToolbarModel",
      "state": {
       "layout": "IPY_MODEL_99293013eea34e418397c56277d748c3",
       "toolitems": [
        [
         "Home",
         "Reset original view",
         "home",
         "home"
        ],
        [
         "Back",
         "Back to previous view",
         "arrow-left",
         "back"
        ],
        [
         "Forward",
         "Forward to next view",
         "arrow-right",
         "forward"
        ],
        [
         "Pan",
         "Left button pans, Right button zooms\nx/y fixes axis, CTRL fixes aspect",
         "arrows",
         "pan"
        ],
        [
         "Zoom",
         "Zoom to rectangle\nx/y fixes axis, CTRL fixes aspect",
         "square-o",
         "zoom"
        ],
        [
         "Download",
         "Download plot",
         "floppy-o",
         "save_figure"
        ]
       ]
      }
     },
     "f65ff1af9d88429aa64a9b9e5f1e3fae": {
      "model_module": "jupyter-matplotlib",
      "model_module_version": "^0.7.4",
      "model_name": "ToolbarModel",
      "state": {
       "layout": "IPY_MODEL_2b710ae809a940f98e3fbe8c84cde306",
       "toolitems": [
        [
         "Home",
         "Reset original view",
         "home",
         "home"
        ],
        [
         "Back",
         "Back to previous view",
         "arrow-left",
         "back"
        ],
        [
         "Forward",
         "Forward to next view",
         "arrow-right",
         "forward"
        ],
        [
         "Pan",
         "Left button pans, Right button zooms\nx/y fixes axis, CTRL fixes aspect",
         "arrows",
         "pan"
        ],
        [
         "Zoom",
         "Zoom to rectangle\nx/y fixes axis, CTRL fixes aspect",
         "square-o",
         "zoom"
        ],
        [
         "Download",
         "Download plot",
         "floppy-o",
         "save_figure"
        ]
       ]
      }
     },
     "f867f1aa0a354bd99b0c363423bcc17e": {
      "model_module": "@jupyter-widgets/base",
      "model_module_version": "1.2.0",
      "model_name": "LayoutModel",
      "state": {}
     },
     "f8a7e5d863f54201b1c87666d1b575a7": {
      "model_module": "jupyter-matplotlib",
      "model_module_version": "^0.7.4",
      "model_name": "ToolbarModel",
      "state": {
       "layout": "IPY_MODEL_3568650e9d324468bbda1168371020ee",
       "toolitems": [
        [
         "Home",
         "Reset original view",
         "home",
         "home"
        ],
        [
         "Back",
         "Back to previous view",
         "arrow-left",
         "back"
        ],
        [
         "Forward",
         "Forward to next view",
         "arrow-right",
         "forward"
        ],
        [
         "Pan",
         "Left button pans, Right button zooms\nx/y fixes axis, CTRL fixes aspect",
         "arrows",
         "pan"
        ],
        [
         "Zoom",
         "Zoom to rectangle\nx/y fixes axis, CTRL fixes aspect",
         "square-o",
         "zoom"
        ],
        [
         "Download",
         "Download plot",
         "floppy-o",
         "save_figure"
        ]
       ]
      }
     },
     "f925434a972741b89b3de169309acc04": {
      "model_module": "@jupyter-widgets/base",
      "model_module_version": "1.2.0",
      "model_name": "LayoutModel",
      "state": {}
     },
     "fc686d8d11ce40d8a1670ace5fd90ae9": {
      "model_module": "@jupyter-widgets/base",
      "model_module_version": "1.2.0",
      "model_name": "LayoutModel",
      "state": {}
     },
     "fc86d29380924344bf6ebe57d6859fa1": {
      "model_module": "jupyter-matplotlib",
      "model_module_version": "^0.7.4",
      "model_name": "ToolbarModel",
      "state": {
       "layout": "IPY_MODEL_9aad631d29274f9da6636fb52db1ebcc",
       "toolitems": [
        [
         "Home",
         "Reset original view",
         "home",
         "home"
        ],
        [
         "Back",
         "Back to previous view",
         "arrow-left",
         "back"
        ],
        [
         "Forward",
         "Forward to next view",
         "arrow-right",
         "forward"
        ],
        [
         "Pan",
         "Left button pans, Right button zooms\nx/y fixes axis, CTRL fixes aspect",
         "arrows",
         "pan"
        ],
        [
         "Zoom",
         "Zoom to rectangle\nx/y fixes axis, CTRL fixes aspect",
         "square-o",
         "zoom"
        ],
        [
         "Download",
         "Download plot",
         "floppy-o",
         "save_figure"
        ]
       ]
      }
     },
     "fcd1766e316f417d8c9014f79e2873dd": {
      "model_module": "@jupyter-widgets/base",
      "model_module_version": "1.2.0",
      "model_name": "LayoutModel",
      "state": {}
     },
     "fe14ed6df42b4d6bb36c439aa0598106": {
      "model_module": "jupyter-matplotlib",
      "model_module_version": "^0.7.4",
      "model_name": "ToolbarModel",
      "state": {
       "layout": "IPY_MODEL_9b3bea51a298407c8c67e82cef3be27b",
       "toolitems": [
        [
         "Home",
         "Reset original view",
         "home",
         "home"
        ],
        [
         "Back",
         "Back to previous view",
         "arrow-left",
         "back"
        ],
        [
         "Forward",
         "Forward to next view",
         "arrow-right",
         "forward"
        ],
        [
         "Pan",
         "Left button pans, Right button zooms\nx/y fixes axis, CTRL fixes aspect",
         "arrows",
         "pan"
        ],
        [
         "Zoom",
         "Zoom to rectangle\nx/y fixes axis, CTRL fixes aspect",
         "square-o",
         "zoom"
        ],
        [
         "Download",
         "Download plot",
         "floppy-o",
         "save_figure"
        ]
       ]
      }
     },
     "ffa38fd072454aa9a2f3ab7c63cd9189": {
      "model_module": "@jupyter-widgets/base",
      "model_module_version": "1.2.0",
      "model_name": "LayoutModel",
      "state": {}
     }
    },
    "version_major": 2,
    "version_minor": 0
   }
  }
 },
 "nbformat": 4,
 "nbformat_minor": 4
}
